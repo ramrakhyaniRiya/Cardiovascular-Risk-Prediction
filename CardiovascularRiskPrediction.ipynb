{
  "nbformat": 4,
  "nbformat_minor": 0,
  "metadata": {
    "colab": {
      "name": "CardiovascularRiskPrediction.ipynb",
      "provenance": [],
      "collapsed_sections": [],
      "authorship_tag": "ABX9TyN67W/kl1LkarT7uai1O+cv",
      "include_colab_link": true
    },
    "kernelspec": {
      "name": "python3",
      "display_name": "Python 3"
    },
    "language_info": {
      "name": "python"
    }
  },
  "cells": [
    {
      "cell_type": "markdown",
      "metadata": {
        "id": "view-in-github",
        "colab_type": "text"
      },
      "source": [
        "<a href=\"https://colab.research.google.com/github/ramrakhyaniRiya/Cardiovascular-Risk-Prediction/blob/main/CardiovascularRiskPrediction.ipynb\" target=\"_parent\"><img src=\"https://colab.research.google.com/assets/colab-badge.svg\" alt=\"Open In Colab\"/></a>"
      ]
    },
    {
      "cell_type": "markdown",
      "source": [
        "# ***`Cardiovascular Risk Prediction Project`***\n",
        "\n"
      ],
      "metadata": {
        "id": "az8CkLwqI04S"
      }
    },
    {
      "cell_type": "markdown",
      "source": [
        "***The dataset is from an ongoing cardiovascular study on residents of the town of Framingham,\n",
        "Massachusetts. The classification goal is to predict whether the patient has a 10-year risk of\n",
        "future coronary heart disease (CHD). The dataset provides the patients’ information. It includes\n",
        "over 4,000 records and 15 attributes.***"
      ],
      "metadata": {
        "id": "dwT5dQJTJCQk"
      }
    },
    {
      "cell_type": "markdown",
      "source": [
        "# ***`Data Description`***"
      ],
      "metadata": {
        "id": "lzuQIxiFJH2C"
      }
    },
    {
      "cell_type": "markdown",
      "source": [
        "# Variables :\n",
        "\n",
        "Each attribute is a potential risk factor. There are both demographic, behavioral, and medical risk factors.\n",
        "\n",
        "Demographic:\n",
        "\n",
        "• Sex: male or female(\"M\" or \"F\")\n",
        "\n",
        "• Age: Age of the patient;(Continuous - Although the recorded ages have been truncated to whole numbers, the concept of age is continuous)\n",
        "\n",
        "Behavioral :\n",
        "\n",
        "• is_smoking: whether or not the patient is a current smoker (\"YES\" or \"NO\")\n",
        "\n",
        "• Cigs Per Day: the number of cigarettes that the person smoked on average in one day.(can be considered continuous as one can have any number of cigarettes, even half a cigarette.)\n",
        "\n",
        "Medical( history)\n",
        "\n",
        "• BP Meds: whether or not the patient was on blood pressure medication (Nominal)\n",
        "\n",
        "• Prevalent Stroke: whether or not the patient had previously had a stroke (Nominal)\n",
        "\n",
        "• Prevalent Hyp: whether or not the patient was hypertensive (Nominal)\n",
        "\n",
        "• Diabetes: whether or not the patient had diabetes (Nominal)\n",
        "\n",
        "Medical(current)\n",
        "\n",
        "• Tot Chol: total cholesterol level (Continuous)\n",
        "\n",
        "• Sys BP: systolic blood pressure (Continuous)\n",
        "\n",
        "• Dia BP: diastolic blood pressure (Continuous)\n",
        "\n",
        "• BMI: Body Mass Index (Continuous)\n",
        "\n",
        "• Heart Rate: heart rate (Continuous - In medical research, variables such as heart rate though in fact discrete, yet are considered continuous because of large number of possible values.)\n",
        "\n",
        "• Glucose: glucose level (Continuous)\n",
        "\n",
        "•Predict variable (desired target)\n",
        "\n",
        "10-year risk of coronary heart disease CHD(binary: “1”, means “Yes”, “0” means “No”) - Dv\n",
        "\n",
        "*"
      ],
      "metadata": {
        "id": "JwQImUZZJkEL"
      }
    },
    {
      "cell_type": "markdown",
      "source": [
        "# **Connecting to Drive**"
      ],
      "metadata": {
        "id": "PJ38WUd2Jt6x"
      }
    },
    {
      "cell_type": "code",
      "source": [
        "from google.colab import drive\n",
        "drive.mount('/content/drive')"
      ],
      "metadata": {
        "colab": {
          "base_uri": "https://localhost:8080/"
        },
        "id": "kOyxsLf667XD",
        "outputId": "7e0f100a-2e28-4680-e495-620201de54cf"
      },
      "execution_count": null,
      "outputs": [
        {
          "output_type": "stream",
          "name": "stdout",
          "text": [
            "Mounted at /content/drive\n"
          ]
        }
      ]
    },
    {
      "cell_type": "markdown",
      "source": [
        "# ***Importing essential libraries***"
      ],
      "metadata": {
        "id": "jPOyNaMOJ1Uz"
      }
    },
    {
      "cell_type": "code",
      "source": [
        "import numpy as np\n",
        "import pandas as pd\n",
        "import matplotlib.pyplot as plt\n",
        "import seaborn as sns\n"
      ],
      "metadata": {
        "id": "fHEVigM-HMtm"
      },
      "execution_count": null,
      "outputs": []
    },
    {
      "cell_type": "markdown",
      "source": [
        "# ***Loading dataset***"
      ],
      "metadata": {
        "id": "AKuwoXV_KLL3"
      }
    },
    {
      "cell_type": "code",
      "source": [
        "df=pd.read_csv('/content/drive/MyDrive/Classification Capstone Project/data_cardiovascular_risk.csv')"
      ],
      "metadata": {
        "id": "WE1U08mq68na"
      },
      "execution_count": null,
      "outputs": []
    },
    {
      "cell_type": "markdown",
      "source": [
        "## ***Data summery***"
      ],
      "metadata": {
        "id": "jaalyztBKWgC"
      }
    },
    {
      "cell_type": "code",
      "source": [
        "df.head()"
      ],
      "metadata": {
        "colab": {
          "base_uri": "https://localhost:8080/",
          "height": 270
        },
        "id": "h20t_WHGKZtp",
        "outputId": "606a019c-b0eb-450b-8552-24a11408e41f"
      },
      "execution_count": null,
      "outputs": [
        {
          "output_type": "execute_result",
          "data": {
            "text/plain": [
              "   id  age  education sex is_smoking  cigsPerDay  BPMeds  prevalentStroke  \\\n",
              "0   0   64        2.0   F        YES         3.0     0.0                0   \n",
              "1   1   36        4.0   M         NO         0.0     0.0                0   \n",
              "2   2   46        1.0   F        YES        10.0     0.0                0   \n",
              "3   3   50        1.0   M        YES        20.0     0.0                0   \n",
              "4   4   64        1.0   F        YES        30.0     0.0                0   \n",
              "\n",
              "   prevalentHyp  diabetes  totChol  sysBP  diaBP    BMI  heartRate  glucose  \\\n",
              "0             0         0    221.0  148.0   85.0    NaN       90.0     80.0   \n",
              "1             1         0    212.0  168.0   98.0  29.77       72.0     75.0   \n",
              "2             0         0    250.0  116.0   71.0  20.35       88.0     94.0   \n",
              "3             1         0    233.0  158.0   88.0  28.26       68.0     94.0   \n",
              "4             0         0    241.0  136.5   85.0  26.42       70.0     77.0   \n",
              "\n",
              "   TenYearCHD  \n",
              "0           1  \n",
              "1           0  \n",
              "2           0  \n",
              "3           1  \n",
              "4           0  "
            ],
            "text/html": [
              "\n",
              "  <div id=\"df-de11dbed-d352-435f-942b-369c31f6380f\">\n",
              "    <div class=\"colab-df-container\">\n",
              "      <div>\n",
              "<style scoped>\n",
              "    .dataframe tbody tr th:only-of-type {\n",
              "        vertical-align: middle;\n",
              "    }\n",
              "\n",
              "    .dataframe tbody tr th {\n",
              "        vertical-align: top;\n",
              "    }\n",
              "\n",
              "    .dataframe thead th {\n",
              "        text-align: right;\n",
              "    }\n",
              "</style>\n",
              "<table border=\"1\" class=\"dataframe\">\n",
              "  <thead>\n",
              "    <tr style=\"text-align: right;\">\n",
              "      <th></th>\n",
              "      <th>id</th>\n",
              "      <th>age</th>\n",
              "      <th>education</th>\n",
              "      <th>sex</th>\n",
              "      <th>is_smoking</th>\n",
              "      <th>cigsPerDay</th>\n",
              "      <th>BPMeds</th>\n",
              "      <th>prevalentStroke</th>\n",
              "      <th>prevalentHyp</th>\n",
              "      <th>diabetes</th>\n",
              "      <th>totChol</th>\n",
              "      <th>sysBP</th>\n",
              "      <th>diaBP</th>\n",
              "      <th>BMI</th>\n",
              "      <th>heartRate</th>\n",
              "      <th>glucose</th>\n",
              "      <th>TenYearCHD</th>\n",
              "    </tr>\n",
              "  </thead>\n",
              "  <tbody>\n",
              "    <tr>\n",
              "      <th>0</th>\n",
              "      <td>0</td>\n",
              "      <td>64</td>\n",
              "      <td>2.0</td>\n",
              "      <td>F</td>\n",
              "      <td>YES</td>\n",
              "      <td>3.0</td>\n",
              "      <td>0.0</td>\n",
              "      <td>0</td>\n",
              "      <td>0</td>\n",
              "      <td>0</td>\n",
              "      <td>221.0</td>\n",
              "      <td>148.0</td>\n",
              "      <td>85.0</td>\n",
              "      <td>NaN</td>\n",
              "      <td>90.0</td>\n",
              "      <td>80.0</td>\n",
              "      <td>1</td>\n",
              "    </tr>\n",
              "    <tr>\n",
              "      <th>1</th>\n",
              "      <td>1</td>\n",
              "      <td>36</td>\n",
              "      <td>4.0</td>\n",
              "      <td>M</td>\n",
              "      <td>NO</td>\n",
              "      <td>0.0</td>\n",
              "      <td>0.0</td>\n",
              "      <td>0</td>\n",
              "      <td>1</td>\n",
              "      <td>0</td>\n",
              "      <td>212.0</td>\n",
              "      <td>168.0</td>\n",
              "      <td>98.0</td>\n",
              "      <td>29.77</td>\n",
              "      <td>72.0</td>\n",
              "      <td>75.0</td>\n",
              "      <td>0</td>\n",
              "    </tr>\n",
              "    <tr>\n",
              "      <th>2</th>\n",
              "      <td>2</td>\n",
              "      <td>46</td>\n",
              "      <td>1.0</td>\n",
              "      <td>F</td>\n",
              "      <td>YES</td>\n",
              "      <td>10.0</td>\n",
              "      <td>0.0</td>\n",
              "      <td>0</td>\n",
              "      <td>0</td>\n",
              "      <td>0</td>\n",
              "      <td>250.0</td>\n",
              "      <td>116.0</td>\n",
              "      <td>71.0</td>\n",
              "      <td>20.35</td>\n",
              "      <td>88.0</td>\n",
              "      <td>94.0</td>\n",
              "      <td>0</td>\n",
              "    </tr>\n",
              "    <tr>\n",
              "      <th>3</th>\n",
              "      <td>3</td>\n",
              "      <td>50</td>\n",
              "      <td>1.0</td>\n",
              "      <td>M</td>\n",
              "      <td>YES</td>\n",
              "      <td>20.0</td>\n",
              "      <td>0.0</td>\n",
              "      <td>0</td>\n",
              "      <td>1</td>\n",
              "      <td>0</td>\n",
              "      <td>233.0</td>\n",
              "      <td>158.0</td>\n",
              "      <td>88.0</td>\n",
              "      <td>28.26</td>\n",
              "      <td>68.0</td>\n",
              "      <td>94.0</td>\n",
              "      <td>1</td>\n",
              "    </tr>\n",
              "    <tr>\n",
              "      <th>4</th>\n",
              "      <td>4</td>\n",
              "      <td>64</td>\n",
              "      <td>1.0</td>\n",
              "      <td>F</td>\n",
              "      <td>YES</td>\n",
              "      <td>30.0</td>\n",
              "      <td>0.0</td>\n",
              "      <td>0</td>\n",
              "      <td>0</td>\n",
              "      <td>0</td>\n",
              "      <td>241.0</td>\n",
              "      <td>136.5</td>\n",
              "      <td>85.0</td>\n",
              "      <td>26.42</td>\n",
              "      <td>70.0</td>\n",
              "      <td>77.0</td>\n",
              "      <td>0</td>\n",
              "    </tr>\n",
              "  </tbody>\n",
              "</table>\n",
              "</div>\n",
              "      <button class=\"colab-df-convert\" onclick=\"convertToInteractive('df-de11dbed-d352-435f-942b-369c31f6380f')\"\n",
              "              title=\"Convert this dataframe to an interactive table.\"\n",
              "              style=\"display:none;\">\n",
              "        \n",
              "  <svg xmlns=\"http://www.w3.org/2000/svg\" height=\"24px\"viewBox=\"0 0 24 24\"\n",
              "       width=\"24px\">\n",
              "    <path d=\"M0 0h24v24H0V0z\" fill=\"none\"/>\n",
              "    <path d=\"M18.56 5.44l.94 2.06.94-2.06 2.06-.94-2.06-.94-.94-2.06-.94 2.06-2.06.94zm-11 1L8.5 8.5l.94-2.06 2.06-.94-2.06-.94L8.5 2.5l-.94 2.06-2.06.94zm10 10l.94 2.06.94-2.06 2.06-.94-2.06-.94-.94-2.06-.94 2.06-2.06.94z\"/><path d=\"M17.41 7.96l-1.37-1.37c-.4-.4-.92-.59-1.43-.59-.52 0-1.04.2-1.43.59L10.3 9.45l-7.72 7.72c-.78.78-.78 2.05 0 2.83L4 21.41c.39.39.9.59 1.41.59.51 0 1.02-.2 1.41-.59l7.78-7.78 2.81-2.81c.8-.78.8-2.07 0-2.86zM5.41 20L4 18.59l7.72-7.72 1.47 1.35L5.41 20z\"/>\n",
              "  </svg>\n",
              "      </button>\n",
              "      \n",
              "  <style>\n",
              "    .colab-df-container {\n",
              "      display:flex;\n",
              "      flex-wrap:wrap;\n",
              "      gap: 12px;\n",
              "    }\n",
              "\n",
              "    .colab-df-convert {\n",
              "      background-color: #E8F0FE;\n",
              "      border: none;\n",
              "      border-radius: 50%;\n",
              "      cursor: pointer;\n",
              "      display: none;\n",
              "      fill: #1967D2;\n",
              "      height: 32px;\n",
              "      padding: 0 0 0 0;\n",
              "      width: 32px;\n",
              "    }\n",
              "\n",
              "    .colab-df-convert:hover {\n",
              "      background-color: #E2EBFA;\n",
              "      box-shadow: 0px 1px 2px rgba(60, 64, 67, 0.3), 0px 1px 3px 1px rgba(60, 64, 67, 0.15);\n",
              "      fill: #174EA6;\n",
              "    }\n",
              "\n",
              "    [theme=dark] .colab-df-convert {\n",
              "      background-color: #3B4455;\n",
              "      fill: #D2E3FC;\n",
              "    }\n",
              "\n",
              "    [theme=dark] .colab-df-convert:hover {\n",
              "      background-color: #434B5C;\n",
              "      box-shadow: 0px 1px 3px 1px rgba(0, 0, 0, 0.15);\n",
              "      filter: drop-shadow(0px 1px 2px rgba(0, 0, 0, 0.3));\n",
              "      fill: #FFFFFF;\n",
              "    }\n",
              "  </style>\n",
              "\n",
              "      <script>\n",
              "        const buttonEl =\n",
              "          document.querySelector('#df-de11dbed-d352-435f-942b-369c31f6380f button.colab-df-convert');\n",
              "        buttonEl.style.display =\n",
              "          google.colab.kernel.accessAllowed ? 'block' : 'none';\n",
              "\n",
              "        async function convertToInteractive(key) {\n",
              "          const element = document.querySelector('#df-de11dbed-d352-435f-942b-369c31f6380f');\n",
              "          const dataTable =\n",
              "            await google.colab.kernel.invokeFunction('convertToInteractive',\n",
              "                                                     [key], {});\n",
              "          if (!dataTable) return;\n",
              "\n",
              "          const docLinkHtml = 'Like what you see? Visit the ' +\n",
              "            '<a target=\"_blank\" href=https://colab.research.google.com/notebooks/data_table.ipynb>data table notebook</a>'\n",
              "            + ' to learn more about interactive tables.';\n",
              "          element.innerHTML = '';\n",
              "          dataTable['output_type'] = 'display_data';\n",
              "          await google.colab.output.renderOutput(dataTable, element);\n",
              "          const docLink = document.createElement('div');\n",
              "          docLink.innerHTML = docLinkHtml;\n",
              "          element.appendChild(docLink);\n",
              "        }\n",
              "      </script>\n",
              "    </div>\n",
              "  </div>\n",
              "  "
            ]
          },
          "metadata": {},
          "execution_count": 4
        }
      ]
    },
    {
      "cell_type": "code",
      "source": [
        "df.tail()"
      ],
      "metadata": {
        "colab": {
          "base_uri": "https://localhost:8080/",
          "height": 270
        },
        "id": "FIRwnIEjivoM",
        "outputId": "647cae95-b822-4fae-8c15-0ebea1ce1a9e"
      },
      "execution_count": null,
      "outputs": [
        {
          "output_type": "execute_result",
          "data": {
            "text/plain": [
              "        id  age  education sex is_smoking  cigsPerDay  BPMeds  \\\n",
              "3385  3385   60        1.0   F         NO         0.0     0.0   \n",
              "3386  3386   46        1.0   F         NO         0.0     0.0   \n",
              "3387  3387   44        3.0   M        YES         3.0     0.0   \n",
              "3388  3388   60        1.0   M         NO         0.0     NaN   \n",
              "3389  3389   54        3.0   F         NO         0.0     0.0   \n",
              "\n",
              "      prevalentStroke  prevalentHyp  diabetes  totChol  sysBP  diaBP    BMI  \\\n",
              "3385                0             0         0    261.0  123.5   79.0  29.28   \n",
              "3386                0             0         0    199.0  102.0   56.0  21.96   \n",
              "3387                0             1         0    352.0  164.0  119.0  28.92   \n",
              "3388                0             1         0    191.0  167.0  105.0  23.01   \n",
              "3389                0             0         0    288.0  124.0   77.0  29.88   \n",
              "\n",
              "      heartRate  glucose  TenYearCHD  \n",
              "3385       70.0    103.0           0  \n",
              "3386       80.0     84.0           0  \n",
              "3387       73.0     72.0           1  \n",
              "3388       80.0     85.0           0  \n",
              "3389       79.0     92.0           0  "
            ],
            "text/html": [
              "\n",
              "  <div id=\"df-1271658e-e273-4891-aae4-5d4ceef62e4c\">\n",
              "    <div class=\"colab-df-container\">\n",
              "      <div>\n",
              "<style scoped>\n",
              "    .dataframe tbody tr th:only-of-type {\n",
              "        vertical-align: middle;\n",
              "    }\n",
              "\n",
              "    .dataframe tbody tr th {\n",
              "        vertical-align: top;\n",
              "    }\n",
              "\n",
              "    .dataframe thead th {\n",
              "        text-align: right;\n",
              "    }\n",
              "</style>\n",
              "<table border=\"1\" class=\"dataframe\">\n",
              "  <thead>\n",
              "    <tr style=\"text-align: right;\">\n",
              "      <th></th>\n",
              "      <th>id</th>\n",
              "      <th>age</th>\n",
              "      <th>education</th>\n",
              "      <th>sex</th>\n",
              "      <th>is_smoking</th>\n",
              "      <th>cigsPerDay</th>\n",
              "      <th>BPMeds</th>\n",
              "      <th>prevalentStroke</th>\n",
              "      <th>prevalentHyp</th>\n",
              "      <th>diabetes</th>\n",
              "      <th>totChol</th>\n",
              "      <th>sysBP</th>\n",
              "      <th>diaBP</th>\n",
              "      <th>BMI</th>\n",
              "      <th>heartRate</th>\n",
              "      <th>glucose</th>\n",
              "      <th>TenYearCHD</th>\n",
              "    </tr>\n",
              "  </thead>\n",
              "  <tbody>\n",
              "    <tr>\n",
              "      <th>3385</th>\n",
              "      <td>3385</td>\n",
              "      <td>60</td>\n",
              "      <td>1.0</td>\n",
              "      <td>F</td>\n",
              "      <td>NO</td>\n",
              "      <td>0.0</td>\n",
              "      <td>0.0</td>\n",
              "      <td>0</td>\n",
              "      <td>0</td>\n",
              "      <td>0</td>\n",
              "      <td>261.0</td>\n",
              "      <td>123.5</td>\n",
              "      <td>79.0</td>\n",
              "      <td>29.28</td>\n",
              "      <td>70.0</td>\n",
              "      <td>103.0</td>\n",
              "      <td>0</td>\n",
              "    </tr>\n",
              "    <tr>\n",
              "      <th>3386</th>\n",
              "      <td>3386</td>\n",
              "      <td>46</td>\n",
              "      <td>1.0</td>\n",
              "      <td>F</td>\n",
              "      <td>NO</td>\n",
              "      <td>0.0</td>\n",
              "      <td>0.0</td>\n",
              "      <td>0</td>\n",
              "      <td>0</td>\n",
              "      <td>0</td>\n",
              "      <td>199.0</td>\n",
              "      <td>102.0</td>\n",
              "      <td>56.0</td>\n",
              "      <td>21.96</td>\n",
              "      <td>80.0</td>\n",
              "      <td>84.0</td>\n",
              "      <td>0</td>\n",
              "    </tr>\n",
              "    <tr>\n",
              "      <th>3387</th>\n",
              "      <td>3387</td>\n",
              "      <td>44</td>\n",
              "      <td>3.0</td>\n",
              "      <td>M</td>\n",
              "      <td>YES</td>\n",
              "      <td>3.0</td>\n",
              "      <td>0.0</td>\n",
              "      <td>0</td>\n",
              "      <td>1</td>\n",
              "      <td>0</td>\n",
              "      <td>352.0</td>\n",
              "      <td>164.0</td>\n",
              "      <td>119.0</td>\n",
              "      <td>28.92</td>\n",
              "      <td>73.0</td>\n",
              "      <td>72.0</td>\n",
              "      <td>1</td>\n",
              "    </tr>\n",
              "    <tr>\n",
              "      <th>3388</th>\n",
              "      <td>3388</td>\n",
              "      <td>60</td>\n",
              "      <td>1.0</td>\n",
              "      <td>M</td>\n",
              "      <td>NO</td>\n",
              "      <td>0.0</td>\n",
              "      <td>NaN</td>\n",
              "      <td>0</td>\n",
              "      <td>1</td>\n",
              "      <td>0</td>\n",
              "      <td>191.0</td>\n",
              "      <td>167.0</td>\n",
              "      <td>105.0</td>\n",
              "      <td>23.01</td>\n",
              "      <td>80.0</td>\n",
              "      <td>85.0</td>\n",
              "      <td>0</td>\n",
              "    </tr>\n",
              "    <tr>\n",
              "      <th>3389</th>\n",
              "      <td>3389</td>\n",
              "      <td>54</td>\n",
              "      <td>3.0</td>\n",
              "      <td>F</td>\n",
              "      <td>NO</td>\n",
              "      <td>0.0</td>\n",
              "      <td>0.0</td>\n",
              "      <td>0</td>\n",
              "      <td>0</td>\n",
              "      <td>0</td>\n",
              "      <td>288.0</td>\n",
              "      <td>124.0</td>\n",
              "      <td>77.0</td>\n",
              "      <td>29.88</td>\n",
              "      <td>79.0</td>\n",
              "      <td>92.0</td>\n",
              "      <td>0</td>\n",
              "    </tr>\n",
              "  </tbody>\n",
              "</table>\n",
              "</div>\n",
              "      <button class=\"colab-df-convert\" onclick=\"convertToInteractive('df-1271658e-e273-4891-aae4-5d4ceef62e4c')\"\n",
              "              title=\"Convert this dataframe to an interactive table.\"\n",
              "              style=\"display:none;\">\n",
              "        \n",
              "  <svg xmlns=\"http://www.w3.org/2000/svg\" height=\"24px\"viewBox=\"0 0 24 24\"\n",
              "       width=\"24px\">\n",
              "    <path d=\"M0 0h24v24H0V0z\" fill=\"none\"/>\n",
              "    <path d=\"M18.56 5.44l.94 2.06.94-2.06 2.06-.94-2.06-.94-.94-2.06-.94 2.06-2.06.94zm-11 1L8.5 8.5l.94-2.06 2.06-.94-2.06-.94L8.5 2.5l-.94 2.06-2.06.94zm10 10l.94 2.06.94-2.06 2.06-.94-2.06-.94-.94-2.06-.94 2.06-2.06.94z\"/><path d=\"M17.41 7.96l-1.37-1.37c-.4-.4-.92-.59-1.43-.59-.52 0-1.04.2-1.43.59L10.3 9.45l-7.72 7.72c-.78.78-.78 2.05 0 2.83L4 21.41c.39.39.9.59 1.41.59.51 0 1.02-.2 1.41-.59l7.78-7.78 2.81-2.81c.8-.78.8-2.07 0-2.86zM5.41 20L4 18.59l7.72-7.72 1.47 1.35L5.41 20z\"/>\n",
              "  </svg>\n",
              "      </button>\n",
              "      \n",
              "  <style>\n",
              "    .colab-df-container {\n",
              "      display:flex;\n",
              "      flex-wrap:wrap;\n",
              "      gap: 12px;\n",
              "    }\n",
              "\n",
              "    .colab-df-convert {\n",
              "      background-color: #E8F0FE;\n",
              "      border: none;\n",
              "      border-radius: 50%;\n",
              "      cursor: pointer;\n",
              "      display: none;\n",
              "      fill: #1967D2;\n",
              "      height: 32px;\n",
              "      padding: 0 0 0 0;\n",
              "      width: 32px;\n",
              "    }\n",
              "\n",
              "    .colab-df-convert:hover {\n",
              "      background-color: #E2EBFA;\n",
              "      box-shadow: 0px 1px 2px rgba(60, 64, 67, 0.3), 0px 1px 3px 1px rgba(60, 64, 67, 0.15);\n",
              "      fill: #174EA6;\n",
              "    }\n",
              "\n",
              "    [theme=dark] .colab-df-convert {\n",
              "      background-color: #3B4455;\n",
              "      fill: #D2E3FC;\n",
              "    }\n",
              "\n",
              "    [theme=dark] .colab-df-convert:hover {\n",
              "      background-color: #434B5C;\n",
              "      box-shadow: 0px 1px 3px 1px rgba(0, 0, 0, 0.15);\n",
              "      filter: drop-shadow(0px 1px 2px rgba(0, 0, 0, 0.3));\n",
              "      fill: #FFFFFF;\n",
              "    }\n",
              "  </style>\n",
              "\n",
              "      <script>\n",
              "        const buttonEl =\n",
              "          document.querySelector('#df-1271658e-e273-4891-aae4-5d4ceef62e4c button.colab-df-convert');\n",
              "        buttonEl.style.display =\n",
              "          google.colab.kernel.accessAllowed ? 'block' : 'none';\n",
              "\n",
              "        async function convertToInteractive(key) {\n",
              "          const element = document.querySelector('#df-1271658e-e273-4891-aae4-5d4ceef62e4c');\n",
              "          const dataTable =\n",
              "            await google.colab.kernel.invokeFunction('convertToInteractive',\n",
              "                                                     [key], {});\n",
              "          if (!dataTable) return;\n",
              "\n",
              "          const docLinkHtml = 'Like what you see? Visit the ' +\n",
              "            '<a target=\"_blank\" href=https://colab.research.google.com/notebooks/data_table.ipynb>data table notebook</a>'\n",
              "            + ' to learn more about interactive tables.';\n",
              "          element.innerHTML = '';\n",
              "          dataTable['output_type'] = 'display_data';\n",
              "          await google.colab.output.renderOutput(dataTable, element);\n",
              "          const docLink = document.createElement('div');\n",
              "          docLink.innerHTML = docLinkHtml;\n",
              "          element.appendChild(docLink);\n",
              "        }\n",
              "      </script>\n",
              "    </div>\n",
              "  </div>\n",
              "  "
            ]
          },
          "metadata": {},
          "execution_count": 5
        }
      ]
    },
    {
      "cell_type": "code",
      "source": [
        "df.shape"
      ],
      "metadata": {
        "colab": {
          "base_uri": "https://localhost:8080/"
        },
        "id": "I0drSGMGKkYr",
        "outputId": "2ed64511-81f1-4f1d-b3e3-b232e2307c14"
      },
      "execution_count": null,
      "outputs": [
        {
          "output_type": "execute_result",
          "data": {
            "text/plain": [
              "(3390, 17)"
            ]
          },
          "metadata": {},
          "execution_count": 6
        }
      ]
    },
    {
      "cell_type": "code",
      "source": [
        "df.columns"
      ],
      "metadata": {
        "colab": {
          "base_uri": "https://localhost:8080/"
        },
        "id": "1Eo30knUKrSv",
        "outputId": "f0d3fe39-24ef-4571-96c3-125f9b268504"
      },
      "execution_count": null,
      "outputs": [
        {
          "output_type": "execute_result",
          "data": {
            "text/plain": [
              "Index(['id', 'age', 'education', 'sex', 'is_smoking', 'cigsPerDay', 'BPMeds',\n",
              "       'prevalentStroke', 'prevalentHyp', 'diabetes', 'totChol', 'sysBP',\n",
              "       'diaBP', 'BMI', 'heartRate', 'glucose', 'TenYearCHD'],\n",
              "      dtype='object')"
            ]
          },
          "metadata": {},
          "execution_count": 7
        }
      ]
    },
    {
      "cell_type": "code",
      "source": [
        "df.nunique()"
      ],
      "metadata": {
        "colab": {
          "base_uri": "https://localhost:8080/"
        },
        "id": "QbH53c4lKtiv",
        "outputId": "bb9c1427-ea20-47ab-def6-b4e4ca94d099"
      },
      "execution_count": null,
      "outputs": [
        {
          "output_type": "execute_result",
          "data": {
            "text/plain": [
              "id                 3390\n",
              "age                  39\n",
              "education             4\n",
              "sex                   2\n",
              "is_smoking            2\n",
              "cigsPerDay           32\n",
              "BPMeds                2\n",
              "prevalentStroke       2\n",
              "prevalentHyp          2\n",
              "diabetes              2\n",
              "totChol             240\n",
              "sysBP               226\n",
              "diaBP               142\n",
              "BMI                1259\n",
              "heartRate            68\n",
              "glucose             132\n",
              "TenYearCHD            2\n",
              "dtype: int64"
            ]
          },
          "metadata": {},
          "execution_count": 8
        }
      ]
    },
    {
      "cell_type": "code",
      "source": [
        "df.info()"
      ],
      "metadata": {
        "colab": {
          "base_uri": "https://localhost:8080/"
        },
        "id": "J1r0HPDuKwp1",
        "outputId": "e6ae2648-1ac2-49ad-92bd-11051875ffad"
      },
      "execution_count": null,
      "outputs": [
        {
          "output_type": "stream",
          "name": "stdout",
          "text": [
            "<class 'pandas.core.frame.DataFrame'>\n",
            "RangeIndex: 3390 entries, 0 to 3389\n",
            "Data columns (total 17 columns):\n",
            " #   Column           Non-Null Count  Dtype  \n",
            "---  ------           --------------  -----  \n",
            " 0   id               3390 non-null   int64  \n",
            " 1   age              3390 non-null   int64  \n",
            " 2   education        3303 non-null   float64\n",
            " 3   sex              3390 non-null   object \n",
            " 4   is_smoking       3390 non-null   object \n",
            " 5   cigsPerDay       3368 non-null   float64\n",
            " 6   BPMeds           3346 non-null   float64\n",
            " 7   prevalentStroke  3390 non-null   int64  \n",
            " 8   prevalentHyp     3390 non-null   int64  \n",
            " 9   diabetes         3390 non-null   int64  \n",
            " 10  totChol          3352 non-null   float64\n",
            " 11  sysBP            3390 non-null   float64\n",
            " 12  diaBP            3390 non-null   float64\n",
            " 13  BMI              3376 non-null   float64\n",
            " 14  heartRate        3389 non-null   float64\n",
            " 15  glucose          3086 non-null   float64\n",
            " 16  TenYearCHD       3390 non-null   int64  \n",
            "dtypes: float64(9), int64(6), object(2)\n",
            "memory usage: 450.4+ KB\n"
          ]
        }
      ]
    },
    {
      "cell_type": "code",
      "source": [
        "df.describe()"
      ],
      "metadata": {
        "colab": {
          "base_uri": "https://localhost:8080/",
          "height": 364
        },
        "id": "FgUMLJT5K0nX",
        "outputId": "956fb5c8-c9bd-4e1b-bbe4-882dd7429d23"
      },
      "execution_count": null,
      "outputs": [
        {
          "output_type": "execute_result",
          "data": {
            "text/plain": [
              "                id          age    education   cigsPerDay       BPMeds  \\\n",
              "count  3390.000000  3390.000000  3303.000000  3368.000000  3346.000000   \n",
              "mean   1694.500000    49.542183     1.970936     9.069477     0.029886   \n",
              "std     978.753033     8.592878     1.019081    11.879078     0.170299   \n",
              "min       0.000000    32.000000     1.000000     0.000000     0.000000   \n",
              "25%     847.250000    42.000000     1.000000     0.000000     0.000000   \n",
              "50%    1694.500000    49.000000     2.000000     0.000000     0.000000   \n",
              "75%    2541.750000    56.000000     3.000000    20.000000     0.000000   \n",
              "max    3389.000000    70.000000     4.000000    70.000000     1.000000   \n",
              "\n",
              "       prevalentStroke  prevalentHyp     diabetes      totChol       sysBP  \\\n",
              "count      3390.000000   3390.000000  3390.000000  3352.000000  3390.00000   \n",
              "mean          0.006490      0.315339     0.025664   237.074284   132.60118   \n",
              "std           0.080309      0.464719     0.158153    45.247430    22.29203   \n",
              "min           0.000000      0.000000     0.000000   107.000000    83.50000   \n",
              "25%           0.000000      0.000000     0.000000   206.000000   117.00000   \n",
              "50%           0.000000      0.000000     0.000000   234.000000   128.50000   \n",
              "75%           0.000000      1.000000     0.000000   264.000000   144.00000   \n",
              "max           1.000000      1.000000     1.000000   696.000000   295.00000   \n",
              "\n",
              "             diaBP          BMI    heartRate      glucose   TenYearCHD  \n",
              "count  3390.000000  3376.000000  3389.000000  3086.000000  3390.000000  \n",
              "mean     82.883038    25.794964    75.977279    82.086520     0.150737  \n",
              "std      12.023581     4.115449    11.971868    24.244753     0.357846  \n",
              "min      48.000000    15.960000    45.000000    40.000000     0.000000  \n",
              "25%      74.500000    23.020000    68.000000    71.000000     0.000000  \n",
              "50%      82.000000    25.380000    75.000000    78.000000     0.000000  \n",
              "75%      90.000000    28.040000    83.000000    87.000000     0.000000  \n",
              "max     142.500000    56.800000   143.000000   394.000000     1.000000  "
            ],
            "text/html": [
              "\n",
              "  <div id=\"df-e0725899-84d7-484b-824e-bbd8ed876e46\">\n",
              "    <div class=\"colab-df-container\">\n",
              "      <div>\n",
              "<style scoped>\n",
              "    .dataframe tbody tr th:only-of-type {\n",
              "        vertical-align: middle;\n",
              "    }\n",
              "\n",
              "    .dataframe tbody tr th {\n",
              "        vertical-align: top;\n",
              "    }\n",
              "\n",
              "    .dataframe thead th {\n",
              "        text-align: right;\n",
              "    }\n",
              "</style>\n",
              "<table border=\"1\" class=\"dataframe\">\n",
              "  <thead>\n",
              "    <tr style=\"text-align: right;\">\n",
              "      <th></th>\n",
              "      <th>id</th>\n",
              "      <th>age</th>\n",
              "      <th>education</th>\n",
              "      <th>cigsPerDay</th>\n",
              "      <th>BPMeds</th>\n",
              "      <th>prevalentStroke</th>\n",
              "      <th>prevalentHyp</th>\n",
              "      <th>diabetes</th>\n",
              "      <th>totChol</th>\n",
              "      <th>sysBP</th>\n",
              "      <th>diaBP</th>\n",
              "      <th>BMI</th>\n",
              "      <th>heartRate</th>\n",
              "      <th>glucose</th>\n",
              "      <th>TenYearCHD</th>\n",
              "    </tr>\n",
              "  </thead>\n",
              "  <tbody>\n",
              "    <tr>\n",
              "      <th>count</th>\n",
              "      <td>3390.000000</td>\n",
              "      <td>3390.000000</td>\n",
              "      <td>3303.000000</td>\n",
              "      <td>3368.000000</td>\n",
              "      <td>3346.000000</td>\n",
              "      <td>3390.000000</td>\n",
              "      <td>3390.000000</td>\n",
              "      <td>3390.000000</td>\n",
              "      <td>3352.000000</td>\n",
              "      <td>3390.00000</td>\n",
              "      <td>3390.000000</td>\n",
              "      <td>3376.000000</td>\n",
              "      <td>3389.000000</td>\n",
              "      <td>3086.000000</td>\n",
              "      <td>3390.000000</td>\n",
              "    </tr>\n",
              "    <tr>\n",
              "      <th>mean</th>\n",
              "      <td>1694.500000</td>\n",
              "      <td>49.542183</td>\n",
              "      <td>1.970936</td>\n",
              "      <td>9.069477</td>\n",
              "      <td>0.029886</td>\n",
              "      <td>0.006490</td>\n",
              "      <td>0.315339</td>\n",
              "      <td>0.025664</td>\n",
              "      <td>237.074284</td>\n",
              "      <td>132.60118</td>\n",
              "      <td>82.883038</td>\n",
              "      <td>25.794964</td>\n",
              "      <td>75.977279</td>\n",
              "      <td>82.086520</td>\n",
              "      <td>0.150737</td>\n",
              "    </tr>\n",
              "    <tr>\n",
              "      <th>std</th>\n",
              "      <td>978.753033</td>\n",
              "      <td>8.592878</td>\n",
              "      <td>1.019081</td>\n",
              "      <td>11.879078</td>\n",
              "      <td>0.170299</td>\n",
              "      <td>0.080309</td>\n",
              "      <td>0.464719</td>\n",
              "      <td>0.158153</td>\n",
              "      <td>45.247430</td>\n",
              "      <td>22.29203</td>\n",
              "      <td>12.023581</td>\n",
              "      <td>4.115449</td>\n",
              "      <td>11.971868</td>\n",
              "      <td>24.244753</td>\n",
              "      <td>0.357846</td>\n",
              "    </tr>\n",
              "    <tr>\n",
              "      <th>min</th>\n",
              "      <td>0.000000</td>\n",
              "      <td>32.000000</td>\n",
              "      <td>1.000000</td>\n",
              "      <td>0.000000</td>\n",
              "      <td>0.000000</td>\n",
              "      <td>0.000000</td>\n",
              "      <td>0.000000</td>\n",
              "      <td>0.000000</td>\n",
              "      <td>107.000000</td>\n",
              "      <td>83.50000</td>\n",
              "      <td>48.000000</td>\n",
              "      <td>15.960000</td>\n",
              "      <td>45.000000</td>\n",
              "      <td>40.000000</td>\n",
              "      <td>0.000000</td>\n",
              "    </tr>\n",
              "    <tr>\n",
              "      <th>25%</th>\n",
              "      <td>847.250000</td>\n",
              "      <td>42.000000</td>\n",
              "      <td>1.000000</td>\n",
              "      <td>0.000000</td>\n",
              "      <td>0.000000</td>\n",
              "      <td>0.000000</td>\n",
              "      <td>0.000000</td>\n",
              "      <td>0.000000</td>\n",
              "      <td>206.000000</td>\n",
              "      <td>117.00000</td>\n",
              "      <td>74.500000</td>\n",
              "      <td>23.020000</td>\n",
              "      <td>68.000000</td>\n",
              "      <td>71.000000</td>\n",
              "      <td>0.000000</td>\n",
              "    </tr>\n",
              "    <tr>\n",
              "      <th>50%</th>\n",
              "      <td>1694.500000</td>\n",
              "      <td>49.000000</td>\n",
              "      <td>2.000000</td>\n",
              "      <td>0.000000</td>\n",
              "      <td>0.000000</td>\n",
              "      <td>0.000000</td>\n",
              "      <td>0.000000</td>\n",
              "      <td>0.000000</td>\n",
              "      <td>234.000000</td>\n",
              "      <td>128.50000</td>\n",
              "      <td>82.000000</td>\n",
              "      <td>25.380000</td>\n",
              "      <td>75.000000</td>\n",
              "      <td>78.000000</td>\n",
              "      <td>0.000000</td>\n",
              "    </tr>\n",
              "    <tr>\n",
              "      <th>75%</th>\n",
              "      <td>2541.750000</td>\n",
              "      <td>56.000000</td>\n",
              "      <td>3.000000</td>\n",
              "      <td>20.000000</td>\n",
              "      <td>0.000000</td>\n",
              "      <td>0.000000</td>\n",
              "      <td>1.000000</td>\n",
              "      <td>0.000000</td>\n",
              "      <td>264.000000</td>\n",
              "      <td>144.00000</td>\n",
              "      <td>90.000000</td>\n",
              "      <td>28.040000</td>\n",
              "      <td>83.000000</td>\n",
              "      <td>87.000000</td>\n",
              "      <td>0.000000</td>\n",
              "    </tr>\n",
              "    <tr>\n",
              "      <th>max</th>\n",
              "      <td>3389.000000</td>\n",
              "      <td>70.000000</td>\n",
              "      <td>4.000000</td>\n",
              "      <td>70.000000</td>\n",
              "      <td>1.000000</td>\n",
              "      <td>1.000000</td>\n",
              "      <td>1.000000</td>\n",
              "      <td>1.000000</td>\n",
              "      <td>696.000000</td>\n",
              "      <td>295.00000</td>\n",
              "      <td>142.500000</td>\n",
              "      <td>56.800000</td>\n",
              "      <td>143.000000</td>\n",
              "      <td>394.000000</td>\n",
              "      <td>1.000000</td>\n",
              "    </tr>\n",
              "  </tbody>\n",
              "</table>\n",
              "</div>\n",
              "      <button class=\"colab-df-convert\" onclick=\"convertToInteractive('df-e0725899-84d7-484b-824e-bbd8ed876e46')\"\n",
              "              title=\"Convert this dataframe to an interactive table.\"\n",
              "              style=\"display:none;\">\n",
              "        \n",
              "  <svg xmlns=\"http://www.w3.org/2000/svg\" height=\"24px\"viewBox=\"0 0 24 24\"\n",
              "       width=\"24px\">\n",
              "    <path d=\"M0 0h24v24H0V0z\" fill=\"none\"/>\n",
              "    <path d=\"M18.56 5.44l.94 2.06.94-2.06 2.06-.94-2.06-.94-.94-2.06-.94 2.06-2.06.94zm-11 1L8.5 8.5l.94-2.06 2.06-.94-2.06-.94L8.5 2.5l-.94 2.06-2.06.94zm10 10l.94 2.06.94-2.06 2.06-.94-2.06-.94-.94-2.06-.94 2.06-2.06.94z\"/><path d=\"M17.41 7.96l-1.37-1.37c-.4-.4-.92-.59-1.43-.59-.52 0-1.04.2-1.43.59L10.3 9.45l-7.72 7.72c-.78.78-.78 2.05 0 2.83L4 21.41c.39.39.9.59 1.41.59.51 0 1.02-.2 1.41-.59l7.78-7.78 2.81-2.81c.8-.78.8-2.07 0-2.86zM5.41 20L4 18.59l7.72-7.72 1.47 1.35L5.41 20z\"/>\n",
              "  </svg>\n",
              "      </button>\n",
              "      \n",
              "  <style>\n",
              "    .colab-df-container {\n",
              "      display:flex;\n",
              "      flex-wrap:wrap;\n",
              "      gap: 12px;\n",
              "    }\n",
              "\n",
              "    .colab-df-convert {\n",
              "      background-color: #E8F0FE;\n",
              "      border: none;\n",
              "      border-radius: 50%;\n",
              "      cursor: pointer;\n",
              "      display: none;\n",
              "      fill: #1967D2;\n",
              "      height: 32px;\n",
              "      padding: 0 0 0 0;\n",
              "      width: 32px;\n",
              "    }\n",
              "\n",
              "    .colab-df-convert:hover {\n",
              "      background-color: #E2EBFA;\n",
              "      box-shadow: 0px 1px 2px rgba(60, 64, 67, 0.3), 0px 1px 3px 1px rgba(60, 64, 67, 0.15);\n",
              "      fill: #174EA6;\n",
              "    }\n",
              "\n",
              "    [theme=dark] .colab-df-convert {\n",
              "      background-color: #3B4455;\n",
              "      fill: #D2E3FC;\n",
              "    }\n",
              "\n",
              "    [theme=dark] .colab-df-convert:hover {\n",
              "      background-color: #434B5C;\n",
              "      box-shadow: 0px 1px 3px 1px rgba(0, 0, 0, 0.15);\n",
              "      filter: drop-shadow(0px 1px 2px rgba(0, 0, 0, 0.3));\n",
              "      fill: #FFFFFF;\n",
              "    }\n",
              "  </style>\n",
              "\n",
              "      <script>\n",
              "        const buttonEl =\n",
              "          document.querySelector('#df-e0725899-84d7-484b-824e-bbd8ed876e46 button.colab-df-convert');\n",
              "        buttonEl.style.display =\n",
              "          google.colab.kernel.accessAllowed ? 'block' : 'none';\n",
              "\n",
              "        async function convertToInteractive(key) {\n",
              "          const element = document.querySelector('#df-e0725899-84d7-484b-824e-bbd8ed876e46');\n",
              "          const dataTable =\n",
              "            await google.colab.kernel.invokeFunction('convertToInteractive',\n",
              "                                                     [key], {});\n",
              "          if (!dataTable) return;\n",
              "\n",
              "          const docLinkHtml = 'Like what you see? Visit the ' +\n",
              "            '<a target=\"_blank\" href=https://colab.research.google.com/notebooks/data_table.ipynb>data table notebook</a>'\n",
              "            + ' to learn more about interactive tables.';\n",
              "          element.innerHTML = '';\n",
              "          dataTable['output_type'] = 'display_data';\n",
              "          await google.colab.output.renderOutput(dataTable, element);\n",
              "          const docLink = document.createElement('div');\n",
              "          docLink.innerHTML = docLinkHtml;\n",
              "          element.appendChild(docLink);\n",
              "        }\n",
              "      </script>\n",
              "    </div>\n",
              "  </div>\n",
              "  "
            ]
          },
          "metadata": {},
          "execution_count": 10
        }
      ]
    },
    {
      "cell_type": "markdown",
      "source": [
        "## **Data Cleaning**"
      ],
      "metadata": {
        "id": "k2ASZxBuK82I"
      }
    },
    {
      "cell_type": "code",
      "source": [
        "df.drop(\"id\",axis=1,inplace=True)"
      ],
      "metadata": {
        "id": "HIk40gO7K5Am"
      },
      "execution_count": null,
      "outputs": []
    },
    {
      "cell_type": "code",
      "source": [
        "df"
      ],
      "metadata": {
        "colab": {
          "base_uri": "https://localhost:8080/",
          "height": 488
        },
        "id": "3CH70v8IL1o3",
        "outputId": "606e9e49-328e-4aee-e0de-604f43f701d1"
      },
      "execution_count": null,
      "outputs": [
        {
          "output_type": "execute_result",
          "data": {
            "text/plain": [
              "      age  education sex is_smoking  cigsPerDay  BPMeds  prevalentStroke  \\\n",
              "0      64        2.0   F        YES         3.0     0.0                0   \n",
              "1      36        4.0   M         NO         0.0     0.0                0   \n",
              "2      46        1.0   F        YES        10.0     0.0                0   \n",
              "3      50        1.0   M        YES        20.0     0.0                0   \n",
              "4      64        1.0   F        YES        30.0     0.0                0   \n",
              "...   ...        ...  ..        ...         ...     ...              ...   \n",
              "3385   60        1.0   F         NO         0.0     0.0                0   \n",
              "3386   46        1.0   F         NO         0.0     0.0                0   \n",
              "3387   44        3.0   M        YES         3.0     0.0                0   \n",
              "3388   60        1.0   M         NO         0.0     NaN                0   \n",
              "3389   54        3.0   F         NO         0.0     0.0                0   \n",
              "\n",
              "      prevalentHyp  diabetes  totChol  sysBP  diaBP    BMI  heartRate  \\\n",
              "0                0         0    221.0  148.0   85.0    NaN       90.0   \n",
              "1                1         0    212.0  168.0   98.0  29.77       72.0   \n",
              "2                0         0    250.0  116.0   71.0  20.35       88.0   \n",
              "3                1         0    233.0  158.0   88.0  28.26       68.0   \n",
              "4                0         0    241.0  136.5   85.0  26.42       70.0   \n",
              "...            ...       ...      ...    ...    ...    ...        ...   \n",
              "3385             0         0    261.0  123.5   79.0  29.28       70.0   \n",
              "3386             0         0    199.0  102.0   56.0  21.96       80.0   \n",
              "3387             1         0    352.0  164.0  119.0  28.92       73.0   \n",
              "3388             1         0    191.0  167.0  105.0  23.01       80.0   \n",
              "3389             0         0    288.0  124.0   77.0  29.88       79.0   \n",
              "\n",
              "      glucose  TenYearCHD  \n",
              "0        80.0           1  \n",
              "1        75.0           0  \n",
              "2        94.0           0  \n",
              "3        94.0           1  \n",
              "4        77.0           0  \n",
              "...       ...         ...  \n",
              "3385    103.0           0  \n",
              "3386     84.0           0  \n",
              "3387     72.0           1  \n",
              "3388     85.0           0  \n",
              "3389     92.0           0  \n",
              "\n",
              "[3390 rows x 16 columns]"
            ],
            "text/html": [
              "\n",
              "  <div id=\"df-0345d515-38cb-4220-bf57-db7b8ec9ca44\">\n",
              "    <div class=\"colab-df-container\">\n",
              "      <div>\n",
              "<style scoped>\n",
              "    .dataframe tbody tr th:only-of-type {\n",
              "        vertical-align: middle;\n",
              "    }\n",
              "\n",
              "    .dataframe tbody tr th {\n",
              "        vertical-align: top;\n",
              "    }\n",
              "\n",
              "    .dataframe thead th {\n",
              "        text-align: right;\n",
              "    }\n",
              "</style>\n",
              "<table border=\"1\" class=\"dataframe\">\n",
              "  <thead>\n",
              "    <tr style=\"text-align: right;\">\n",
              "      <th></th>\n",
              "      <th>age</th>\n",
              "      <th>education</th>\n",
              "      <th>sex</th>\n",
              "      <th>is_smoking</th>\n",
              "      <th>cigsPerDay</th>\n",
              "      <th>BPMeds</th>\n",
              "      <th>prevalentStroke</th>\n",
              "      <th>prevalentHyp</th>\n",
              "      <th>diabetes</th>\n",
              "      <th>totChol</th>\n",
              "      <th>sysBP</th>\n",
              "      <th>diaBP</th>\n",
              "      <th>BMI</th>\n",
              "      <th>heartRate</th>\n",
              "      <th>glucose</th>\n",
              "      <th>TenYearCHD</th>\n",
              "    </tr>\n",
              "  </thead>\n",
              "  <tbody>\n",
              "    <tr>\n",
              "      <th>0</th>\n",
              "      <td>64</td>\n",
              "      <td>2.0</td>\n",
              "      <td>F</td>\n",
              "      <td>YES</td>\n",
              "      <td>3.0</td>\n",
              "      <td>0.0</td>\n",
              "      <td>0</td>\n",
              "      <td>0</td>\n",
              "      <td>0</td>\n",
              "      <td>221.0</td>\n",
              "      <td>148.0</td>\n",
              "      <td>85.0</td>\n",
              "      <td>NaN</td>\n",
              "      <td>90.0</td>\n",
              "      <td>80.0</td>\n",
              "      <td>1</td>\n",
              "    </tr>\n",
              "    <tr>\n",
              "      <th>1</th>\n",
              "      <td>36</td>\n",
              "      <td>4.0</td>\n",
              "      <td>M</td>\n",
              "      <td>NO</td>\n",
              "      <td>0.0</td>\n",
              "      <td>0.0</td>\n",
              "      <td>0</td>\n",
              "      <td>1</td>\n",
              "      <td>0</td>\n",
              "      <td>212.0</td>\n",
              "      <td>168.0</td>\n",
              "      <td>98.0</td>\n",
              "      <td>29.77</td>\n",
              "      <td>72.0</td>\n",
              "      <td>75.0</td>\n",
              "      <td>0</td>\n",
              "    </tr>\n",
              "    <tr>\n",
              "      <th>2</th>\n",
              "      <td>46</td>\n",
              "      <td>1.0</td>\n",
              "      <td>F</td>\n",
              "      <td>YES</td>\n",
              "      <td>10.0</td>\n",
              "      <td>0.0</td>\n",
              "      <td>0</td>\n",
              "      <td>0</td>\n",
              "      <td>0</td>\n",
              "      <td>250.0</td>\n",
              "      <td>116.0</td>\n",
              "      <td>71.0</td>\n",
              "      <td>20.35</td>\n",
              "      <td>88.0</td>\n",
              "      <td>94.0</td>\n",
              "      <td>0</td>\n",
              "    </tr>\n",
              "    <tr>\n",
              "      <th>3</th>\n",
              "      <td>50</td>\n",
              "      <td>1.0</td>\n",
              "      <td>M</td>\n",
              "      <td>YES</td>\n",
              "      <td>20.0</td>\n",
              "      <td>0.0</td>\n",
              "      <td>0</td>\n",
              "      <td>1</td>\n",
              "      <td>0</td>\n",
              "      <td>233.0</td>\n",
              "      <td>158.0</td>\n",
              "      <td>88.0</td>\n",
              "      <td>28.26</td>\n",
              "      <td>68.0</td>\n",
              "      <td>94.0</td>\n",
              "      <td>1</td>\n",
              "    </tr>\n",
              "    <tr>\n",
              "      <th>4</th>\n",
              "      <td>64</td>\n",
              "      <td>1.0</td>\n",
              "      <td>F</td>\n",
              "      <td>YES</td>\n",
              "      <td>30.0</td>\n",
              "      <td>0.0</td>\n",
              "      <td>0</td>\n",
              "      <td>0</td>\n",
              "      <td>0</td>\n",
              "      <td>241.0</td>\n",
              "      <td>136.5</td>\n",
              "      <td>85.0</td>\n",
              "      <td>26.42</td>\n",
              "      <td>70.0</td>\n",
              "      <td>77.0</td>\n",
              "      <td>0</td>\n",
              "    </tr>\n",
              "    <tr>\n",
              "      <th>...</th>\n",
              "      <td>...</td>\n",
              "      <td>...</td>\n",
              "      <td>...</td>\n",
              "      <td>...</td>\n",
              "      <td>...</td>\n",
              "      <td>...</td>\n",
              "      <td>...</td>\n",
              "      <td>...</td>\n",
              "      <td>...</td>\n",
              "      <td>...</td>\n",
              "      <td>...</td>\n",
              "      <td>...</td>\n",
              "      <td>...</td>\n",
              "      <td>...</td>\n",
              "      <td>...</td>\n",
              "      <td>...</td>\n",
              "    </tr>\n",
              "    <tr>\n",
              "      <th>3385</th>\n",
              "      <td>60</td>\n",
              "      <td>1.0</td>\n",
              "      <td>F</td>\n",
              "      <td>NO</td>\n",
              "      <td>0.0</td>\n",
              "      <td>0.0</td>\n",
              "      <td>0</td>\n",
              "      <td>0</td>\n",
              "      <td>0</td>\n",
              "      <td>261.0</td>\n",
              "      <td>123.5</td>\n",
              "      <td>79.0</td>\n",
              "      <td>29.28</td>\n",
              "      <td>70.0</td>\n",
              "      <td>103.0</td>\n",
              "      <td>0</td>\n",
              "    </tr>\n",
              "    <tr>\n",
              "      <th>3386</th>\n",
              "      <td>46</td>\n",
              "      <td>1.0</td>\n",
              "      <td>F</td>\n",
              "      <td>NO</td>\n",
              "      <td>0.0</td>\n",
              "      <td>0.0</td>\n",
              "      <td>0</td>\n",
              "      <td>0</td>\n",
              "      <td>0</td>\n",
              "      <td>199.0</td>\n",
              "      <td>102.0</td>\n",
              "      <td>56.0</td>\n",
              "      <td>21.96</td>\n",
              "      <td>80.0</td>\n",
              "      <td>84.0</td>\n",
              "      <td>0</td>\n",
              "    </tr>\n",
              "    <tr>\n",
              "      <th>3387</th>\n",
              "      <td>44</td>\n",
              "      <td>3.0</td>\n",
              "      <td>M</td>\n",
              "      <td>YES</td>\n",
              "      <td>3.0</td>\n",
              "      <td>0.0</td>\n",
              "      <td>0</td>\n",
              "      <td>1</td>\n",
              "      <td>0</td>\n",
              "      <td>352.0</td>\n",
              "      <td>164.0</td>\n",
              "      <td>119.0</td>\n",
              "      <td>28.92</td>\n",
              "      <td>73.0</td>\n",
              "      <td>72.0</td>\n",
              "      <td>1</td>\n",
              "    </tr>\n",
              "    <tr>\n",
              "      <th>3388</th>\n",
              "      <td>60</td>\n",
              "      <td>1.0</td>\n",
              "      <td>M</td>\n",
              "      <td>NO</td>\n",
              "      <td>0.0</td>\n",
              "      <td>NaN</td>\n",
              "      <td>0</td>\n",
              "      <td>1</td>\n",
              "      <td>0</td>\n",
              "      <td>191.0</td>\n",
              "      <td>167.0</td>\n",
              "      <td>105.0</td>\n",
              "      <td>23.01</td>\n",
              "      <td>80.0</td>\n",
              "      <td>85.0</td>\n",
              "      <td>0</td>\n",
              "    </tr>\n",
              "    <tr>\n",
              "      <th>3389</th>\n",
              "      <td>54</td>\n",
              "      <td>3.0</td>\n",
              "      <td>F</td>\n",
              "      <td>NO</td>\n",
              "      <td>0.0</td>\n",
              "      <td>0.0</td>\n",
              "      <td>0</td>\n",
              "      <td>0</td>\n",
              "      <td>0</td>\n",
              "      <td>288.0</td>\n",
              "      <td>124.0</td>\n",
              "      <td>77.0</td>\n",
              "      <td>29.88</td>\n",
              "      <td>79.0</td>\n",
              "      <td>92.0</td>\n",
              "      <td>0</td>\n",
              "    </tr>\n",
              "  </tbody>\n",
              "</table>\n",
              "<p>3390 rows × 16 columns</p>\n",
              "</div>\n",
              "      <button class=\"colab-df-convert\" onclick=\"convertToInteractive('df-0345d515-38cb-4220-bf57-db7b8ec9ca44')\"\n",
              "              title=\"Convert this dataframe to an interactive table.\"\n",
              "              style=\"display:none;\">\n",
              "        \n",
              "  <svg xmlns=\"http://www.w3.org/2000/svg\" height=\"24px\"viewBox=\"0 0 24 24\"\n",
              "       width=\"24px\">\n",
              "    <path d=\"M0 0h24v24H0V0z\" fill=\"none\"/>\n",
              "    <path d=\"M18.56 5.44l.94 2.06.94-2.06 2.06-.94-2.06-.94-.94-2.06-.94 2.06-2.06.94zm-11 1L8.5 8.5l.94-2.06 2.06-.94-2.06-.94L8.5 2.5l-.94 2.06-2.06.94zm10 10l.94 2.06.94-2.06 2.06-.94-2.06-.94-.94-2.06-.94 2.06-2.06.94z\"/><path d=\"M17.41 7.96l-1.37-1.37c-.4-.4-.92-.59-1.43-.59-.52 0-1.04.2-1.43.59L10.3 9.45l-7.72 7.72c-.78.78-.78 2.05 0 2.83L4 21.41c.39.39.9.59 1.41.59.51 0 1.02-.2 1.41-.59l7.78-7.78 2.81-2.81c.8-.78.8-2.07 0-2.86zM5.41 20L4 18.59l7.72-7.72 1.47 1.35L5.41 20z\"/>\n",
              "  </svg>\n",
              "      </button>\n",
              "      \n",
              "  <style>\n",
              "    .colab-df-container {\n",
              "      display:flex;\n",
              "      flex-wrap:wrap;\n",
              "      gap: 12px;\n",
              "    }\n",
              "\n",
              "    .colab-df-convert {\n",
              "      background-color: #E8F0FE;\n",
              "      border: none;\n",
              "      border-radius: 50%;\n",
              "      cursor: pointer;\n",
              "      display: none;\n",
              "      fill: #1967D2;\n",
              "      height: 32px;\n",
              "      padding: 0 0 0 0;\n",
              "      width: 32px;\n",
              "    }\n",
              "\n",
              "    .colab-df-convert:hover {\n",
              "      background-color: #E2EBFA;\n",
              "      box-shadow: 0px 1px 2px rgba(60, 64, 67, 0.3), 0px 1px 3px 1px rgba(60, 64, 67, 0.15);\n",
              "      fill: #174EA6;\n",
              "    }\n",
              "\n",
              "    [theme=dark] .colab-df-convert {\n",
              "      background-color: #3B4455;\n",
              "      fill: #D2E3FC;\n",
              "    }\n",
              "\n",
              "    [theme=dark] .colab-df-convert:hover {\n",
              "      background-color: #434B5C;\n",
              "      box-shadow: 0px 1px 3px 1px rgba(0, 0, 0, 0.15);\n",
              "      filter: drop-shadow(0px 1px 2px rgba(0, 0, 0, 0.3));\n",
              "      fill: #FFFFFF;\n",
              "    }\n",
              "  </style>\n",
              "\n",
              "      <script>\n",
              "        const buttonEl =\n",
              "          document.querySelector('#df-0345d515-38cb-4220-bf57-db7b8ec9ca44 button.colab-df-convert');\n",
              "        buttonEl.style.display =\n",
              "          google.colab.kernel.accessAllowed ? 'block' : 'none';\n",
              "\n",
              "        async function convertToInteractive(key) {\n",
              "          const element = document.querySelector('#df-0345d515-38cb-4220-bf57-db7b8ec9ca44');\n",
              "          const dataTable =\n",
              "            await google.colab.kernel.invokeFunction('convertToInteractive',\n",
              "                                                     [key], {});\n",
              "          if (!dataTable) return;\n",
              "\n",
              "          const docLinkHtml = 'Like what you see? Visit the ' +\n",
              "            '<a target=\"_blank\" href=https://colab.research.google.com/notebooks/data_table.ipynb>data table notebook</a>'\n",
              "            + ' to learn more about interactive tables.';\n",
              "          element.innerHTML = '';\n",
              "          dataTable['output_type'] = 'display_data';\n",
              "          await google.colab.output.renderOutput(dataTable, element);\n",
              "          const docLink = document.createElement('div');\n",
              "          docLink.innerHTML = docLinkHtml;\n",
              "          element.appendChild(docLink);\n",
              "        }\n",
              "      </script>\n",
              "    </div>\n",
              "  </div>\n",
              "  "
            ]
          },
          "metadata": {},
          "execution_count": 12
        }
      ]
    },
    {
      "cell_type": "code",
      "source": [
        "df.isnull().sum()"
      ],
      "metadata": {
        "colab": {
          "base_uri": "https://localhost:8080/"
        },
        "id": "gIgpXfKAL22w",
        "outputId": "82a3fa0a-3c3d-48d9-f1ee-c551cd11a687"
      },
      "execution_count": null,
      "outputs": [
        {
          "output_type": "execute_result",
          "data": {
            "text/plain": [
              "age                  0\n",
              "education           87\n",
              "sex                  0\n",
              "is_smoking           0\n",
              "cigsPerDay          22\n",
              "BPMeds              44\n",
              "prevalentStroke      0\n",
              "prevalentHyp         0\n",
              "diabetes             0\n",
              "totChol             38\n",
              "sysBP                0\n",
              "diaBP                0\n",
              "BMI                 14\n",
              "heartRate            1\n",
              "glucose            304\n",
              "TenYearCHD           0\n",
              "dtype: int64"
            ]
          },
          "metadata": {},
          "execution_count": 13
        }
      ]
    },
    {
      "cell_type": "markdown",
      "source": [
        "***There are missing values in the following columns***\n",
        "\n",
        "\n",
        "*   Education\n",
        "*   CigsPerDay\n",
        "\n",
        "*   BMI\n",
        "*   Glucose \n",
        "\n",
        "\n",
        "\n"
      ],
      "metadata": {
        "id": "1eukGeo7NLUv"
      }
    },
    {
      "cell_type": "markdown",
      "source": [
        "# **Remove/ Delete missing values**"
      ],
      "metadata": {
        "id": "R8Sc46i7S6YY"
      }
    },
    {
      "cell_type": "code",
      "source": [
        "df.dropna(axis=0,inplace = True)"
      ],
      "metadata": {
        "id": "uGlHLsZwNAnv"
      },
      "execution_count": null,
      "outputs": []
    },
    {
      "cell_type": "code",
      "source": [
        "df.shape"
      ],
      "metadata": {
        "colab": {
          "base_uri": "https://localhost:8080/"
        },
        "id": "txXpst1rTQxa",
        "outputId": "66355fc3-9108-468b-d91b-f0b68dd2cc89"
      },
      "execution_count": null,
      "outputs": [
        {
          "output_type": "execute_result",
          "data": {
            "text/plain": [
              "(2927, 16)"
            ]
          },
          "metadata": {},
          "execution_count": 15
        }
      ]
    },
    {
      "cell_type": "code",
      "source": [
        "a = pd.DataFrame((df.isnull().sum())*100/df.shape[0]).reset_index()\n",
        "plt.figure(figsize=(12,8))\n",
        "b =sns.lineplot('index',0,data=a)\n",
        "plt.xticks(rotation =90,fontsize =7)"
      ],
      "metadata": {
        "colab": {
          "base_uri": "https://localhost:8080/",
          "height": 556
        },
        "id": "D2JyGwm-TSj3",
        "outputId": "2739252b-d033-484b-c790-069243ec6389"
      },
      "execution_count": null,
      "outputs": [
        {
          "output_type": "stream",
          "name": "stderr",
          "text": [
            "/usr/local/lib/python3.7/dist-packages/seaborn/_decorators.py:43: FutureWarning: Pass the following variables as keyword args: x, y. From version 0.12, the only valid positional argument will be `data`, and passing other arguments without an explicit keyword will result in an error or misinterpretation.\n",
            "  FutureWarning\n"
          ]
        },
        {
          "output_type": "execute_result",
          "data": {
            "text/plain": [
              "([0, 1, 2, 3, 4, 5, 6, 7, 8, 9, 10, 11, 12, 13, 14, 15],\n",
              " <a list of 16 Text major ticklabel objects>)"
            ]
          },
          "metadata": {},
          "execution_count": 16
        },
        {
          "output_type": "display_data",
          "data": {
            "text/plain": [
              "<Figure size 864x576 with 1 Axes>"
            ],
            "image/png": "[encoded data removed]"
          },
          "metadata": {
            "needs_background": "light"
          }
        }
      ]
    },
    {
      "cell_type": "markdown",
      "source": [
        "# ***Let's see the Target Variable***"
      ],
      "metadata": {
        "id": "HemVGtZpZjrL"
      }
    },
    {
      "cell_type": "code",
      "source": [
        "df['TenYearCHD'].unique()"
      ],
      "metadata": {
        "id": "bOi2IBx0TyQc",
        "colab": {
          "base_uri": "https://localhost:8080/"
        },
        "outputId": "4c710764-f44f-4bbc-d696-111e391ed50a"
      },
      "execution_count": null,
      "outputs": [
        {
          "output_type": "execute_result",
          "data": {
            "text/plain": [
              "array([0, 1])"
            ]
          },
          "metadata": {},
          "execution_count": 17
        }
      ]
    },
    {
      "cell_type": "code",
      "source": [
        "df['TenYearCHD'].value_counts()"
      ],
      "metadata": {
        "colab": {
          "base_uri": "https://localhost:8080/"
        },
        "id": "V74dSmeFaC_f",
        "outputId": "208a4cf2-1f6d-46f7-f693-46d3fb6ff0c6"
      },
      "execution_count": null,
      "outputs": [
        {
          "output_type": "execute_result",
          "data": {
            "text/plain": [
              "0    2483\n",
              "1     444\n",
              "Name: TenYearCHD, dtype: int64"
            ]
          },
          "metadata": {},
          "execution_count": 18
        }
      ]
    },
    {
      "cell_type": "code",
      "source": [
        "df['TenYearCHD'].describe()"
      ],
      "metadata": {
        "colab": {
          "base_uri": "https://localhost:8080/"
        },
        "id": "hbQI-BG3frMW",
        "outputId": "3a0c34a1-ce0d-4a26-ae8d-e9eaaa2bf3b1"
      },
      "execution_count": null,
      "outputs": [
        {
          "output_type": "execute_result",
          "data": {
            "text/plain": [
              "count    2927.000000\n",
              "mean        0.151691\n",
              "std         0.358783\n",
              "min         0.000000\n",
              "25%         0.000000\n",
              "50%         0.000000\n",
              "75%         0.000000\n",
              "max         1.000000\n",
              "Name: TenYearCHD, dtype: float64"
            ]
          },
          "metadata": {},
          "execution_count": 19
        }
      ]
    },
    {
      "cell_type": "markdown",
      "source": [
        "# **We can conclude that our target variable is classified in '0' and '1' category by this we can say that we want to implement classification model for the dataset**"
      ],
      "metadata": {
        "id": "EIBf2JlyaUeU"
      }
    },
    {
      "cell_type": "code",
      "source": [
        "df.columns"
      ],
      "metadata": {
        "colab": {
          "base_uri": "https://localhost:8080/"
        },
        "id": "LMdOzGUYbOrj",
        "outputId": "e0f09183-0c9c-4abc-a5f6-bd10487bd0bb"
      },
      "execution_count": null,
      "outputs": [
        {
          "output_type": "execute_result",
          "data": {
            "text/plain": [
              "Index(['age', 'education', 'sex', 'is_smoking', 'cigsPerDay', 'BPMeds',\n",
              "       'prevalentStroke', 'prevalentHyp', 'diabetes', 'totChol', 'sysBP',\n",
              "       'diaBP', 'BMI', 'heartRate', 'glucose', 'TenYearCHD'],\n",
              "      dtype='object')"
            ]
          },
          "metadata": {},
          "execution_count": 20
        }
      ]
    },
    {
      "cell_type": "code",
      "source": [
        "independent_variable = df.drop('TenYearCHD',axis=1)\n",
        "independent_variable.head() #independent data"
      ],
      "metadata": {
        "colab": {
          "base_uri": "https://localhost:8080/",
          "height": 270
        },
        "id": "4WVGGO9tah5-",
        "outputId": "70d368d1-adb6-4afc-fbdd-88a7a1d4510b"
      },
      "execution_count": null,
      "outputs": [
        {
          "output_type": "execute_result",
          "data": {
            "text/plain": [
              "   age  education sex is_smoking  cigsPerDay  BPMeds  prevalentStroke  \\\n",
              "1   36        4.0   M         NO         0.0     0.0                0   \n",
              "2   46        1.0   F        YES        10.0     0.0                0   \n",
              "3   50        1.0   M        YES        20.0     0.0                0   \n",
              "4   64        1.0   F        YES        30.0     0.0                0   \n",
              "5   61        3.0   F         NO         0.0     0.0                0   \n",
              "\n",
              "   prevalentHyp  diabetes  totChol  sysBP  diaBP    BMI  heartRate  glucose  \n",
              "1             1         0    212.0  168.0   98.0  29.77       72.0     75.0  \n",
              "2             0         0    250.0  116.0   71.0  20.35       88.0     94.0  \n",
              "3             1         0    233.0  158.0   88.0  28.26       68.0     94.0  \n",
              "4             0         0    241.0  136.5   85.0  26.42       70.0     77.0  \n",
              "5             1         0    272.0  182.0  121.0  32.80       85.0     65.0  "
            ],
            "text/html": [
              "\n",
              "  <div id=\"df-cf320acc-2def-45c4-8512-bbba65cb64c2\">\n",
              "    <div class=\"colab-df-container\">\n",
              "      <div>\n",
              "<style scoped>\n",
              "    .dataframe tbody tr th:only-of-type {\n",
              "        vertical-align: middle;\n",
              "    }\n",
              "\n",
              "    .dataframe tbody tr th {\n",
              "        vertical-align: top;\n",
              "    }\n",
              "\n",
              "    .dataframe thead th {\n",
              "        text-align: right;\n",
              "    }\n",
              "</style>\n",
              "<table border=\"1\" class=\"dataframe\">\n",
              "  <thead>\n",
              "    <tr style=\"text-align: right;\">\n",
              "      <th></th>\n",
              "      <th>age</th>\n",
              "      <th>education</th>\n",
              "      <th>sex</th>\n",
              "      <th>is_smoking</th>\n",
              "      <th>cigsPerDay</th>\n",
              "      <th>BPMeds</th>\n",
              "      <th>prevalentStroke</th>\n",
              "      <th>prevalentHyp</th>\n",
              "      <th>diabetes</th>\n",
              "      <th>totChol</th>\n",
              "      <th>sysBP</th>\n",
              "      <th>diaBP</th>\n",
              "      <th>BMI</th>\n",
              "      <th>heartRate</th>\n",
              "      <th>glucose</th>\n",
              "    </tr>\n",
              "  </thead>\n",
              "  <tbody>\n",
              "    <tr>\n",
              "      <th>1</th>\n",
              "      <td>36</td>\n",
              "      <td>4.0</td>\n",
              "      <td>M</td>\n",
              "      <td>NO</td>\n",
              "      <td>0.0</td>\n",
              "      <td>0.0</td>\n",
              "      <td>0</td>\n",
              "      <td>1</td>\n",
              "      <td>0</td>\n",
              "      <td>212.0</td>\n",
              "      <td>168.0</td>\n",
              "      <td>98.0</td>\n",
              "      <td>29.77</td>\n",
              "      <td>72.0</td>\n",
              "      <td>75.0</td>\n",
              "    </tr>\n",
              "    <tr>\n",
              "      <th>2</th>\n",
              "      <td>46</td>\n",
              "      <td>1.0</td>\n",
              "      <td>F</td>\n",
              "      <td>YES</td>\n",
              "      <td>10.0</td>\n",
              "      <td>0.0</td>\n",
              "      <td>0</td>\n",
              "      <td>0</td>\n",
              "      <td>0</td>\n",
              "      <td>250.0</td>\n",
              "      <td>116.0</td>\n",
              "      <td>71.0</td>\n",
              "      <td>20.35</td>\n",
              "      <td>88.0</td>\n",
              "      <td>94.0</td>\n",
              "    </tr>\n",
              "    <tr>\n",
              "      <th>3</th>\n",
              "      <td>50</td>\n",
              "      <td>1.0</td>\n",
              "      <td>M</td>\n",
              "      <td>YES</td>\n",
              "      <td>20.0</td>\n",
              "      <td>0.0</td>\n",
              "      <td>0</td>\n",
              "      <td>1</td>\n",
              "      <td>0</td>\n",
              "      <td>233.0</td>\n",
              "      <td>158.0</td>\n",
              "      <td>88.0</td>\n",
              "      <td>28.26</td>\n",
              "      <td>68.0</td>\n",
              "      <td>94.0</td>\n",
              "    </tr>\n",
              "    <tr>\n",
              "      <th>4</th>\n",
              "      <td>64</td>\n",
              "      <td>1.0</td>\n",
              "      <td>F</td>\n",
              "      <td>YES</td>\n",
              "      <td>30.0</td>\n",
              "      <td>0.0</td>\n",
              "      <td>0</td>\n",
              "      <td>0</td>\n",
              "      <td>0</td>\n",
              "      <td>241.0</td>\n",
              "      <td>136.5</td>\n",
              "      <td>85.0</td>\n",
              "      <td>26.42</td>\n",
              "      <td>70.0</td>\n",
              "      <td>77.0</td>\n",
              "    </tr>\n",
              "    <tr>\n",
              "      <th>5</th>\n",
              "      <td>61</td>\n",
              "      <td>3.0</td>\n",
              "      <td>F</td>\n",
              "      <td>NO</td>\n",
              "      <td>0.0</td>\n",
              "      <td>0.0</td>\n",
              "      <td>0</td>\n",
              "      <td>1</td>\n",
              "      <td>0</td>\n",
              "      <td>272.0</td>\n",
              "      <td>182.0</td>\n",
              "      <td>121.0</td>\n",
              "      <td>32.80</td>\n",
              "      <td>85.0</td>\n",
              "      <td>65.0</td>\n",
              "    </tr>\n",
              "  </tbody>\n",
              "</table>\n",
              "</div>\n",
              "      <button class=\"colab-df-convert\" onclick=\"convertToInteractive('df-cf320acc-2def-45c4-8512-bbba65cb64c2')\"\n",
              "              title=\"Convert this dataframe to an interactive table.\"\n",
              "              style=\"display:none;\">\n",
              "        \n",
              "  <svg xmlns=\"http://www.w3.org/2000/svg\" height=\"24px\"viewBox=\"0 0 24 24\"\n",
              "       width=\"24px\">\n",
              "    <path d=\"M0 0h24v24H0V0z\" fill=\"none\"/>\n",
              "    <path d=\"M18.56 5.44l.94 2.06.94-2.06 2.06-.94-2.06-.94-.94-2.06-.94 2.06-2.06.94zm-11 1L8.5 8.5l.94-2.06 2.06-.94-2.06-.94L8.5 2.5l-.94 2.06-2.06.94zm10 10l.94 2.06.94-2.06 2.06-.94-2.06-.94-.94-2.06-.94 2.06-2.06.94z\"/><path d=\"M17.41 7.96l-1.37-1.37c-.4-.4-.92-.59-1.43-.59-.52 0-1.04.2-1.43.59L10.3 9.45l-7.72 7.72c-.78.78-.78 2.05 0 2.83L4 21.41c.39.39.9.59 1.41.59.51 0 1.02-.2 1.41-.59l7.78-7.78 2.81-2.81c.8-.78.8-2.07 0-2.86zM5.41 20L4 18.59l7.72-7.72 1.47 1.35L5.41 20z\"/>\n",
              "  </svg>\n",
              "      </button>\n",
              "      \n",
              "  <style>\n",
              "    .colab-df-container {\n",
              "      display:flex;\n",
              "      flex-wrap:wrap;\n",
              "      gap: 12px;\n",
              "    }\n",
              "\n",
              "    .colab-df-convert {\n",
              "      background-color: #E8F0FE;\n",
              "      border: none;\n",
              "      border-radius: 50%;\n",
              "      cursor: pointer;\n",
              "      display: none;\n",
              "      fill: #1967D2;\n",
              "      height: 32px;\n",
              "      padding: 0 0 0 0;\n",
              "      width: 32px;\n",
              "    }\n",
              "\n",
              "    .colab-df-convert:hover {\n",
              "      background-color: #E2EBFA;\n",
              "      box-shadow: 0px 1px 2px rgba(60, 64, 67, 0.3), 0px 1px 3px 1px rgba(60, 64, 67, 0.15);\n",
              "      fill: #174EA6;\n",
              "    }\n",
              "\n",
              "    [theme=dark] .colab-df-convert {\n",
              "      background-color: #3B4455;\n",
              "      fill: #D2E3FC;\n",
              "    }\n",
              "\n",
              "    [theme=dark] .colab-df-convert:hover {\n",
              "      background-color: #434B5C;\n",
              "      box-shadow: 0px 1px 3px 1px rgba(0, 0, 0, 0.15);\n",
              "      filter: drop-shadow(0px 1px 2px rgba(0, 0, 0, 0.3));\n",
              "      fill: #FFFFFF;\n",
              "    }\n",
              "  </style>\n",
              "\n",
              "      <script>\n",
              "        const buttonEl =\n",
              "          document.querySelector('#df-cf320acc-2def-45c4-8512-bbba65cb64c2 button.colab-df-convert');\n",
              "        buttonEl.style.display =\n",
              "          google.colab.kernel.accessAllowed ? 'block' : 'none';\n",
              "\n",
              "        async function convertToInteractive(key) {\n",
              "          const element = document.querySelector('#df-cf320acc-2def-45c4-8512-bbba65cb64c2');\n",
              "          const dataTable =\n",
              "            await google.colab.kernel.invokeFunction('convertToInteractive',\n",
              "                                                     [key], {});\n",
              "          if (!dataTable) return;\n",
              "\n",
              "          const docLinkHtml = 'Like what you see? Visit the ' +\n",
              "            '<a target=\"_blank\" href=https://colab.research.google.com/notebooks/data_table.ipynb>data table notebook</a>'\n",
              "            + ' to learn more about interactive tables.';\n",
              "          element.innerHTML = '';\n",
              "          dataTable['output_type'] = 'display_data';\n",
              "          await google.colab.output.renderOutput(dataTable, element);\n",
              "          const docLink = document.createElement('div');\n",
              "          docLink.innerHTML = docLinkHtml;\n",
              "          element.appendChild(docLink);\n",
              "        }\n",
              "      </script>\n",
              "    </div>\n",
              "  </div>\n",
              "  "
            ]
          },
          "metadata": {},
          "execution_count": 21
        }
      ]
    },
    {
      "cell_type": "code",
      "source": [
        "dependent_variable = df['TenYearCHD']\n",
        "dependent_variable.head()    #dependent data"
      ],
      "metadata": {
        "colab": {
          "base_uri": "https://localhost:8080/"
        },
        "id": "Kxo0o-sHaJjt",
        "outputId": "acda2c04-faad-42fb-fd92-508be9b270d3"
      },
      "execution_count": null,
      "outputs": [
        {
          "output_type": "execute_result",
          "data": {
            "text/plain": [
              "1    0\n",
              "2    0\n",
              "3    1\n",
              "4    0\n",
              "5    1\n",
              "Name: TenYearCHD, dtype: int64"
            ]
          },
          "metadata": {},
          "execution_count": 22
        }
      ]
    },
    {
      "cell_type": "markdown",
      "source": [
        "# *Now dividing the columns as mentioned above in the dataset*\n",
        "\n",
        "Demographic:\n",
        "• Sex\n",
        "• Age \n",
        "\n",
        "Behavioral :\n",
        "• is_smoking\n",
        "• Cigs Per Day\n",
        "\n",
        "Medical( history)\n",
        "• BP Meds\n",
        "• Prevalent Stroke\n",
        "• Prevalent Hyp\n",
        "• Diabetes \n",
        "• Tot Chol \n",
        "• Sys BP \n",
        "• Dia BP \n",
        "• BMI \n",
        "• Heart Rate \n",
        "• Glucose\n",
        "\n",
        "\n",
        "\n",
        "\n",
        "Medical(current)\n",
        "• Tot Chol\n",
        "• Sys BP\n",
        "• Dia BP\n",
        "• BMI\n",
        "• Heart Rate\n",
        "• Glucose\n",
        "\n",
        "Target variable\n",
        "•TenYearChD"
      ],
      "metadata": {
        "id": "KQEZl_AgdZQl"
      }
    },
    {
      "cell_type": "code",
      "source": [
        "col_Demographic = [ 'age', 'education', 'sex']\n",
        "\n",
        "col_Behavioral = ['is_smoking', 'cigsPerDay']\n",
        "\n",
        "col_medical_history = ['BPMeds', 'prevalentStroke', 'prevalentHyp', 'diabetes', 'totChol', 'sysBP',\n",
        "       'diaBP', 'BMI', 'heartRate', 'glucose']\n",
        "\n",
        "col_medical_current = ['totChol', 'sysBP', 'diaBP', 'BMI', 'heartRate', 'glucose']\n",
        "\n",
        "col_target = ['TenYearCHD']"
      ],
      "metadata": {
        "id": "zRQH4WIreaCf"
      },
      "execution_count": null,
      "outputs": []
    },
    {
      "cell_type": "code",
      "source": [
        "independent_vars = df[col_Demographic + col_Behavioral + col_medical_history + col_medical_current]\n",
        "dependent_vars = df[col_target]"
      ],
      "metadata": {
        "id": "VsIsqcVcfFM4"
      },
      "execution_count": null,
      "outputs": []
    },
    {
      "cell_type": "markdown",
      "source": [
        "# ***`EDA`***"
      ],
      "metadata": {
        "id": "g2OQ3zifuzH9"
      }
    },
    {
      "cell_type": "code",
      "source": [
        "plt.figure(figsize=(20,12))\n",
        "sns.heatmap(df.corr(),annot=True,linewidth=2)"
      ],
      "metadata": {
        "colab": {
          "base_uri": "https://localhost:8080/",
          "height": 465
        },
        "id": "oaI-rHDZNvBi",
        "outputId": "469101af-eafa-4f27-fe65-c3967d9a612b"
      },
      "execution_count": null,
      "outputs": [
        {
          "output_type": "execute_result",
          "data": {
            "text/plain": [
              "<matplotlib.axes._subplots.AxesSubplot at 0x7f0d6c773390>"
            ]
          },
          "metadata": {},
          "execution_count": 25
        },
        {
          "output_type": "display_data",
          "data": {
            "text/plain": [
              "<Figure size 1440x864 with 2 Axes>"
            ],
            "image/png": "[encoded data removed]"
          },
          "metadata": {
            "needs_background": "light"
          }
        }
      ]
    },
    {
      "cell_type": "code",
      "source": [
        "independent_vars.hist(figsize= (20,15))\n",
        "plt.show()"
      ],
      "metadata": {
        "colab": {
          "base_uri": "https://localhost:8080/",
          "height": 483
        },
        "id": "dUt6o3wF4t0S",
        "outputId": "6d0e72bb-361f-436e-be3e-7a9d0b0d6b8c"
      },
      "execution_count": null,
      "outputs": [
        {
          "output_type": "display_data",
          "data": {
            "text/plain": [
              "<Figure size 1440x1080 with 20 Axes>"
            ],
            "image/png": "[encoded data removed]"
          },
          "metadata": {
            "needs_background": "light"
          }
        }
      ]
    },
    {
      "cell_type": "code",
      "source": [
        "dependent_vars.hist(figsize= (10,6))\n",
        "plt.show()"
      ],
      "metadata": {
        "colab": {
          "base_uri": "https://localhost:8080/",
          "height": 390
        },
        "id": "TwrSVmXQf_5F",
        "outputId": "c01f6c73-7e31-40d6-f302-75d6a815e34d"
      },
      "execution_count": null,
      "outputs": [
        {
          "output_type": "display_data",
          "data": {
            "text/plain": [
              "<Figure size 720x432 with 1 Axes>"
            ],
            "image/png": "[encoded data removed]"
          },
          "metadata": {
            "needs_background": "light"
          }
        }
      ]
    },
    {
      "cell_type": "markdown",
      "source": [
        "Let’s see the plots. By looking at bar plot we can say that there are categorical variable.We need to handle these categorical variables before applying Machine Learning Model. Our target states that we have two classes, 0 for no disease and 1 for disease."
      ],
      "metadata": {
        "id": "kWlPxG4bhLD2"
      }
    },
    {
      "cell_type": "markdown",
      "source": [
        "# ***Outliers***"
      ],
      "metadata": {
        "id": "tj5KHlX0h73K"
      }
    },
    {
      "cell_type": "code",
      "source": [
        "plt.figure(figsize =(20,10))\n",
        "sns.boxplot(data=df)\n",
        "plt.xlabel('Independent Feature')"
      ],
      "metadata": {
        "colab": {
          "base_uri": "https://localhost:8080/",
          "height": 355
        },
        "id": "fglXV9EZgvdt",
        "outputId": "f580806b-4137-4c52-a166-2652468febfe"
      },
      "execution_count": null,
      "outputs": [
        {
          "output_type": "execute_result",
          "data": {
            "text/plain": [
              "Text(0.5, 0, 'Independent Feature')"
            ]
          },
          "metadata": {},
          "execution_count": 28
        },
        {
          "output_type": "display_data",
          "data": {
            "text/plain": [
              "<Figure size 1440x720 with 1 Axes>"
            ],
            "image/png": "[encoded data removed]"
          },
          "metadata": {
            "needs_background": "light"
          }
        }
      ]
    },
    {
      "cell_type": "code",
      "source": [
        "sns.countplot(df['prevalentHyp'],palette='pastel')\n",
        "plt.show()"
      ],
      "metadata": {
        "colab": {
          "base_uri": "https://localhost:8080/",
          "height": 334
        },
        "id": "mcdxmLbejdI_",
        "outputId": "27a686fe-8f1b-483e-d5b6-eadfb1c96521"
      },
      "execution_count": null,
      "outputs": [
        {
          "output_type": "stream",
          "name": "stderr",
          "text": [
            "/usr/local/lib/python3.7/dist-packages/seaborn/_decorators.py:43: FutureWarning: Pass the following variable as a keyword arg: x. From version 0.12, the only valid positional argument will be `data`, and passing other arguments without an explicit keyword will result in an error or misinterpretation.\n",
            "  FutureWarning\n"
          ]
        },
        {
          "output_type": "display_data",
          "data": {
            "text/plain": [
              "<Figure size 432x288 with 1 Axes>"
            ],
            "image/png": "[encoded data removed]"
          },
          "metadata": {
            "needs_background": "light"
          }
        }
      ]
    },
    {
      "cell_type": "code",
      "source": [
        "diabetics = df['diabetes'].value_counts()\n",
        "diabetics"
      ],
      "metadata": {
        "colab": {
          "base_uri": "https://localhost:8080/"
        },
        "id": "t3Yz1AybAWZS",
        "outputId": "64fafb3d-1cfb-49d4-b119-0364ff1f0d8f"
      },
      "execution_count": null,
      "outputs": [
        {
          "output_type": "execute_result",
          "data": {
            "text/plain": [
              "0    2848\n",
              "1      79\n",
              "Name: diabetes, dtype: int64"
            ]
          },
          "metadata": {},
          "execution_count": 30
        }
      ]
    },
    {
      "cell_type": "code",
      "source": [
        "a=df['diabetes'].value_counts().plot(kind='pie',autopct='%1.1f%%', explode=[0,0.50])\n",
        "plt.rcParams['figure.figsize'] = (10,5)"
      ],
      "metadata": {
        "colab": {
          "base_uri": "https://localhost:8080/",
          "height": 248
        },
        "id": "AZNTpqwm3pCF",
        "outputId": "390e84fb-985a-4688-fe89-3efbddc054d8"
      },
      "execution_count": null,
      "outputs": [
        {
          "output_type": "display_data",
          "data": {
            "text/plain": [
              "<Figure size 432x288 with 1 Axes>"
            ],
            "image/png": "[encoded data removed]"
          },
          "metadata": {}
        }
      ]
    },
    {
      "cell_type": "code",
      "source": [
        "age = df['age'].value_counts()\n",
        "age"
      ],
      "metadata": {
        "id": "Nq9gLlTeEnq1",
        "colab": {
          "base_uri": "https://localhost:8080/"
        },
        "outputId": "9c8e6669-636a-4c1c-f7d1-3c5fd81952db"
      },
      "execution_count": null,
      "outputs": [
        {
          "output_type": "execute_result",
          "data": {
            "text/plain": [
              "40    130\n",
              "42    129\n",
              "46    128\n",
              "41    122\n",
              "39    120\n",
              "44    115\n",
              "45    114\n",
              "48    114\n",
              "43    106\n",
              "38    103\n",
              "52    101\n",
              "50    100\n",
              "55     99\n",
              "53     98\n",
              "54     97\n",
              "51     97\n",
              "49     91\n",
              "47     86\n",
              "60     84\n",
              "57     84\n",
              "63     82\n",
              "56     81\n",
              "58     78\n",
              "59     76\n",
              "62     73\n",
              "61     73\n",
              "36     68\n",
              "37     65\n",
              "64     63\n",
              "65     36\n",
              "67     27\n",
              "66     27\n",
              "35     24\n",
              "34     13\n",
              "68     13\n",
              "33      4\n",
              "69      4\n",
              "70      1\n",
              "32      1\n",
              "Name: age, dtype: int64"
            ]
          },
          "metadata": {},
          "execution_count": 32
        }
      ]
    },
    {
      "cell_type": "code",
      "source": [
        "plt.figure(figsize = (20,8))\n",
        "sns.countplot(x = df['age'], data = df)"
      ],
      "metadata": {
        "colab": {
          "base_uri": "https://localhost:8080/",
          "height": 292
        },
        "id": "Js-4fq0H31gf",
        "outputId": "741b7b8d-11a6-46ba-e620-87961b8db8e3"
      },
      "execution_count": null,
      "outputs": [
        {
          "output_type": "execute_result",
          "data": {
            "text/plain": [
              "<matplotlib.axes._subplots.AxesSubplot at 0x7f0d67722690>"
            ]
          },
          "metadata": {},
          "execution_count": 33
        },
        {
          "output_type": "display_data",
          "data": {
            "text/plain": [
              "<Figure size 1440x576 with 1 Axes>"
            ],
            "image/png": "[encoded data removed]"
          },
          "metadata": {
            "needs_background": "light"
          }
        }
      ]
    },
    {
      "cell_type": "markdown",
      "source": [
        "# ***Age 40 has the highest counts***"
      ],
      "metadata": {
        "id": "p0Rb0K5zOo-I"
      }
    },
    {
      "cell_type": "markdown",
      "source": [
        "\n",
        "\n",
        "---\n",
        "\n",
        "\n",
        "\n",
        "---\n",
        "\n"
      ],
      "metadata": {
        "id": "VkJ2aC3jO6uI"
      }
    },
    {
      "cell_type": "markdown",
      "source": [
        "So we should divide the Age feature into three parts – “Young”, “Middle” and “Elder”"
      ],
      "metadata": {
        "id": "C_9ytL6oO8ge"
      }
    },
    {
      "cell_type": "code",
      "source": [
        "Young = df[(df.age>=32)&(df.age<40)]\n",
        "Middle = df[(df.age>=40)&(df.age<50)]\n",
        "Elder = df[(df.age>50)]\n",
        "\n",
        "plt.figure(figsize=(5,5))\n",
        "sns.set_context('notebook',font_scale = 1.0)\n",
        "sns.barplot(x=['young ages','middle ages','elderly ages'],y=[len(Young),len(Middle),len(Elder)])\n",
        "plt.tight_layout()"
      ],
      "metadata": {
        "id": "VKEfyHC2495L",
        "colab": {
          "base_uri": "https://localhost:8080/",
          "height": 365
        },
        "outputId": "e8c14ee7-f89a-46de-af07-7b447c35432f"
      },
      "execution_count": null,
      "outputs": [
        {
          "output_type": "display_data",
          "data": {
            "text/plain": [
              "<Figure size 360x360 with 1 Axes>"
            ],
            "image/png": "[encoded data removed]"
          },
          "metadata": {
            "needs_background": "light"
          }
        }
      ]
    },
    {
      "cell_type": "markdown",
      "source": [
        "*Here we can clearly say that elderly aged people are most affected by Heart Disease young ones are less affected*"
      ],
      "metadata": {
        "id": "dOQHRGBHPb6_"
      }
    },
    {
      "cell_type": "code",
      "source": [
        "sex = df['sex'].value_counts()\n",
        "sex"
      ],
      "metadata": {
        "colab": {
          "base_uri": "https://localhost:8080/"
        },
        "id": "l3NBnl3HPW7x",
        "outputId": "b4be6a3c-263d-4d83-f011-ca686ce49ac7"
      },
      "execution_count": null,
      "outputs": [
        {
          "output_type": "execute_result",
          "data": {
            "text/plain": [
              "F    1620\n",
              "M    1307\n",
              "Name: sex, dtype: int64"
            ]
          },
          "metadata": {},
          "execution_count": 35
        }
      ]
    },
    {
      "cell_type": "code",
      "source": [
        "plt.figure(figsize=(5,5))\n",
        "sns.countplot(df['sex'])"
      ],
      "metadata": {
        "colab": {
          "base_uri": "https://localhost:8080/",
          "height": 411
        },
        "id": "V0SSvCwZP3uI",
        "outputId": "3659e486-1009-42ed-c0d0-9a91c7618a08"
      },
      "execution_count": null,
      "outputs": [
        {
          "output_type": "stream",
          "name": "stderr",
          "text": [
            "/usr/local/lib/python3.7/dist-packages/seaborn/_decorators.py:43: FutureWarning: Pass the following variable as a keyword arg: x. From version 0.12, the only valid positional argument will be `data`, and passing other arguments without an explicit keyword will result in an error or misinterpretation.\n",
            "  FutureWarning\n"
          ]
        },
        {
          "output_type": "execute_result",
          "data": {
            "text/plain": [
              "<matplotlib.axes._subplots.AxesSubplot at 0x7f0d67591510>"
            ]
          },
          "metadata": {},
          "execution_count": 36
        },
        {
          "output_type": "display_data",
          "data": {
            "text/plain": [
              "<Figure size 360x360 with 1 Axes>"
            ],
            "image/png": "[encoded data removed]"
          },
          "metadata": {
            "needs_background": "light"
          }
        }
      ]
    },
    {
      "cell_type": "markdown",
      "source": [
        "Female count is more that the male count."
      ],
      "metadata": {
        "id": "q2SYubS0QXFP"
      }
    },
    {
      "cell_type": "code",
      "source": [
        "df.columns"
      ],
      "metadata": {
        "colab": {
          "base_uri": "https://localhost:8080/"
        },
        "id": "5oqeE0HmP9TQ",
        "outputId": "d6498d91-20b6-462a-a35e-b6d01f592c75"
      },
      "execution_count": null,
      "outputs": [
        {
          "output_type": "execute_result",
          "data": {
            "text/plain": [
              "Index(['age', 'education', 'sex', 'is_smoking', 'cigsPerDay', 'BPMeds',\n",
              "       'prevalentStroke', 'prevalentHyp', 'diabetes', 'totChol', 'sysBP',\n",
              "       'diaBP', 'BMI', 'heartRate', 'glucose', 'TenYearCHD'],\n",
              "      dtype='object')"
            ]
          },
          "metadata": {},
          "execution_count": 37
        }
      ]
    },
    {
      "cell_type": "markdown",
      "source": [
        "***Data Processing***"
      ],
      "metadata": {
        "id": "DBka8kJeRyut"
      }
    },
    {
      "cell_type": "code",
      "source": [
        "cat_col=[]\n",
        "cont_col=[]\n",
        "\n",
        "for i in df.columns:\n",
        "  if df[i].nunique()<=15:\n",
        "    cat_col.append(i)\n",
        "  else:\n",
        "    cont_col.append(i)"
      ],
      "metadata": {
        "id": "l2SiH6x1Qf1B"
      },
      "execution_count": null,
      "outputs": []
    },
    {
      "cell_type": "code",
      "source": [
        "cat_col"
      ],
      "metadata": {
        "colab": {
          "base_uri": "https://localhost:8080/"
        },
        "id": "y0m60fNeRaDa",
        "outputId": "06ebf208-1d37-42e4-fe8e-e1be56a570e0"
      },
      "execution_count": null,
      "outputs": [
        {
          "output_type": "execute_result",
          "data": {
            "text/plain": [
              "['education',\n",
              " 'sex',\n",
              " 'is_smoking',\n",
              " 'BPMeds',\n",
              " 'prevalentStroke',\n",
              " 'prevalentHyp',\n",
              " 'diabetes',\n",
              " 'TenYearCHD']"
            ]
          },
          "metadata": {},
          "execution_count": 41
        }
      ]
    },
    {
      "cell_type": "code",
      "source": [
        "cont_col"
      ],
      "metadata": {
        "colab": {
          "base_uri": "https://localhost:8080/"
        },
        "id": "NB2wz9oTRbz8",
        "outputId": "7b82749c-25bd-4420-e484-8d94f43c4183"
      },
      "execution_count": null,
      "outputs": [
        {
          "output_type": "execute_result",
          "data": {
            "text/plain": [
              "['age',\n",
              " 'cigsPerDay',\n",
              " 'totChol',\n",
              " 'sysBP',\n",
              " 'diaBP',\n",
              " 'BMI',\n",
              " 'heartRate',\n",
              " 'glucose']"
            ]
          },
          "metadata": {},
          "execution_count": 42
        }
      ]
    },
    {
      "cell_type": "markdown",
      "source": [
        "# *Encoding Categorical Columns*"
      ],
      "metadata": {
        "id": "R7DoKJXvR52K"
      }
    },
    {
      "cell_type": "code",
      "source": [
        "cat_col.remove('TenYearCHD')"
      ],
      "metadata": {
        "id": "a5xd7iNZRduD"
      },
      "execution_count": null,
      "outputs": []
    },
    {
      "cell_type": "code",
      "source": [
        "cat_col"
      ],
      "metadata": {
        "colab": {
          "base_uri": "https://localhost:8080/"
        },
        "id": "q1tMXzG4SiiM",
        "outputId": "e81fe8d8-6eeb-4ee0-b643-60904abb6aaa"
      },
      "execution_count": null,
      "outputs": [
        {
          "output_type": "execute_result",
          "data": {
            "text/plain": [
              "['education',\n",
              " 'sex',\n",
              " 'is_smoking',\n",
              " 'BPMeds',\n",
              " 'prevalentStroke',\n",
              " 'prevalentHyp',\n",
              " 'diabetes']"
            ]
          },
          "metadata": {},
          "execution_count": 44
        }
      ]
    },
    {
      "cell_type": "code",
      "source": [
        "df = pd.get_dummies(df,columns=cat_col,drop_first=True)"
      ],
      "metadata": {
        "id": "Lez99rFfSkFQ"
      },
      "execution_count": null,
      "outputs": []
    },
    {
      "cell_type": "code",
      "source": [
        "df.head()"
      ],
      "metadata": {
        "colab": {
          "base_uri": "https://localhost:8080/",
          "height": 270
        },
        "id": "zS21NfrkSzgV",
        "outputId": "4213d468-1974-4589-f8da-85fd46fdf8de"
      },
      "execution_count": null,
      "outputs": [
        {
          "output_type": "execute_result",
          "data": {
            "text/plain": [
              "   age  cigsPerDay  totChol  sysBP  diaBP    BMI  heartRate  glucose  \\\n",
              "1   36         0.0    212.0  168.0   98.0  29.77       72.0     75.0   \n",
              "2   46        10.0    250.0  116.0   71.0  20.35       88.0     94.0   \n",
              "3   50        20.0    233.0  158.0   88.0  28.26       68.0     94.0   \n",
              "4   64        30.0    241.0  136.5   85.0  26.42       70.0     77.0   \n",
              "5   61         0.0    272.0  182.0  121.0  32.80       85.0     65.0   \n",
              "\n",
              "   TenYearCHD  education_2.0  education_3.0  education_4.0  sex_M  \\\n",
              "1           0              0              0              1      1   \n",
              "2           0              0              0              0      0   \n",
              "3           1              0              0              0      1   \n",
              "4           0              0              0              0      0   \n",
              "5           1              0              1              0      0   \n",
              "\n",
              "   is_smoking_YES  BPMeds_1.0  prevalentStroke_1  prevalentHyp_1  diabetes_1  \n",
              "1               0           0                  0               1           0  \n",
              "2               1           0                  0               0           0  \n",
              "3               1           0                  0               1           0  \n",
              "4               1           0                  0               0           0  \n",
              "5               0           0                  0               1           0  "
            ],
            "text/html": [
              "\n",
              "  <div id=\"df-607a63c8-1856-4233-bd20-1f3364a1ff35\">\n",
              "    <div class=\"colab-df-container\">\n",
              "      <div>\n",
              "<style scoped>\n",
              "    .dataframe tbody tr th:only-of-type {\n",
              "        vertical-align: middle;\n",
              "    }\n",
              "\n",
              "    .dataframe tbody tr th {\n",
              "        vertical-align: top;\n",
              "    }\n",
              "\n",
              "    .dataframe thead th {\n",
              "        text-align: right;\n",
              "    }\n",
              "</style>\n",
              "<table border=\"1\" class=\"dataframe\">\n",
              "  <thead>\n",
              "    <tr style=\"text-align: right;\">\n",
              "      <th></th>\n",
              "      <th>age</th>\n",
              "      <th>cigsPerDay</th>\n",
              "      <th>totChol</th>\n",
              "      <th>sysBP</th>\n",
              "      <th>diaBP</th>\n",
              "      <th>BMI</th>\n",
              "      <th>heartRate</th>\n",
              "      <th>glucose</th>\n",
              "      <th>TenYearCHD</th>\n",
              "      <th>education_2.0</th>\n",
              "      <th>education_3.0</th>\n",
              "      <th>education_4.0</th>\n",
              "      <th>sex_M</th>\n",
              "      <th>is_smoking_YES</th>\n",
              "      <th>BPMeds_1.0</th>\n",
              "      <th>prevalentStroke_1</th>\n",
              "      <th>prevalentHyp_1</th>\n",
              "      <th>diabetes_1</th>\n",
              "    </tr>\n",
              "  </thead>\n",
              "  <tbody>\n",
              "    <tr>\n",
              "      <th>1</th>\n",
              "      <td>36</td>\n",
              "      <td>0.0</td>\n",
              "      <td>212.0</td>\n",
              "      <td>168.0</td>\n",
              "      <td>98.0</td>\n",
              "      <td>29.77</td>\n",
              "      <td>72.0</td>\n",
              "      <td>75.0</td>\n",
              "      <td>0</td>\n",
              "      <td>0</td>\n",
              "      <td>0</td>\n",
              "      <td>1</td>\n",
              "      <td>1</td>\n",
              "      <td>0</td>\n",
              "      <td>0</td>\n",
              "      <td>0</td>\n",
              "      <td>1</td>\n",
              "      <td>0</td>\n",
              "    </tr>\n",
              "    <tr>\n",
              "      <th>2</th>\n",
              "      <td>46</td>\n",
              "      <td>10.0</td>\n",
              "      <td>250.0</td>\n",
              "      <td>116.0</td>\n",
              "      <td>71.0</td>\n",
              "      <td>20.35</td>\n",
              "      <td>88.0</td>\n",
              "      <td>94.0</td>\n",
              "      <td>0</td>\n",
              "      <td>0</td>\n",
              "      <td>0</td>\n",
              "      <td>0</td>\n",
              "      <td>0</td>\n",
              "      <td>1</td>\n",
              "      <td>0</td>\n",
              "      <td>0</td>\n",
              "      <td>0</td>\n",
              "      <td>0</td>\n",
              "    </tr>\n",
              "    <tr>\n",
              "      <th>3</th>\n",
              "      <td>50</td>\n",
              "      <td>20.0</td>\n",
              "      <td>233.0</td>\n",
              "      <td>158.0</td>\n",
              "      <td>88.0</td>\n",
              "      <td>28.26</td>\n",
              "      <td>68.0</td>\n",
              "      <td>94.0</td>\n",
              "      <td>1</td>\n",
              "      <td>0</td>\n",
              "      <td>0</td>\n",
              "      <td>0</td>\n",
              "      <td>1</td>\n",
              "      <td>1</td>\n",
              "      <td>0</td>\n",
              "      <td>0</td>\n",
              "      <td>1</td>\n",
              "      <td>0</td>\n",
              "    </tr>\n",
              "    <tr>\n",
              "      <th>4</th>\n",
              "      <td>64</td>\n",
              "      <td>30.0</td>\n",
              "      <td>241.0</td>\n",
              "      <td>136.5</td>\n",
              "      <td>85.0</td>\n",
              "      <td>26.42</td>\n",
              "      <td>70.0</td>\n",
              "      <td>77.0</td>\n",
              "      <td>0</td>\n",
              "      <td>0</td>\n",
              "      <td>0</td>\n",
              "      <td>0</td>\n",
              "      <td>0</td>\n",
              "      <td>1</td>\n",
              "      <td>0</td>\n",
              "      <td>0</td>\n",
              "      <td>0</td>\n",
              "      <td>0</td>\n",
              "    </tr>\n",
              "    <tr>\n",
              "      <th>5</th>\n",
              "      <td>61</td>\n",
              "      <td>0.0</td>\n",
              "      <td>272.0</td>\n",
              "      <td>182.0</td>\n",
              "      <td>121.0</td>\n",
              "      <td>32.80</td>\n",
              "      <td>85.0</td>\n",
              "      <td>65.0</td>\n",
              "      <td>1</td>\n",
              "      <td>0</td>\n",
              "      <td>1</td>\n",
              "      <td>0</td>\n",
              "      <td>0</td>\n",
              "      <td>0</td>\n",
              "      <td>0</td>\n",
              "      <td>0</td>\n",
              "      <td>1</td>\n",
              "      <td>0</td>\n",
              "    </tr>\n",
              "  </tbody>\n",
              "</table>\n",
              "</div>\n",
              "      <button class=\"colab-df-convert\" onclick=\"convertToInteractive('df-607a63c8-1856-4233-bd20-1f3364a1ff35')\"\n",
              "              title=\"Convert this dataframe to an interactive table.\"\n",
              "              style=\"display:none;\">\n",
              "        \n",
              "  <svg xmlns=\"http://www.w3.org/2000/svg\" height=\"24px\"viewBox=\"0 0 24 24\"\n",
              "       width=\"24px\">\n",
              "    <path d=\"M0 0h24v24H0V0z\" fill=\"none\"/>\n",
              "    <path d=\"M18.56 5.44l.94 2.06.94-2.06 2.06-.94-2.06-.94-.94-2.06-.94 2.06-2.06.94zm-11 1L8.5 8.5l.94-2.06 2.06-.94-2.06-.94L8.5 2.5l-.94 2.06-2.06.94zm10 10l.94 2.06.94-2.06 2.06-.94-2.06-.94-.94-2.06-.94 2.06-2.06.94z\"/><path d=\"M17.41 7.96l-1.37-1.37c-.4-.4-.92-.59-1.43-.59-.52 0-1.04.2-1.43.59L10.3 9.45l-7.72 7.72c-.78.78-.78 2.05 0 2.83L4 21.41c.39.39.9.59 1.41.59.51 0 1.02-.2 1.41-.59l7.78-7.78 2.81-2.81c.8-.78.8-2.07 0-2.86zM5.41 20L4 18.59l7.72-7.72 1.47 1.35L5.41 20z\"/>\n",
              "  </svg>\n",
              "      </button>\n",
              "      \n",
              "  <style>\n",
              "    .colab-df-container {\n",
              "      display:flex;\n",
              "      flex-wrap:wrap;\n",
              "      gap: 12px;\n",
              "    }\n",
              "\n",
              "    .colab-df-convert {\n",
              "      background-color: #E8F0FE;\n",
              "      border: none;\n",
              "      border-radius: 50%;\n",
              "      cursor: pointer;\n",
              "      display: none;\n",
              "      fill: #1967D2;\n",
              "      height: 32px;\n",
              "      padding: 0 0 0 0;\n",
              "      width: 32px;\n",
              "    }\n",
              "\n",
              "    .colab-df-convert:hover {\n",
              "      background-color: #E2EBFA;\n",
              "      box-shadow: 0px 1px 2px rgba(60, 64, 67, 0.3), 0px 1px 3px 1px rgba(60, 64, 67, 0.15);\n",
              "      fill: #174EA6;\n",
              "    }\n",
              "\n",
              "    [theme=dark] .colab-df-convert {\n",
              "      background-color: #3B4455;\n",
              "      fill: #D2E3FC;\n",
              "    }\n",
              "\n",
              "    [theme=dark] .colab-df-convert:hover {\n",
              "      background-color: #434B5C;\n",
              "      box-shadow: 0px 1px 3px 1px rgba(0, 0, 0, 0.15);\n",
              "      filter: drop-shadow(0px 1px 2px rgba(0, 0, 0, 0.3));\n",
              "      fill: #FFFFFF;\n",
              "    }\n",
              "  </style>\n",
              "\n",
              "      <script>\n",
              "        const buttonEl =\n",
              "          document.querySelector('#df-607a63c8-1856-4233-bd20-1f3364a1ff35 button.colab-df-convert');\n",
              "        buttonEl.style.display =\n",
              "          google.colab.kernel.accessAllowed ? 'block' : 'none';\n",
              "\n",
              "        async function convertToInteractive(key) {\n",
              "          const element = document.querySelector('#df-607a63c8-1856-4233-bd20-1f3364a1ff35');\n",
              "          const dataTable =\n",
              "            await google.colab.kernel.invokeFunction('convertToInteractive',\n",
              "                                                     [key], {});\n",
              "          if (!dataTable) return;\n",
              "\n",
              "          const docLinkHtml = 'Like what you see? Visit the ' +\n",
              "            '<a target=\"_blank\" href=https://colab.research.google.com/notebooks/data_table.ipynb>data table notebook</a>'\n",
              "            + ' to learn more about interactive tables.';\n",
              "          element.innerHTML = '';\n",
              "          dataTable['output_type'] = 'display_data';\n",
              "          await google.colab.output.renderOutput(dataTable, element);\n",
              "          const docLink = document.createElement('div');\n",
              "          docLink.innerHTML = docLinkHtml;\n",
              "          element.appendChild(docLink);\n",
              "        }\n",
              "      </script>\n",
              "    </div>\n",
              "  </div>\n",
              "  "
            ]
          },
          "metadata": {},
          "execution_count": 46
        }
      ]
    },
    {
      "cell_type": "code",
      "source": [
        "cat_col"
      ],
      "metadata": {
        "colab": {
          "base_uri": "https://localhost:8080/"
        },
        "id": "sYrVl7HyooLj",
        "outputId": "a9ce8cec-1ed0-4527-f820-a8d62e0ea9d5"
      },
      "execution_count": null,
      "outputs": [
        {
          "output_type": "execute_result",
          "data": {
            "text/plain": [
              "['education',\n",
              " 'sex',\n",
              " 'is_smoking',\n",
              " 'BPMeds',\n",
              " 'prevalentStroke',\n",
              " 'prevalentHyp',\n",
              " 'diabetes']"
            ]
          },
          "metadata": {},
          "execution_count": 51
        }
      ]
    },
    {
      "cell_type": "markdown",
      "source": [
        "## **Feature Scaling**"
      ],
      "metadata": {
        "id": "mvAN1aSZTAZo"
      }
    },
    {
      "cell_type": "code",
      "source": [
        "from sklearn.preprocessing import MinMaxScaler"
      ],
      "metadata": {
        "id": "CIU2K49US_Hr"
      },
      "execution_count": null,
      "outputs": []
    },
    {
      "cell_type": "code",
      "source": [
        "fit=MinMaxScaler()\n",
        "df[cont_col]=fit.fit_transform(df[cont_col])"
      ],
      "metadata": {
        "id": "DgZOZ1MCS-_X"
      },
      "execution_count": null,
      "outputs": []
    },
    {
      "cell_type": "code",
      "source": [
        "df.head()"
      ],
      "metadata": {
        "colab": {
          "base_uri": "https://localhost:8080/",
          "height": 270
        },
        "id": "onJHq6hdS-zE",
        "outputId": "a1c03656-06c0-4eca-936a-535d892cb07e"
      },
      "execution_count": null,
      "outputs": [
        {
          "output_type": "execute_result",
          "data": {
            "text/plain": [
              "        age  cigsPerDay   totChol     sysBP     diaBP       BMI  heartRate  \\\n",
              "1  0.105263    0.000000  0.203285  0.399527  0.529101  0.338149   0.275510   \n",
              "2  0.368421    0.142857  0.281314  0.153664  0.243386  0.107493   0.438776   \n",
              "3  0.473684    0.285714  0.246407  0.352246  0.423280  0.301175   0.234694   \n",
              "4  0.842105    0.428571  0.262834  0.250591  0.391534  0.256121   0.255102   \n",
              "5  0.763158    0.000000  0.326489  0.465721  0.772487  0.412341   0.408163   \n",
              "\n",
              "    glucose  TenYearCHD  education_2.0  education_3.0  education_4.0  sex_M  \\\n",
              "1  0.098870           0              0              0              1      1   \n",
              "2  0.152542           0              0              0              0      0   \n",
              "3  0.152542           1              0              0              0      1   \n",
              "4  0.104520           0              0              0              0      0   \n",
              "5  0.070621           1              0              1              0      0   \n",
              "\n",
              "   is_smoking_YES  BPMeds_1.0  prevalentStroke_1  prevalentHyp_1  diabetes_1  \n",
              "1               0           0                  0               1           0  \n",
              "2               1           0                  0               0           0  \n",
              "3               1           0                  0               1           0  \n",
              "4               1           0                  0               0           0  \n",
              "5               0           0                  0               1           0  "
            ],
            "text/html": [
              "\n",
              "  <div id=\"df-7ad41281-cf14-4e42-8e19-a26ab9219a78\">\n",
              "    <div class=\"colab-df-container\">\n",
              "      <div>\n",
              "<style scoped>\n",
              "    .dataframe tbody tr th:only-of-type {\n",
              "        vertical-align: middle;\n",
              "    }\n",
              "\n",
              "    .dataframe tbody tr th {\n",
              "        vertical-align: top;\n",
              "    }\n",
              "\n",
              "    .dataframe thead th {\n",
              "        text-align: right;\n",
              "    }\n",
              "</style>\n",
              "<table border=\"1\" class=\"dataframe\">\n",
              "  <thead>\n",
              "    <tr style=\"text-align: right;\">\n",
              "      <th></th>\n",
              "      <th>age</th>\n",
              "      <th>cigsPerDay</th>\n",
              "      <th>totChol</th>\n",
              "      <th>sysBP</th>\n",
              "      <th>diaBP</th>\n",
              "      <th>BMI</th>\n",
              "      <th>heartRate</th>\n",
              "      <th>glucose</th>\n",
              "      <th>TenYearCHD</th>\n",
              "      <th>education_2.0</th>\n",
              "      <th>education_3.0</th>\n",
              "      <th>education_4.0</th>\n",
              "      <th>sex_M</th>\n",
              "      <th>is_smoking_YES</th>\n",
              "      <th>BPMeds_1.0</th>\n",
              "      <th>prevalentStroke_1</th>\n",
              "      <th>prevalentHyp_1</th>\n",
              "      <th>diabetes_1</th>\n",
              "    </tr>\n",
              "  </thead>\n",
              "  <tbody>\n",
              "    <tr>\n",
              "      <th>1</th>\n",
              "      <td>0.105263</td>\n",
              "      <td>0.000000</td>\n",
              "      <td>0.203285</td>\n",
              "      <td>0.399527</td>\n",
              "      <td>0.529101</td>\n",
              "      <td>0.338149</td>\n",
              "      <td>0.275510</td>\n",
              "      <td>0.098870</td>\n",
              "      <td>0</td>\n",
              "      <td>0</td>\n",
              "      <td>0</td>\n",
              "      <td>1</td>\n",
              "      <td>1</td>\n",
              "      <td>0</td>\n",
              "      <td>0</td>\n",
              "      <td>0</td>\n",
              "      <td>1</td>\n",
              "      <td>0</td>\n",
              "    </tr>\n",
              "    <tr>\n",
              "      <th>2</th>\n",
              "      <td>0.368421</td>\n",
              "      <td>0.142857</td>\n",
              "      <td>0.281314</td>\n",
              "      <td>0.153664</td>\n",
              "      <td>0.243386</td>\n",
              "      <td>0.107493</td>\n",
              "      <td>0.438776</td>\n",
              "      <td>0.152542</td>\n",
              "      <td>0</td>\n",
              "      <td>0</td>\n",
              "      <td>0</td>\n",
              "      <td>0</td>\n",
              "      <td>0</td>\n",
              "      <td>1</td>\n",
              "      <td>0</td>\n",
              "      <td>0</td>\n",
              "      <td>0</td>\n",
              "      <td>0</td>\n",
              "    </tr>\n",
              "    <tr>\n",
              "      <th>3</th>\n",
              "      <td>0.473684</td>\n",
              "      <td>0.285714</td>\n",
              "      <td>0.246407</td>\n",
              "      <td>0.352246</td>\n",
              "      <td>0.423280</td>\n",
              "      <td>0.301175</td>\n",
              "      <td>0.234694</td>\n",
              "      <td>0.152542</td>\n",
              "      <td>1</td>\n",
              "      <td>0</td>\n",
              "      <td>0</td>\n",
              "      <td>0</td>\n",
              "      <td>1</td>\n",
              "      <td>1</td>\n",
              "      <td>0</td>\n",
              "      <td>0</td>\n",
              "      <td>1</td>\n",
              "      <td>0</td>\n",
              "    </tr>\n",
              "    <tr>\n",
              "      <th>4</th>\n",
              "      <td>0.842105</td>\n",
              "      <td>0.428571</td>\n",
              "      <td>0.262834</td>\n",
              "      <td>0.250591</td>\n",
              "      <td>0.391534</td>\n",
              "      <td>0.256121</td>\n",
              "      <td>0.255102</td>\n",
              "      <td>0.104520</td>\n",
              "      <td>0</td>\n",
              "      <td>0</td>\n",
              "      <td>0</td>\n",
              "      <td>0</td>\n",
              "      <td>0</td>\n",
              "      <td>1</td>\n",
              "      <td>0</td>\n",
              "      <td>0</td>\n",
              "      <td>0</td>\n",
              "      <td>0</td>\n",
              "    </tr>\n",
              "    <tr>\n",
              "      <th>5</th>\n",
              "      <td>0.763158</td>\n",
              "      <td>0.000000</td>\n",
              "      <td>0.326489</td>\n",
              "      <td>0.465721</td>\n",
              "      <td>0.772487</td>\n",
              "      <td>0.412341</td>\n",
              "      <td>0.408163</td>\n",
              "      <td>0.070621</td>\n",
              "      <td>1</td>\n",
              "      <td>0</td>\n",
              "      <td>1</td>\n",
              "      <td>0</td>\n",
              "      <td>0</td>\n",
              "      <td>0</td>\n",
              "      <td>0</td>\n",
              "      <td>0</td>\n",
              "      <td>1</td>\n",
              "      <td>0</td>\n",
              "    </tr>\n",
              "  </tbody>\n",
              "</table>\n",
              "</div>\n",
              "      <button class=\"colab-df-convert\" onclick=\"convertToInteractive('df-7ad41281-cf14-4e42-8e19-a26ab9219a78')\"\n",
              "              title=\"Convert this dataframe to an interactive table.\"\n",
              "              style=\"display:none;\">\n",
              "        \n",
              "  <svg xmlns=\"http://www.w3.org/2000/svg\" height=\"24px\"viewBox=\"0 0 24 24\"\n",
              "       width=\"24px\">\n",
              "    <path d=\"M0 0h24v24H0V0z\" fill=\"none\"/>\n",
              "    <path d=\"M18.56 5.44l.94 2.06.94-2.06 2.06-.94-2.06-.94-.94-2.06-.94 2.06-2.06.94zm-11 1L8.5 8.5l.94-2.06 2.06-.94-2.06-.94L8.5 2.5l-.94 2.06-2.06.94zm10 10l.94 2.06.94-2.06 2.06-.94-2.06-.94-.94-2.06-.94 2.06-2.06.94z\"/><path d=\"M17.41 7.96l-1.37-1.37c-.4-.4-.92-.59-1.43-.59-.52 0-1.04.2-1.43.59L10.3 9.45l-7.72 7.72c-.78.78-.78 2.05 0 2.83L4 21.41c.39.39.9.59 1.41.59.51 0 1.02-.2 1.41-.59l7.78-7.78 2.81-2.81c.8-.78.8-2.07 0-2.86zM5.41 20L4 18.59l7.72-7.72 1.47 1.35L5.41 20z\"/>\n",
              "  </svg>\n",
              "      </button>\n",
              "      \n",
              "  <style>\n",
              "    .colab-df-container {\n",
              "      display:flex;\n",
              "      flex-wrap:wrap;\n",
              "      gap: 12px;\n",
              "    }\n",
              "\n",
              "    .colab-df-convert {\n",
              "      background-color: #E8F0FE;\n",
              "      border: none;\n",
              "      border-radius: 50%;\n",
              "      cursor: pointer;\n",
              "      display: none;\n",
              "      fill: #1967D2;\n",
              "      height: 32px;\n",
              "      padding: 0 0 0 0;\n",
              "      width: 32px;\n",
              "    }\n",
              "\n",
              "    .colab-df-convert:hover {\n",
              "      background-color: #E2EBFA;\n",
              "      box-shadow: 0px 1px 2px rgba(60, 64, 67, 0.3), 0px 1px 3px 1px rgba(60, 64, 67, 0.15);\n",
              "      fill: #174EA6;\n",
              "    }\n",
              "\n",
              "    [theme=dark] .colab-df-convert {\n",
              "      background-color: #3B4455;\n",
              "      fill: #D2E3FC;\n",
              "    }\n",
              "\n",
              "    [theme=dark] .colab-df-convert:hover {\n",
              "      background-color: #434B5C;\n",
              "      box-shadow: 0px 1px 3px 1px rgba(0, 0, 0, 0.15);\n",
              "      filter: drop-shadow(0px 1px 2px rgba(0, 0, 0, 0.3));\n",
              "      fill: #FFFFFF;\n",
              "    }\n",
              "  </style>\n",
              "\n",
              "      <script>\n",
              "        const buttonEl =\n",
              "          document.querySelector('#df-7ad41281-cf14-4e42-8e19-a26ab9219a78 button.colab-df-convert');\n",
              "        buttonEl.style.display =\n",
              "          google.colab.kernel.accessAllowed ? 'block' : 'none';\n",
              "\n",
              "        async function convertToInteractive(key) {\n",
              "          const element = document.querySelector('#df-7ad41281-cf14-4e42-8e19-a26ab9219a78');\n",
              "          const dataTable =\n",
              "            await google.colab.kernel.invokeFunction('convertToInteractive',\n",
              "                                                     [key], {});\n",
              "          if (!dataTable) return;\n",
              "\n",
              "          const docLinkHtml = 'Like what you see? Visit the ' +\n",
              "            '<a target=\"_blank\" href=https://colab.research.google.com/notebooks/data_table.ipynb>data table notebook</a>'\n",
              "            + ' to learn more about interactive tables.';\n",
              "          element.innerHTML = '';\n",
              "          dataTable['output_type'] = 'display_data';\n",
              "          await google.colab.output.renderOutput(dataTable, element);\n",
              "          const docLink = document.createElement('div');\n",
              "          docLink.innerHTML = docLinkHtml;\n",
              "          element.appendChild(docLink);\n",
              "        }\n",
              "      </script>\n",
              "    </div>\n",
              "  </div>\n",
              "  "
            ]
          },
          "metadata": {},
          "execution_count": 56
        }
      ]
    },
    {
      "cell_type": "markdown",
      "source": [
        "Split data into\n",
        "\n",
        "1.   Training set\n",
        "2.   Testing set\n",
        "\n"
      ],
      "metadata": {
        "id": "NW6CDk8YpHh_"
      }
    },
    {
      "cell_type": "code",
      "source": [
        "x = df.drop('TenYearCHD', axis=1)\n",
        "x"
      ],
      "metadata": {
        "colab": {
          "base_uri": "https://localhost:8080/",
          "height": 488
        },
        "id": "Cedm-KVJS-oK",
        "outputId": "821023f4-0b9c-438b-ef34-b68c8ceadad1"
      },
      "execution_count": null,
      "outputs": [
        {
          "output_type": "execute_result",
          "data": {
            "text/plain": [
              "           age  cigsPerDay   totChol     sysBP     diaBP       BMI  heartRate  \\\n",
              "1     0.105263    0.000000  0.203285  0.399527  0.529101  0.338149   0.275510   \n",
              "2     0.368421    0.142857  0.281314  0.153664  0.243386  0.107493   0.438776   \n",
              "3     0.473684    0.285714  0.246407  0.352246  0.423280  0.301175   0.234694   \n",
              "4     0.842105    0.428571  0.262834  0.250591  0.391534  0.256121   0.255102   \n",
              "5     0.763158    0.000000  0.326489  0.465721  0.772487  0.412341   0.408163   \n",
              "...        ...         ...       ...       ...       ...       ...        ...   \n",
              "3384  0.763158    0.000000  0.213552  0.465721  0.402116  0.269833   0.612245   \n",
              "3385  0.736842    0.000000  0.303901  0.189125  0.328042  0.326151   0.255102   \n",
              "3386  0.368421    0.000000  0.176591  0.087470  0.084656  0.146915   0.357143   \n",
              "3387  0.315789    0.042857  0.490760  0.380615  0.751323  0.317336   0.285714   \n",
              "3389  0.578947    0.000000  0.359343  0.191489  0.306878  0.340842   0.346939   \n",
              "\n",
              "       glucose  education_2.0  education_3.0  education_4.0  sex_M  \\\n",
              "1     0.098870              0              0              1      1   \n",
              "2     0.152542              0              0              0      0   \n",
              "3     0.152542              0              0              0      1   \n",
              "4     0.104520              0              0              0      0   \n",
              "5     0.070621              0              1              0      0   \n",
              "...        ...            ...            ...            ...    ...   \n",
              "3384  0.206215              0              0              0      0   \n",
              "3385  0.177966              0              0              0      0   \n",
              "3386  0.124294              0              0              0      0   \n",
              "3387  0.090395              0              1              0      1   \n",
              "3389  0.146893              0              1              0      0   \n",
              "\n",
              "      is_smoking_YES  BPMeds_1.0  prevalentStroke_1  prevalentHyp_1  \\\n",
              "1                  0           0                  0               1   \n",
              "2                  1           0                  0               0   \n",
              "3                  1           0                  0               1   \n",
              "4                  1           0                  0               0   \n",
              "5                  0           0                  0               1   \n",
              "...              ...         ...                ...             ...   \n",
              "3384               0           0                  0               1   \n",
              "3385               0           0                  0               0   \n",
              "3386               0           0                  0               0   \n",
              "3387               1           0                  0               1   \n",
              "3389               0           0                  0               0   \n",
              "\n",
              "      diabetes_1  \n",
              "1              0  \n",
              "2              0  \n",
              "3              0  \n",
              "4              0  \n",
              "5              0  \n",
              "...          ...  \n",
              "3384           0  \n",
              "3385           0  \n",
              "3386           0  \n",
              "3387           0  \n",
              "3389           0  \n",
              "\n",
              "[2927 rows x 17 columns]"
            ],
            "text/html": [
              "\n",
              "  <div id=\"df-1af285af-2b10-41d2-87fd-c9739eda9ef1\">\n",
              "    <div class=\"colab-df-container\">\n",
              "      <div>\n",
              "<style scoped>\n",
              "    .dataframe tbody tr th:only-of-type {\n",
              "        vertical-align: middle;\n",
              "    }\n",
              "\n",
              "    .dataframe tbody tr th {\n",
              "        vertical-align: top;\n",
              "    }\n",
              "\n",
              "    .dataframe thead th {\n",
              "        text-align: right;\n",
              "    }\n",
              "</style>\n",
              "<table border=\"1\" class=\"dataframe\">\n",
              "  <thead>\n",
              "    <tr style=\"text-align: right;\">\n",
              "      <th></th>\n",
              "      <th>age</th>\n",
              "      <th>cigsPerDay</th>\n",
              "      <th>totChol</th>\n",
              "      <th>sysBP</th>\n",
              "      <th>diaBP</th>\n",
              "      <th>BMI</th>\n",
              "      <th>heartRate</th>\n",
              "      <th>glucose</th>\n",
              "      <th>education_2.0</th>\n",
              "      <th>education_3.0</th>\n",
              "      <th>education_4.0</th>\n",
              "      <th>sex_M</th>\n",
              "      <th>is_smoking_YES</th>\n",
              "      <th>BPMeds_1.0</th>\n",
              "      <th>prevalentStroke_1</th>\n",
              "      <th>prevalentHyp_1</th>\n",
              "      <th>diabetes_1</th>\n",
              "    </tr>\n",
              "  </thead>\n",
              "  <tbody>\n",
              "    <tr>\n",
              "      <th>1</th>\n",
              "      <td>0.105263</td>\n",
              "      <td>0.000000</td>\n",
              "      <td>0.203285</td>\n",
              "      <td>0.399527</td>\n",
              "      <td>0.529101</td>\n",
              "      <td>0.338149</td>\n",
              "      <td>0.275510</td>\n",
              "      <td>0.098870</td>\n",
              "      <td>0</td>\n",
              "      <td>0</td>\n",
              "      <td>1</td>\n",
              "      <td>1</td>\n",
              "      <td>0</td>\n",
              "      <td>0</td>\n",
              "      <td>0</td>\n",
              "      <td>1</td>\n",
              "      <td>0</td>\n",
              "    </tr>\n",
              "    <tr>\n",
              "      <th>2</th>\n",
              "      <td>0.368421</td>\n",
              "      <td>0.142857</td>\n",
              "      <td>0.281314</td>\n",
              "      <td>0.153664</td>\n",
              "      <td>0.243386</td>\n",
              "      <td>0.107493</td>\n",
              "      <td>0.438776</td>\n",
              "      <td>0.152542</td>\n",
              "      <td>0</td>\n",
              "      <td>0</td>\n",
              "      <td>0</td>\n",
              "      <td>0</td>\n",
              "      <td>1</td>\n",
              "      <td>0</td>\n",
              "      <td>0</td>\n",
              "      <td>0</td>\n",
              "      <td>0</td>\n",
              "    </tr>\n",
              "    <tr>\n",
              "      <th>3</th>\n",
              "      <td>0.473684</td>\n",
              "      <td>0.285714</td>\n",
              "      <td>0.246407</td>\n",
              "      <td>0.352246</td>\n",
              "      <td>0.423280</td>\n",
              "      <td>0.301175</td>\n",
              "      <td>0.234694</td>\n",
              "      <td>0.152542</td>\n",
              "      <td>0</td>\n",
              "      <td>0</td>\n",
              "      <td>0</td>\n",
              "      <td>1</td>\n",
              "      <td>1</td>\n",
              "      <td>0</td>\n",
              "      <td>0</td>\n",
              "      <td>1</td>\n",
              "      <td>0</td>\n",
              "    </tr>\n",
              "    <tr>\n",
              "      <th>4</th>\n",
              "      <td>0.842105</td>\n",
              "      <td>0.428571</td>\n",
              "      <td>0.262834</td>\n",
              "      <td>0.250591</td>\n",
              "      <td>0.391534</td>\n",
              "      <td>0.256121</td>\n",
              "      <td>0.255102</td>\n",
              "      <td>0.104520</td>\n",
              "      <td>0</td>\n",
              "      <td>0</td>\n",
              "      <td>0</td>\n",
              "      <td>0</td>\n",
              "      <td>1</td>\n",
              "      <td>0</td>\n",
              "      <td>0</td>\n",
              "      <td>0</td>\n",
              "      <td>0</td>\n",
              "    </tr>\n",
              "    <tr>\n",
              "      <th>5</th>\n",
              "      <td>0.763158</td>\n",
              "      <td>0.000000</td>\n",
              "      <td>0.326489</td>\n",
              "      <td>0.465721</td>\n",
              "      <td>0.772487</td>\n",
              "      <td>0.412341</td>\n",
              "      <td>0.408163</td>\n",
              "      <td>0.070621</td>\n",
              "      <td>0</td>\n",
              "      <td>1</td>\n",
              "      <td>0</td>\n",
              "      <td>0</td>\n",
              "      <td>0</td>\n",
              "      <td>0</td>\n",
              "      <td>0</td>\n",
              "      <td>1</td>\n",
              "      <td>0</td>\n",
              "    </tr>\n",
              "    <tr>\n",
              "      <th>...</th>\n",
              "      <td>...</td>\n",
              "      <td>...</td>\n",
              "      <td>...</td>\n",
              "      <td>...</td>\n",
              "      <td>...</td>\n",
              "      <td>...</td>\n",
              "      <td>...</td>\n",
              "      <td>...</td>\n",
              "      <td>...</td>\n",
              "      <td>...</td>\n",
              "      <td>...</td>\n",
              "      <td>...</td>\n",
              "      <td>...</td>\n",
              "      <td>...</td>\n",
              "      <td>...</td>\n",
              "      <td>...</td>\n",
              "      <td>...</td>\n",
              "    </tr>\n",
              "    <tr>\n",
              "      <th>3384</th>\n",
              "      <td>0.763158</td>\n",
              "      <td>0.000000</td>\n",
              "      <td>0.213552</td>\n",
              "      <td>0.465721</td>\n",
              "      <td>0.402116</td>\n",
              "      <td>0.269833</td>\n",
              "      <td>0.612245</td>\n",
              "      <td>0.206215</td>\n",
              "      <td>0</td>\n",
              "      <td>0</td>\n",
              "      <td>0</td>\n",
              "      <td>0</td>\n",
              "      <td>0</td>\n",
              "      <td>0</td>\n",
              "      <td>0</td>\n",
              "      <td>1</td>\n",
              "      <td>0</td>\n",
              "    </tr>\n",
              "    <tr>\n",
              "      <th>3385</th>\n",
              "      <td>0.736842</td>\n",
              "      <td>0.000000</td>\n",
              "      <td>0.303901</td>\n",
              "      <td>0.189125</td>\n",
              "      <td>0.328042</td>\n",
              "      <td>0.326151</td>\n",
              "      <td>0.255102</td>\n",
              "      <td>0.177966</td>\n",
              "      <td>0</td>\n",
              "      <td>0</td>\n",
              "      <td>0</td>\n",
              "      <td>0</td>\n",
              "      <td>0</td>\n",
              "      <td>0</td>\n",
              "      <td>0</td>\n",
              "      <td>0</td>\n",
              "      <td>0</td>\n",
              "    </tr>\n",
              "    <tr>\n",
              "      <th>3386</th>\n",
              "      <td>0.368421</td>\n",
              "      <td>0.000000</td>\n",
              "      <td>0.176591</td>\n",
              "      <td>0.087470</td>\n",
              "      <td>0.084656</td>\n",
              "      <td>0.146915</td>\n",
              "      <td>0.357143</td>\n",
              "      <td>0.124294</td>\n",
              "      <td>0</td>\n",
              "      <td>0</td>\n",
              "      <td>0</td>\n",
              "      <td>0</td>\n",
              "      <td>0</td>\n",
              "      <td>0</td>\n",
              "      <td>0</td>\n",
              "      <td>0</td>\n",
              "      <td>0</td>\n",
              "    </tr>\n",
              "    <tr>\n",
              "      <th>3387</th>\n",
              "      <td>0.315789</td>\n",
              "      <td>0.042857</td>\n",
              "      <td>0.490760</td>\n",
              "      <td>0.380615</td>\n",
              "      <td>0.751323</td>\n",
              "      <td>0.317336</td>\n",
              "      <td>0.285714</td>\n",
              "      <td>0.090395</td>\n",
              "      <td>0</td>\n",
              "      <td>1</td>\n",
              "      <td>0</td>\n",
              "      <td>1</td>\n",
              "      <td>1</td>\n",
              "      <td>0</td>\n",
              "      <td>0</td>\n",
              "      <td>1</td>\n",
              "      <td>0</td>\n",
              "    </tr>\n",
              "    <tr>\n",
              "      <th>3389</th>\n",
              "      <td>0.578947</td>\n",
              "      <td>0.000000</td>\n",
              "      <td>0.359343</td>\n",
              "      <td>0.191489</td>\n",
              "      <td>0.306878</td>\n",
              "      <td>0.340842</td>\n",
              "      <td>0.346939</td>\n",
              "      <td>0.146893</td>\n",
              "      <td>0</td>\n",
              "      <td>1</td>\n",
              "      <td>0</td>\n",
              "      <td>0</td>\n",
              "      <td>0</td>\n",
              "      <td>0</td>\n",
              "      <td>0</td>\n",
              "      <td>0</td>\n",
              "      <td>0</td>\n",
              "    </tr>\n",
              "  </tbody>\n",
              "</table>\n",
              "<p>2927 rows × 17 columns</p>\n",
              "</div>\n",
              "      <button class=\"colab-df-convert\" onclick=\"convertToInteractive('df-1af285af-2b10-41d2-87fd-c9739eda9ef1')\"\n",
              "              title=\"Convert this dataframe to an interactive table.\"\n",
              "              style=\"display:none;\">\n",
              "        \n",
              "  <svg xmlns=\"http://www.w3.org/2000/svg\" height=\"24px\"viewBox=\"0 0 24 24\"\n",
              "       width=\"24px\">\n",
              "    <path d=\"M0 0h24v24H0V0z\" fill=\"none\"/>\n",
              "    <path d=\"M18.56 5.44l.94 2.06.94-2.06 2.06-.94-2.06-.94-.94-2.06-.94 2.06-2.06.94zm-11 1L8.5 8.5l.94-2.06 2.06-.94-2.06-.94L8.5 2.5l-.94 2.06-2.06.94zm10 10l.94 2.06.94-2.06 2.06-.94-2.06-.94-.94-2.06-.94 2.06-2.06.94z\"/><path d=\"M17.41 7.96l-1.37-1.37c-.4-.4-.92-.59-1.43-.59-.52 0-1.04.2-1.43.59L10.3 9.45l-7.72 7.72c-.78.78-.78 2.05 0 2.83L4 21.41c.39.39.9.59 1.41.59.51 0 1.02-.2 1.41-.59l7.78-7.78 2.81-2.81c.8-.78.8-2.07 0-2.86zM5.41 20L4 18.59l7.72-7.72 1.47 1.35L5.41 20z\"/>\n",
              "  </svg>\n",
              "      </button>\n",
              "      \n",
              "  <style>\n",
              "    .colab-df-container {\n",
              "      display:flex;\n",
              "      flex-wrap:wrap;\n",
              "      gap: 12px;\n",
              "    }\n",
              "\n",
              "    .colab-df-convert {\n",
              "      background-color: #E8F0FE;\n",
              "      border: none;\n",
              "      border-radius: 50%;\n",
              "      cursor: pointer;\n",
              "      display: none;\n",
              "      fill: #1967D2;\n",
              "      height: 32px;\n",
              "      padding: 0 0 0 0;\n",
              "      width: 32px;\n",
              "    }\n",
              "\n",
              "    .colab-df-convert:hover {\n",
              "      background-color: #E2EBFA;\n",
              "      box-shadow: 0px 1px 2px rgba(60, 64, 67, 0.3), 0px 1px 3px 1px rgba(60, 64, 67, 0.15);\n",
              "      fill: #174EA6;\n",
              "    }\n",
              "\n",
              "    [theme=dark] .colab-df-convert {\n",
              "      background-color: #3B4455;\n",
              "      fill: #D2E3FC;\n",
              "    }\n",
              "\n",
              "    [theme=dark] .colab-df-convert:hover {\n",
              "      background-color: #434B5C;\n",
              "      box-shadow: 0px 1px 3px 1px rgba(0, 0, 0, 0.15);\n",
              "      filter: drop-shadow(0px 1px 2px rgba(0, 0, 0, 0.3));\n",
              "      fill: #FFFFFF;\n",
              "    }\n",
              "  </style>\n",
              "\n",
              "      <script>\n",
              "        const buttonEl =\n",
              "          document.querySelector('#df-1af285af-2b10-41d2-87fd-c9739eda9ef1 button.colab-df-convert');\n",
              "        buttonEl.style.display =\n",
              "          google.colab.kernel.accessAllowed ? 'block' : 'none';\n",
              "\n",
              "        async function convertToInteractive(key) {\n",
              "          const element = document.querySelector('#df-1af285af-2b10-41d2-87fd-c9739eda9ef1');\n",
              "          const dataTable =\n",
              "            await google.colab.kernel.invokeFunction('convertToInteractive',\n",
              "                                                     [key], {});\n",
              "          if (!dataTable) return;\n",
              "\n",
              "          const docLinkHtml = 'Like what you see? Visit the ' +\n",
              "            '<a target=\"_blank\" href=https://colab.research.google.com/notebooks/data_table.ipynb>data table notebook</a>'\n",
              "            + ' to learn more about interactive tables.';\n",
              "          element.innerHTML = '';\n",
              "          dataTable['output_type'] = 'display_data';\n",
              "          await google.colab.output.renderOutput(dataTable, element);\n",
              "          const docLink = document.createElement('div');\n",
              "          docLink.innerHTML = docLinkHtml;\n",
              "          element.appendChild(docLink);\n",
              "        }\n",
              "      </script>\n",
              "    </div>\n",
              "  </div>\n",
              "  "
            ]
          },
          "metadata": {},
          "execution_count": 58
        }
      ]
    },
    {
      "cell_type": "code",
      "source": [
        "y =df['TenYearCHD']\n",
        "y"
      ],
      "metadata": {
        "colab": {
          "base_uri": "https://localhost:8080/"
        },
        "id": "thOr5iXzS-hC",
        "outputId": "e9efe751-9f70-4402-8d04-e87f28111b65"
      },
      "execution_count": null,
      "outputs": [
        {
          "output_type": "execute_result",
          "data": {
            "text/plain": [
              "1       0\n",
              "2       0\n",
              "3       1\n",
              "4       0\n",
              "5       1\n",
              "       ..\n",
              "3384    0\n",
              "3385    0\n",
              "3386    0\n",
              "3387    1\n",
              "3389    0\n",
              "Name: TenYearCHD, Length: 2927, dtype: int64"
            ]
          },
          "metadata": {},
          "execution_count": 59
        }
      ]
    },
    {
      "cell_type": "code",
      "source": [
        "from sklearn.model_selection import train_test_split"
      ],
      "metadata": {
        "id": "-MLwe1AsS-aV"
      },
      "execution_count": null,
      "outputs": []
    },
    {
      "cell_type": "code",
      "source": [
        "x_train,x_test,y_train,y_test =train_test_split(x,y,test_size = 0.25,random_state=40)"
      ],
      "metadata": {
        "id": "Fu_AiWGdS-S2"
      },
      "execution_count": null,
      "outputs": []
    },
    {
      "cell_type": "markdown",
      "source": [
        "# ***Implementing Models***"
      ],
      "metadata": {
        "id": "ALwxlENoXILh"
      }
    },
    {
      "cell_type": "code",
      "source": [
        "from sklearn.linear_model import LogisticRegression\n",
        "from sklearn.metrics import accuracy_score"
      ],
      "metadata": {
        "id": "QFDt1r0KXKdS"
      },
      "execution_count": null,
      "outputs": []
    },
    {
      "cell_type": "markdown",
      "source": [
        "# **As we got information of the data i.e. Categorical.**\n",
        "# ***We have to use classification model.***"
      ],
      "metadata": {
        "id": "dKbFp9pxpdqk"
      }
    },
    {
      "cell_type": "markdown",
      "source": [
        "# **Logistic Regression **"
      ],
      "metadata": {
        "id": "ENXEi1r-q2gL"
      }
    },
    {
      "cell_type": "code",
      "source": [
        "a=LogisticRegression()\n",
        "a.fit(x_train,y_train)"
      ],
      "metadata": {
        "colab": {
          "base_uri": "https://localhost:8080/"
        },
        "id": "DnX0XJ5qXKWu",
        "outputId": "555d0aba-0570-43e0-f158-e603617245bc"
      },
      "execution_count": null,
      "outputs": [
        {
          "output_type": "execute_result",
          "data": {
            "text/plain": [
              "LogisticRegression()"
            ]
          },
          "metadata": {},
          "execution_count": 63
        }
      ]
    },
    {
      "cell_type": "code",
      "source": [
        "y_pred1=a.predict(x_test)"
      ],
      "metadata": {
        "id": "wHC23I79XKP3"
      },
      "execution_count": null,
      "outputs": []
    },
    {
      "cell_type": "code",
      "source": [
        "accuracy_score(y_test,y_pred1)"
      ],
      "metadata": {
        "colab": {
          "base_uri": "https://localhost:8080/"
        },
        "id": "nt1Ub924XKJK",
        "outputId": "62e1379e-0df1-49bc-d1a3-11e1189cf0fa"
      },
      "execution_count": null,
      "outputs": [
        {
          "output_type": "execute_result",
          "data": {
            "text/plain": [
              "0.8415300546448088"
            ]
          },
          "metadata": {},
          "execution_count": 66
        }
      ]
    },
    {
      "cell_type": "markdown",
      "source": [
        "**Accuracy is 84%**"
      ],
      "metadata": {
        "id": "2uAvkYoptZem"
      }
    },
    {
      "cell_type": "markdown",
      "source": [
        "# *KNeighbor Classifier*"
      ],
      "metadata": {
        "id": "wtftWBI0q_rn"
      }
    },
    {
      "cell_type": "code",
      "source": [
        "from sklearn.neighbors import KNeighborsClassifier"
      ],
      "metadata": {
        "id": "l1vuPoqrXKCb"
      },
      "execution_count": null,
      "outputs": []
    },
    {
      "cell_type": "code",
      "source": [
        "knn=KNeighborsClassifier()\n",
        "knn.fit(x_train,y_train)"
      ],
      "metadata": {
        "colab": {
          "base_uri": "https://localhost:8080/"
        },
        "id": "coHBHgOKXJ70",
        "outputId": "8da4648e-0777-4cd7-bcee-fda43236fee7"
      },
      "execution_count": null,
      "outputs": [
        {
          "output_type": "execute_result",
          "data": {
            "text/plain": [
              "KNeighborsClassifier()"
            ]
          },
          "metadata": {},
          "execution_count": 69
        }
      ]
    },
    {
      "cell_type": "code",
      "source": [
        "y_pred2=knn.predict(x_test)"
      ],
      "metadata": {
        "id": "d2JIHBBsXJ0j"
      },
      "execution_count": null,
      "outputs": []
    },
    {
      "cell_type": "code",
      "source": [
        "accuracy_score(y_test,y_pred2)"
      ],
      "metadata": {
        "colab": {
          "base_uri": "https://localhost:8080/"
        },
        "id": "1V7Ke8M7XJuY",
        "outputId": "c6021e8f-f224-4fcf-80c1-3d41fb71ba14"
      },
      "execution_count": null,
      "outputs": [
        {
          "output_type": "execute_result",
          "data": {
            "text/plain": [
              "0.8210382513661202"
            ]
          },
          "metadata": {},
          "execution_count": 71
        }
      ]
    },
    {
      "cell_type": "markdown",
      "source": [
        "**Accuracy is 82%**"
      ],
      "metadata": {
        "id": "p_PMr9qwtfrv"
      }
    },
    {
      "cell_type": "markdown",
      "source": [
        "# *Support Vector Classifier*"
      ],
      "metadata": {
        "id": "9t6llAnors-O"
      }
    },
    {
      "cell_type": "code",
      "source": [
        "from sklearn import svm"
      ],
      "metadata": {
        "id": "DX-7MD0fXJmX"
      },
      "execution_count": null,
      "outputs": []
    },
    {
      "cell_type": "code",
      "source": [
        "svm=svm.SVC()\n",
        "svm.fit(x_train,y_train)"
      ],
      "metadata": {
        "colab": {
          "base_uri": "https://localhost:8080/"
        },
        "id": "cCXjtNYfrvKl",
        "outputId": "91c8867d-e0a3-4e3d-e556-7bc5a44cf386"
      },
      "execution_count": null,
      "outputs": [
        {
          "output_type": "execute_result",
          "data": {
            "text/plain": [
              "SVC()"
            ]
          },
          "metadata": {},
          "execution_count": 73
        }
      ]
    },
    {
      "cell_type": "code",
      "source": [
        "y_pred3=svm.predict(x_test)"
      ],
      "metadata": {
        "id": "FVOrOtwyruyl"
      },
      "execution_count": null,
      "outputs": []
    },
    {
      "cell_type": "code",
      "source": [
        "accuracy_score(y_test,y_pred3)"
      ],
      "metadata": {
        "colab": {
          "base_uri": "https://localhost:8080/"
        },
        "id": "tdjJz4mzruob",
        "outputId": "78d9dde6-33e7-48aa-8038-06de2d24bc75"
      },
      "execution_count": null,
      "outputs": [
        {
          "output_type": "execute_result",
          "data": {
            "text/plain": [
              "0.837431693989071"
            ]
          },
          "metadata": {},
          "execution_count": 75
        }
      ]
    },
    {
      "cell_type": "markdown",
      "source": [
        "**Accuracy is 83%**"
      ],
      "metadata": {
        "id": "62o8KOdqtmN6"
      }
    },
    {
      "cell_type": "markdown",
      "source": [
        "# *Decision Tree Classifier*"
      ],
      "metadata": {
        "id": "RfxFZnrqsbR5"
      }
    },
    {
      "cell_type": "code",
      "source": [
        "from sklearn.tree import DecisionTreeClassifier"
      ],
      "metadata": {
        "id": "VvV-eHb6rube"
      },
      "execution_count": null,
      "outputs": []
    },
    {
      "cell_type": "code",
      "source": [
        "dtc=DecisionTreeClassifier()\n",
        "dtc.fit(x_train,y_train)"
      ],
      "metadata": {
        "colab": {
          "base_uri": "https://localhost:8080/"
        },
        "id": "5n-QiGkVruUt",
        "outputId": "7bb3f4a0-a39c-4648-f94e-333e390f72b7"
      },
      "execution_count": null,
      "outputs": [
        {
          "output_type": "execute_result",
          "data": {
            "text/plain": [
              "DecisionTreeClassifier()"
            ]
          },
          "metadata": {},
          "execution_count": 77
        }
      ]
    },
    {
      "cell_type": "code",
      "source": [
        "y_pred4=dtc.predict(x_test)"
      ],
      "metadata": {
        "id": "EGJBljFTruN7"
      },
      "execution_count": null,
      "outputs": []
    },
    {
      "cell_type": "code",
      "source": [
        "accuracy_score(y_test,y_pred4)"
      ],
      "metadata": {
        "colab": {
          "base_uri": "https://localhost:8080/"
        },
        "id": "aPzdnatTruFy",
        "outputId": "2092073e-833e-49b6-f714-9c31c7463b88"
      },
      "execution_count": null,
      "outputs": [
        {
          "output_type": "execute_result",
          "data": {
            "text/plain": [
              "0.7240437158469946"
            ]
          },
          "metadata": {},
          "execution_count": 79
        }
      ]
    },
    {
      "cell_type": "markdown",
      "source": [
        "**Accuracy is 72%**"
      ],
      "metadata": {
        "id": "EguGKWcBtsa0"
      }
    },
    {
      "cell_type": "markdown",
      "source": [
        "## ***Gradient Boosting Classifier***"
      ],
      "metadata": {
        "id": "5X2Y4psVuFig"
      }
    },
    {
      "cell_type": "code",
      "source": [
        "from sklearn.ensemble import GradientBoostingClassifier"
      ],
      "metadata": {
        "id": "WdEQrYWDuE3L"
      },
      "execution_count": null,
      "outputs": []
    },
    {
      "cell_type": "code",
      "source": [
        "gbc=GradientBoostingClassifier()\n",
        "gbc.fit(x_train,y_train)"
      ],
      "metadata": {
        "colab": {
          "base_uri": "https://localhost:8080/"
        },
        "id": "rg0YzEzUuEvR",
        "outputId": "4da3aa84-28d2-48fb-9766-992e42e492c7"
      },
      "execution_count": null,
      "outputs": [
        {
          "output_type": "execute_result",
          "data": {
            "text/plain": [
              "GradientBoostingClassifier()"
            ]
          },
          "metadata": {},
          "execution_count": 81
        }
      ]
    },
    {
      "cell_type": "code",
      "source": [
        "y_pred5=gbc.predict(x_test)"
      ],
      "metadata": {
        "id": "VsLo5XQnuEn_"
      },
      "execution_count": null,
      "outputs": []
    },
    {
      "cell_type": "code",
      "source": [
        "accuracy_score(y_test,y_pred5)"
      ],
      "metadata": {
        "colab": {
          "base_uri": "https://localhost:8080/"
        },
        "id": "X_WuasE1uEhN",
        "outputId": "9ba610a9-e651-4a52-e7e3-586327a0acfb"
      },
      "execution_count": null,
      "outputs": [
        {
          "output_type": "execute_result",
          "data": {
            "text/plain": [
              "0.8292349726775956"
            ]
          },
          "metadata": {},
          "execution_count": 83
        }
      ]
    },
    {
      "cell_type": "markdown",
      "source": [
        "**Accuracy is 82%**"
      ],
      "metadata": {
        "id": "QtGJdh-ru3eg"
      }
    },
    {
      "cell_type": "markdown",
      "source": [
        "# ***Random Forest Classifier***"
      ],
      "metadata": {
        "id": "Ie52gLELvBe8"
      }
    },
    {
      "cell_type": "code",
      "source": [
        "from sklearn.ensemble import RandomForestClassifier"
      ],
      "metadata": {
        "id": "-S1xSdhgvj27"
      },
      "execution_count": null,
      "outputs": []
    },
    {
      "cell_type": "code",
      "source": [
        "rfc=RandomForestClassifier()\n",
        "rfc.fit(x_train,y_train)"
      ],
      "metadata": {
        "colab": {
          "base_uri": "https://localhost:8080/"
        },
        "id": "zjG2VWs7uEXE",
        "outputId": "81ccab00-2402-4344-c39a-489edac17ced"
      },
      "execution_count": null,
      "outputs": [
        {
          "output_type": "execute_result",
          "data": {
            "text/plain": [
              "RandomForestClassifier()"
            ]
          },
          "metadata": {},
          "execution_count": 85
        }
      ]
    },
    {
      "cell_type": "code",
      "source": [
        "y_pred6=rfc.predict(x_test)"
      ],
      "metadata": {
        "id": "QvAxFJBGrt3s"
      },
      "execution_count": null,
      "outputs": []
    },
    {
      "cell_type": "code",
      "source": [
        "accuracy_score(y_test,y_pred6)"
      ],
      "metadata": {
        "colab": {
          "base_uri": "https://localhost:8080/"
        },
        "id": "dCcMozFzXIyk",
        "outputId": "4538c0b2-ee83-47e4-ddf7-e462b13edcd1"
      },
      "execution_count": null,
      "outputs": [
        {
          "output_type": "execute_result",
          "data": {
            "text/plain": [
              "0.8319672131147541"
            ]
          },
          "metadata": {},
          "execution_count": 89
        }
      ]
    },
    {
      "cell_type": "markdown",
      "source": [
        "**Accuracy is 83%**"
      ],
      "metadata": {
        "id": "-cpuU0zPwVDF"
      }
    },
    {
      "cell_type": "markdown",
      "source": [
        "# *So here are some Machine Learning Models for Cardiovascular Risk Prediction with Results*"
      ],
      "metadata": {
        "id": "g1s0xzXJzQOn"
      }
    },
    {
      "cell_type": "markdown",
      "source": [
        "# *Score of the Models are:*\n",
        "\n",
        "\n",
        "> Logistic Regression:0.8415300546448088\n",
        "\n",
        "> KNeighbor Classifier:0.8210382513661202\n",
        "\n",
        "> Support Vector Classifier:0.837431693989071\n",
        "\n",
        "> Decision Tree Classifier:0.7240437158469946\n",
        "\n",
        "> Gradient Boosting Classifier:0.8292349726775956\n",
        "\n",
        "> Random Forest Classifier:0.8319672131147541\n",
        "\n",
        "\n",
        "\n",
        "\n",
        "\n",
        "\n",
        "\n",
        "\n",
        "\n",
        "\n",
        "\n"
      ],
      "metadata": {
        "id": "1gReCl2txRaO"
      }
    },
    {
      "cell_type": "markdown",
      "source": [
        "# ***We Can say Logistic Regression is the best model for this dataset as it scores 84%***"
      ],
      "metadata": {
        "id": "vVbkQDYwwksP"
      }
    },
    {
      "cell_type": "markdown",
      "source": [
        "![image.png](data:image/png;base64,iVBORw0KGgoAAAANSUhEUgAAARMAAAC3CAIAAAC+MS2jAAAgAElEQVR4nOx9d5wURd5+Vefu6cmzMzsbCcuCIkEEicodCggGOCQp550RUcAEr6J4d4Lp7vT0NZzhjkMFs6g/FRUTBiQYQBGRtOyycWZ2curcXb8/allRd3lZDhDv5nE+9RmHnt6a7nr6m78FraZmsB8Itr8FFgQAAPSTzyGwQAEF/EcAIkCZbe8RBAgCkwAAAASAaZoAAAJCAAABIISQtDARCEwNqsMzWhBQFAUKzCngPxoQAUAAgACAAAIAIYD7mQMhBABAABBCEHXw3Q6Ygyml63r78QcyB3SROfD/PqSAAn4eQARoq405FviBzIEUiRAiEIAQAoQAAAghBADcv6C/Z84P6QEshL7//Aec64iAnQMfDdumVxgL43E0AgRMBAgALAQQJg8CCAALAkvTIIQEAgAAErTpbAcubOrHhGmnFNbW4I8/J7pGnLbvEqgwFsbjboQIkG3cABYEEAAE294o+TwEgIIE3A+E4PcS50faWjs9EAC6pv2UNl1ljgX/72MKKODnAoG+X89oP23wByRJAgAAhBC1CSgLIIgAItrWNPXTxf0jahxIJwCABYguTA0B8BM9sIACjhNY++1wtN/OaV/tNocdWgiZFrAsZFrItABCloUIsu2AH3sI0P4T8R53x9Y96gpz4P7xeNBqC2Nh/NHYvuLxKj1wwTMMsCygG0A3kKabyECWiVD70fuZYyGkqirDMAghXdftJcFsOHxgSKcdBNGxIxtC2OHnJkAdzpmA8Ge/boXxv3wE+62PdiXte/3IQpZp8gwreLxqNkdCAkJIURTaT4ifyBwIEARgv9j6EW0AAAfS7v9kjtXm0PsBvQtjYTx+RnP/ssWcwZ4D/L+oPR8AAgTBj9Y3dSAPfuSAbn97oC0EIejQcOmYUAgACDu2czqRUQUU8LOgXVS0v0EQM2b/+EN8b7T8yJNmoTaYAB0A2CV7Hx9u7WdzYSyMx9vY/kL7aYPftMmlAxa7BQEAsN3Ob4vndCheDvzftlMgrK116CToSBABYEGIAMCB2h+OnX1eGAvjsRt/tNTbZQ5EyAIIAAIgwoIEiQiAEDggD+cn8Zz9/4Ttme+Zh9o/RT/8i/t5c1Dtq42fhbEwHmfj97IB/ODNwVYzAKDDvLXO5E/bv3ZySqsjOiF0KHMooICfEwcuXAQPlCvgIOu3A+a0H9keXv33s6MhapvTwcdjgK6YaQX8V2C/IQIAaFuEEMdIoQWBBfAL7v+3/fygsOEPAEAIQQuB9vGAU5PtKhzAvrJDXX34z1kAED8ZIUJdYs7BtcFDx5GqkdB1HUJI0zRBEIqi6Lru8XgURTlCpz9igBDmcjlBECzLstlsFEVls1nLstqyS/7r0W6yWxAcsDoQQUBkAYQsYOiGqRKQJCC0CKJ9HXYc1gSo4/y0HxlVhwJc3oCw2DlgBPsTUQ8cQee63RHhDQJt2X7/PliWtSxLkiQAAM/zXq83nU7bbLZ8Pn8Ezn7kwHEcQRCWZfE8rygKfi+KoizLP/fUjgvg5zWCBy4MrKMhAgEA22QOgnD/Gmx74nTCnM6BU7IPEf/ZqpEoijRN67pOkqRpmi0tLcXFxT/3pH6M1tZWh8MhyzJJkqqqCoLAsiwueCzg30GXmYPa3Gs/RofaFE6wOSb2y7EGwzCWZamqqus6Xos9evQQnc50IvFzT+0HME2T53ld13O5nGmaqqqyLBuLxRwOx889tV82usycrqJL2Tq/IMiyrGmapmlYHUokEn6/v66m5nhbkRzH6brO87wkSTzPY+YUFRWpqvpzT+2XjaMrcwAAwEL/kTobQohlWYZhGIZRVdWyLE3TWJY93ixvrKQ5HA6CILCEbGlpwf/7c0/tl43DkTkdOg869ihAAEDHTrPOPGm/FJo5nU4sarBLoLS0dOPGjSUlJYnjTFvjOA4AEIvFUqmUqqqjzzijtaWFpumCqfNvomvMaavYPvTjEfhPvT+SJFEUJUmSKIosy2az2fHjx+umebw9yUmS9Hg8kWgUAFBZXr5161aGYQiCKDDn30SnNxp1DtDRC1nWT1+WZcFOYHWCw5hPx5M8ytB1PZPJYNrIsmyz2XTTpAiCYRiWZSGECACGYXie3x9LAyRJUhTlcrksAGiatgAQRRH/4LKyslGjRvXt2xf7/QmCoChKFEWGYSZPnhwMBvFXBEHAWhbDMO0nwS+bzWYBwLIs/i5N01ja6KapaRoAgABA0zSCIOLxOP6kgH8H5K0LbsDvTNPEOrplWZzdrmSzHR0PEYAdBlc69q3hCrYuKWCdHNxVj8JBjj8iCqGu61jnMQwDQpjJZB5+6CETIcM0DdNEALA0reo6sqxrr7lm0nnnndS374ZNmziW7dmz5+WXXXbGGWck4vFQKHTvPff4/f7PPvvs8ccf93g8323ffu2111ZVVX2xebNlmjab7Z133tmxY4fA8/fdd19NTU0ikVB13TDNyy65ZMKECZs2brzi8ssnnXeezWabcNZZn3322RVXXBGJRFKplKrrDE2blqWoKgCAIkmfzzd79mzTNF0uV4E8P0BbJtv3D1wCQGRZJEmwLKdKeRISuF8hhMT+A7oI3PTgEF9d/covCNlsFgDAMIzNZvP5fGC/RWG32XiWBQBQFOW020ePHj1mzJiPP/542rRpEACGYbp169a/f/98Pj9jxoy///3v+/btGzBgwC233LJjx45Nmzbde++9I0aMWLJkyYTx43XTBABs2LBh7969f/rTn2699da7776bZdm+J5xAQnj33Xc3NzdPnTp1zJgxuq6PHTv2pJNOuvbaay+44ALTNA3LAgCYpun3+SAAFEHoppnNZjOZzLGRyf/xOLpeaQKBzu5ShzKBwKrfL8FJUFJSAiFUVTWXy+XzeVVVNU2DAGTzeRJCCEBelkkIscMNxyLtophOp71eL8uye/fuPf/88xVFSSaTwWCwoqIik8kIgsDz/KOPPlpaWlpXVwcAkCRJluXq6uqysrJkMklR1JAhQ9a8+25lefmyZcvmz5+/atUqnPJTVlY2e/bsXbt2Pfzwww1NTQCAQFFRJBptjcUAAAzDcAQhiqLf789kMplM5njzAf7icCwMWnjIL9C5PXMM5tklZLPZZDLJMAx2srndboqiaIqiCMJEyOV0cgyDENq6deuHH37Yr1+/lStXqqpqAfDFF18899xzW7dufe211+bMmTNgwACapi+57LKtW7fW1dVdffXV06dPdzgc0WgUAKDq+ubNm1etWnXBBRcsXbp0yZIla9euZSiqqanJZrM9+OCDd9x1VzKZpGn6pZdeagmH169ff/PixQ/cf/89f/lLJBq18TzHMKIgGIahaVo2m0UICYLwSw+mHQ+ASksTXpcHdvBwBoOplpaOjicAgh3yrbOb0VmSWIfxBIQ7fnT0la4+IzucDzrolLp6flVVA4GAruv19fW5XG706NGKpmHzhmdZWVVFQZAkSRAEbNw3h0I+j0eW5bwsAwB8Hk8skWg/XhCERDJJU5RlWSzL5mXZ63abppnKZLxudyaT0U2TYxhF03iWVVQVAcBQFMuy2Xwen+rpFSs+/PDDt956a9myZWefey4AQBSEnCTRJIkVP6/b/dFHHwUCAcMwCvGcA7G/Vgf7axAAgALQ0g2GJh0OVzoaoQmSBJAgCAjb1mGXmQMR7LBxVMcrFf7HMockSUmS7Ha7qqo4aXrLli0kSWazWUEQOI5LJBI0TePMF5ww1tTUVF5eTtO0ZVmmaeK8GE3TBEFobW3N5XLdunVTFCWfzzscDoqiWlpaOI5zOBz5fN7j8TQ0NHg8Ho7jWlpaqqqqZFnGeho+OUmS0WiUJElFUZxOpyzLJSUl6XQa+wOwD9o0zVNOOcU0zUQiwfP8EbgK/yk4VszpCJ12jeoScyAwUcd/4YgwB4C2ctlD76HaGVRVJUnSbrfncjlRFJubm8vLy7PZLEliMwfwPC/LsmVZHMfhTwiCSKVSmAypVMput8fjcaw7IYQ0TZMkCUIYDAZbW1vdbjcOFjEMk0wmDcPAx3McR5KkLMuiKGIvM0KIJEmEkCRJgUAgGo16PB4IYSQSKS4uTiaT2E+NEKJpOhwO+/1+iqIKudIH4hgwB0BEHHoJGoLA6pRrHcCCAEACdUUbJLuodcAu9nk7IgKqgOMch8GcLvvWIK6P68IXunT0MfJYHOIIjlw9TwH/YSiYiQUUcDgoMKeAAg4HR70+p0vaDoE67TZS0JgKOK5QkDkFFHA4OOoyB3RlsyoLAAg77nNQkDkFHFc46jLn2HRRK6CAY4xj0Yfg0LmDANrfgPfH6DS7p5OSns6yS7qUAod++f0SCjhKOLrMgV3vz3ak8J/aOaSA4wTHws45dIWNgAB1mEFw0D4HBRRw7HEsmHNE0KEMgeggmXQFFHAUcdSZ07VVjQDsRJJ0eJ6DCLOCtlbAUcUvW+a0NZ4/5OMLKOBIoRAJLaCAw8HxKXMOeauOg2lencmcw6m/P/R6nq6OBfxC0WXmHKQlWofoYtWuhTrrCdrhrvEImMjsUC/rtNIOGR3WtHZYOQf372IC2vck2j9CCAkEIAD/5lggzy8Ux53MgcjqrOq00886PL5D5nTEmf9jPh39qSM1ggJ5frE47pjTVeAd4H6KI+aLO4w5FfBfgP8uDwEs5NEVcITwi5c5h4HO3NidHF2QOgV0gP8umQMKMqeAI4T/BJnTYUpbh5LiIPv5dCpzyILMKaAD/LJlDvbtdun4Ago4IjjqMqer9TOdoTPfV5e4gECnVOv0/Edo/kdqF5NCVtFxgl+2zOkqYCclDAUU0FX84u2czhSwju2czr/S4aO8EKMsoDP84pnTJRAAIKvjau2Oj//l7OdTwDHGfxdzMA6dCAWTooDO8F/HHIRQh4woVLwV0CX84pnTWWSz47y1AjsKOEL4mZnzI2PdgqCzKoN2tK9+bL536is7GEkOOUcUgsOr5zkI2vcXORCF+p9fHI4pc37AE9MCP/FoQQAUQ6MoiiRJgiCghUzTNHXDNE0Egd1uz0p5iqYZjs1KeUgQAABD191uN97yCe/NZBhGMBgMhULvvPOOKIoEQZx88sndunWLxWI8z3fml4YdMgfhvLUOvtJZnIoifsy0tr1Z9v/UH61pZJiWZQWCQUPTGurrWY7zejyGaQKESIrKZbOxeHznjh2hcDify501YUL3bt0IkpQlCRIEx3GKqhIQEhAiZBXqf44lfjaZc6BgaWeUBQEwLZIlKUgosmIZJsuyDptIEARBU4lUkkCAYRjDMCBBIITSuWxxkb++oSEYDMqyHI5EKioqPvjggyvnzFm/8fMirysST3kcNpIk586de9111+XzebzvX4cz6ujDLoY79+9N39l6teD3I4IAImAYhtvlCjU1ORyOHlVVcj5PEEQ2mQx26/bmK68sX778zTVvQwCK/YFUKvWH2/50+SWX/vWvf0UIkRDKsqzrOoTQ6/Vms9lC/c+xxM/GHHRACtn3D2AIKJYhSJLjeZvdbqqaLMt4D0CG51RV9Xq9iCRy6bzN6eB5nhX4TDpzYv/+dXv2QAhDodC8efM+XLcBAEACMGXKlGnTprEsK4rijBkz+vXr9+tf/zqXy3V1ql1KEsUx/gO/cfBvO53OWCzm8/lM02xqaKBpWpKkXC43adKkb7Z/CwBgSGrq1KlTpkwZOXIkSZJTpkzZsmVL//798e56lmUVsgp+Fhx3IXW73a7reiqVykt5RVMVRUEICXYxkUhQFMXwnGEYJEmyLKsaummaFEVFQyGbzbZixYoLLrjgw3UbRI6+du6cb7d9fddddxUVFbnd7qr+/c8///xMJhOLxbo6n6O9y3wkEuF53rKsdDrt8/kCFRUbNmwYMmxobW0tAOC8s8/56KOPlj/zzMiRI1OpFMMwU6ZMWbt2rSAIpmkSBMGyLEmSh/E4KODfxLHYP+cg+KmzKxqNEiTJMoxlWRAhhmNJSBiGwbIsJ/D5fF41dMEuyrIcTyVJkgz6A5FwePHixa+8/iYA4PThpy5cuLBv374kSYZDoeJAIJFIxOrr99bUTJ40SeD5LtV+HgY/OpU5nXi9WZb1BgL7ampKS0vj8fg1v/vdmjVrRF7IydLTT62YesEFhiw319a6XK6ioiLLsgiCEAQBIWQYBkVReOtczKKuT7aAw8fPf7kPVP0tCGyiKIoiRVFYFcGb/qbTaYZjSYaWZBlCaJpmTpaKiooqu3ffunXr1KlTX3n9TTvPTJ8yaenSpf3796coimVZTdN2794dCAR0XW9qasrlcngb9EMHRAAeZZnj8Xi+++abbr1719TUXH311V988YXNZhMEYfPnX4wfP37vzp3xeJyiKFVVc7mcIAhPPfXU2Wefnc/nLcuCEBqGASHkOO5IzaeAQ8TPYOf8yGBF+53ReGRo+uN1n+zZtbustHRgv/5er5eiKI/Pm8lkKJbByyWTyVAcy/P8u2vWTJky3UYRDABTfzPlxhtvLC4uzufzsixbulFc5Bf79d+7dWsulysLlvTpVW2aZpfiPwfJc+tMluLUnp/KnM4iralU6sQTT/xy/fqFCxd+8cUXAIBBgwa98sorWJK4XC6Hw6FpGkmSPM9v27bNNM0T+vaNRiIQQoqi8vk8x3EFU+fY4+eUOTiYj2DbaEGAIHhq5Yrrr7/+D7ffsXPXLn+wWBRFSZJUVQUAWJZlGIZq6LKi8Dy/fcd3k6ZMd9o4y7Kuv+6aJUuWCIKQSCRomqZp2uVyZbNZqbW15wknPPjggzNmzACH0fLq6NeQsiybyWTmzZv3xRdfUBR12mmnffzxx5qm2Ww2VVVJkgyHw8lkkqZpAMCTTz75+9//Xs7nsdeeZVnLsiiKkiTp6M6ygJ+gy8wxDIPneY7jcrmcw+FobGzE7h0IIUIIO7La1q7b7QoGAQAkJEiShBBalmWaJoSQZVndMGw2m6TIqqEblglIghX4zV9/ddvtS1ui8ZlTp8yaNYvjuHgqyXEc9kprus5wLD55TU3NpEmTvB57Jq/Mnj37oosughDKskySpKqqBEEwNhuEMJ/Pr3r2WYTQkCFDNE2jqE5l7EE8AbCjF7Ksjl+dQFVVwzCwoaKqajKZBADgMNTYsWO/3vaNzWYbOXLkSy+9ZBgGTdOWZXEcp+s6RVFlZWWJRGLHjh1r1qyZNWsW/oHYCycIAj7+31gDBRwOuqytybJM07RpmsFgMJVK9TvlFC2XgxCm02mXy7V3795169Y1NzdLkqQoCkVR5cUlxcXFpeVlwWCwpKREcLk0WYq0tiKEGI7lbEI+nzcgLHK71q1bN3naTAqAIacMXLRoUUlZaVNjU3lZmZKXLAg0TbM7HKloOuAq0ZF116IbZVVJp+Vxp4+88847EUKhUMjn8yUSCbvdbhhGPBzWdZ1hmPnz5z/77LMcx6mqyjAMFl+HjiMVDyFJkqbpWDLh8/kIgnC5XKqqdu/V6/czL9i+fbvX5e7du/frr78OAAiFQiRJRqPR7t27AwASiUQikdA0bcRpozZ+uv4ITKWAI4EuM6e4uDgajWIdQ5blVGsrRVGZTObNN9987LHHFEX57W9/O3jwYNM0eZ53Op01O3bpuv7Ga6+vWbMmFI8NGzx46ozpQ0499cTBp6Rj0VQs4XS53G53ONp63tQZdoFxO5y333FHoCTY1NTkcjoRAKqhN9Y1VlVVZTKZQCAQCoVeeuXlNWveNxCYOH7Mqy+9HNrXECwrczmciVg8GAxKkmRoOs/zpI2o7FW9+pWX+/XrxzEsL9hikUiXHs/Y9deFfU475xi2c1iWJQiCJEnTNB0Oxx233fb8Sy8yBGma5lNPPRWJRNxut9PpBAAEAoHW1lbLsmia9paUjBoy5OUXX6qurtZ1/dDnX8DRA1RamrBOgh/JOL7mDAZTLS0dfoEhKV3Xk8mkz+fL5XIIIY7jLrjggr59+86ePbt3376ZRIJlWZqmM5kMgQDPcoZhSJJkWRbDsS2R8IsvvvjsC8+XlZVdMefKsePGcTahtrb26nlzN2/+hiTB3XfeMW/Bwubdu9PpdM+Kbi0tLS6nk+N5VVVplrEgeO3116+Ye41NZBwu18svvNirsjtpgZaWlkAgINrtyUSC5/lcLpfL5QYMOfVfjz5y1llnaZoWCoU8Ho/dbu88h6BDEAASh67TWhBACNEPKdTmeYfQsixW4HVd13Wd5/n3Pnj/wgtn+d2eeDKx9r33+/bt63S7U4kEfhKpqupwOFiWRQideeaZ8+bNmzhxos1m65J7EO2fVQEHR1uGFMRmMAIAUABausHQpMPhSkcjNEGSABIEAWFbdlWXmaPkJbfbzbLs9u3bu3fvDiEcMmTIrbfeOvOii6ItLRzHYaOW4ziPx5NNpSmCdNhESJG5XC4vSxTL2Gw2mmP37t37ryefePa55y747SyW5x7/5z9yOW3RjdcvvGFBfW2dx+32er1IM7A3lqIomqZ5m1Bbv++M8eMkRVZ08OFH7/aoqMy2xnud2NfM5zOZjK7rgiBQFLV+/frzL7jw9VUvDRgwALvjXJWVQJLCjY2CIHThgh455hAkKcsyxTIQQoZhwuHw+Aln5bO5bDa76vkXhgwZYrPZLMtKJpOKonTv3l3XdYTQnj17Zs6cuWDBgksvvTSRSGDzpivzb5tVAQfHsWAOTZDYSSoIQiwWe+ONN2pqav7y0EP1O3b4/X4cM/H5fJZlZbNZp2g3NB2YFiIgRVGAgCZABEGQDK2ZhqO4uLWp8d77/vbAw4/jk++t+c5td5qaDhBKpVL5TLaspNTucDQ1NjrdLkiRU6ZMWf/5ZhOA22//w5yrr07HEzwgTU23LEvTtIrKyl07d/71r3+NRqPPP/88AEDweGJNTQzDxGIxiqICgUDX7BxEAILoUvMCRHTMHNOyDMPQLdPj8Zimee211z77wgsQgOvmzrvu2msDgUBzc7Ou6927d8fZaM3NzcuXL3/ttddWrVp18pAhWz7/fODAgQihbDbbhckAAArMOQQcBnO67FtLp9MIIVEUa2trPR7PmDFj5s+fX79jR2VlpaqqNE07HI5cLkeSpN/vx84frNarqqooiiRJ2Ww2lUqZptmyd286nX711Vc5FkIAFt28YMKECX/5y1/C4bBhGD6fr6qqygJI1zQsNx566KENn2+2AJh41hlXXXVVJpPhbQIAAKthXq/3D7feOm3atHHjxr388sutra2maUbq633l5TjhzeFwpFKpw7isEB3q6yDAUV2sfb300kvPvfCCx+0KFBXdcccdPM8nEomSkpKqqqpwOGxZ1j/+8Y9x48aVlJR89tlnxcXFzfX1PXv2rKmpKRg5xw8Ox85JJpMcxwmCgFmE065SqZTT6aQoyjAMnAlimiYJoKkb2I9sAaSZhmGaFEWRHEOQpKyp991336OPPqaZ4Ibr582fPz8ejX256bNHHnkkGAyeccYZQ4cN69WrVz6XKysv3/7tt2PHjs1IKgTgs883dO/ZQzN0EhJ7v92xb2/tsmXL9uzZc80118ycORMAwPM8jhISBBGLxbxer2EYpqbbXU5d19GhFVQTCFiAAARx6DsgIAgghDikCw7IiUYAYEXLgiCTyYwaNUqSpHQ2u2ndpwG/3+/3Mwyzc+fOhoaGd9555+WXX549e/aVV15ps9lyuZwoith1WVRUlEgkOtyt5GBT+kldQ6cz/y+Oph4LbQ3X1Rw6SAAzmYzNYdcNQxBtOVmy2WySLNMcu3379vFnnePgGbvd/t22b1taWpx2h5yR/H7/lu3fvLv2g48+Xffx+o3Tpk85feSo11/9fx9+9AkP4bRp00477bREKrVz964nVj5dXVE2+rTTJ02aNGDAAIZhZFkGCOEfwrKsKslgv1/LxguAgDlFdrpdwEKJRCKfz7Ms6y8qSqVS9E/qaiACCBCAJFWtLcAiy7LT6ZQkCfvl8TOC4zgIoaIo2A/GMEw2m6UYmmRoVdMImqJZRlYUlmUNZFGQePjhhx944IG8LA0aMPDmmxY1Njd9+eWXOHtg2LBhEyZMGDp0aElJSWfiESFE07SiKIZhYFJhn0FnjMJ214G1dJhC6XS6R69erZEwSZIIIQsCXVFdLpepGyRJ4vPjgg6EkN1uD4fDlZWVkiSlUimSJEVRDIVClZWVyWQyn8/7fD6c24GtOK/XG41GRVGMRCJFRUU4koYQsiwLR7TwtUqn07qu+/1+XdclScI5RIqi2Gw2fBlxMqvNZiNJMpvN2u12hJCiKDhzr0vr8OA4HpnDkJRq6DRNq4bOMIyOLEVRIEWqqjpv3rwvNm7Kq8aqlSsGDhzoEu2aojr8wXQkbPe6o7m0bpm0wO3as+e+e+9ds/odgSQG9R8wcvgInuf9xYHyysqRI0cSwCIhgRDSNA0nVrMMw7KsqqqapmmaRgLo8/kQQolEwulxMyzbHGqxLKukpCQSCns8HlmSaJqG1vd3ov3pi5kj2p2xWIxlWbvLFWlpYVkWByixsa5pGoQQr7ZcLud2uiiG5jhOB5asKBYJIYSKqkKKJElyz85dZ44fBwEI+gMXz7qIYpmSkpKKbpVlZWVOpxOHNXERkcPh6PB6kiSZyWRYlrXb7ThoxrIsy7KGYXR4/IFZPwdKQtM0aZqWFNntdkuqQhBEPp8HAHAkTZIkDtrSNN2eGme326PRqM1m43neMIzm5uaqqqrW1lYIocPhIEkSR9Jwip2maRzHpdNpu92eTCaxeZnP5ymK4jiuLf9dEEzT1DSNIAicsYqvpCAIgiBompbNZimKCgSDcj6vKIqmaR6PJ5lMkiTpdDrT6XSX1uHBcRjMOep5a5qmIQh0XWc51jRN0zJpmuZF24oVKz746FMWgAljx4wdOzYUCmmaJgiCFI3m83lK4DRNAyShqmrfE074fNNnJABup+uPf/zjqYOHcA5HPBJmeT6TyYgcqxoGvvQ8x5Ekib0Fuq4bhuFwOJi3K3sAACAASURBVCRJSqRTHMfplqlqWkskDADweDwtLS2iYLMsCwHAsKyqKKCj0A3DsY3NTbIsC4IgiDaSpkSHPRKJQJKAlmlZlokshmZsoig67Ha7PZ/NsSSnqqqkqyRF0TSNFVpZU51O5+OPP04TJMeyjzzyyPDBp3I2IRQK+YsDAIBcLoddL06nUxTFzmQOXnx2ux1LG0whXIDQpftCUZSiKA6Hg6IoOSXjNFMAAANJAABJkm3PHZLEQkmSJIfDQRBELpeTZbmioiIej/M8j8MPLpfL5XLJshyNRktLS7H2zvM8wzAOhyMSiWAxgh9wNE3zPK9pGuaPZVnY/MOMYhjGNE3TNLEICre0YF+8y+XC3vxsNhuNRrv6e484jkXeGr4QDMPgQJDL5cKOI4YEosgvXbo0Ho+Loqgoim4aNMe6PZ5EKulwOAzDyGazn3zySTyeokg4bNiw6qpekiRlYrF0Oo3TT5KJhJzLW7phGIaiKLIsYyUKQkjRNAIAkISiawRN+YPFOSlfXl7u9/ttNpvH40EI4ZSIg3gOdF3XNK1Hjx4ejyeRSAAAIIRutxtTFCsnlmUlEol4PC6rCkVRlmXl83nsL4EQ4rwbjuO+/vrrl1552e129+nTZ8iQIdjbHggEGIaRJEmSJCzw0+l0PB7vbD7418myjL/OcRzWG7t6U3Rdx2VOsixjJUo7AAghnKmEw194hnixMgyDbxYAgOd5HJ7O5/NNTU3eoiKe5yORCJY5drtd0zSvz1dRUYE9Rliw4GnjuBa+XKqqZrNZbA8bhiHLMoSQ5/n2ZQMAiEajmUwmk8nY7XYcLP55cdRlDsuyFEDYt4aT1iCETz75ZHNzxARg2rRplZWVWl4mCMJmsyUSCafdZSFEkqTD4UikU+Xl5dPOn0pBYJjo9ttvdzqdWMuv7N49FAn3qKrS02mKICGEmqHLsqxrukVZAACaYRRNTaZTXn8Ro3ORWDSRSHz66ad1dXVDhw7t0aPHsGHDmpqa3G43TdOyLOPZ/qgriAWAyPPl5eVr1qwxTXP8+PEsy+ZyOcMwcFImVrjbo5MURSHdxHnNHEVwHJdVJEVRGJZVJf3uu++mINEaj734wgsIobLy8ki0NZ/Piw47y7LBYJCm6Vwuh/WoziK2OEswn8/jFYwVNmwAdOm+YOanUinLspxOJ1Y1GYaxECQIAic6cByH/5xpmj6fr7m5uaKiwjTNpqamhx56aNGiRfl8nuf52trakpISt9sdbmnJ5/PdunVLp9Pr1q3buHGjKIoDBw4cO3ZsOBxWVdXj8QAAMFfxn8APJsxVfGexrYj/qKqqOJeKJMnm5mZsQeHDur4SjzCOhbYGSMKyLCmXo2m6uLh4165dzz33HMMQNE1fddVVyWTS7/Zms1kICUEQdF13+bwCdITDYbfb/fLLL++p2ee2C5MnntPjpJOad+xECLlcLqwi1+zeLVIUA0mapkmGZmmGpmndMjVdb41FTxw2tGXPnuaWFrfb/fi/lj366OMOh5hJ5f711NMMARYvvmXBgoW33nzzQ48+Xlrk27RxY4fzj0QiiqpfePFvAQBffbbZ5XJhjQILHF3XcQgLmz26rkMESMuiKEoHlizLCCCn08kLwrc7vlu/fr3NZhs0aNCgQYN27doFdBNAIIoiNiqwroLXK06f7XA+giCwPK8pCi7RaddzWJbt0n3B1pqqawzD4GooTN1ka8zr9aqqmslkBEFoN+ry+TzW0L777rs5c+Zgi/+ee+7BYgFLXU3Tqqqqnnvuud9dfPHUKVPmzZu3c+fOO++886OPPvrbAw/s2bEDIYRdLJqmOZ1OXA/i8XiwaeR2u8PhMJ5bLpeDEGIdL5/PL1myZN26ddt37Ni+bRvWALu4DI88jjpzEEJSPk9RVPuTbOXKldFYiqbARRddVF1d3dzcnMlkaJrG2QmtkRiVyxnAisfjlU7Hg//7gMCQmay04PobrEwGANDa2ppKpeLp1An9T3LwNsaydEmRJElSFYqiaJYhaYqi6aqqqm82buxzwgn7mhqvumbel19+qVoglsr17d3zgukz8rncfffd98ILL9TV1SEALvztrLYqGgDAgX0RAKBoeu2770EATYAASWimwbJsJp9rbW1tDofsdnsgEPA5HbIsm6bJM6wiyTj8L+kqQZJ2jwsAEIlE/va3v2VyOZYgb7rppnw+X1VVpeYkm8Pe2NiYlyVsTtA0XV5ezrBsU2NjZ8VqFEV99+23BEEUFxdj5nAcF4lEusocgJNQAY19YizLinb7qpdeaqlvnD59enFxcSqVkmWZ4zhckKuqaiwWa2lpGT9hAkUQhmVdfPHF2Kng9/sbGxudTifOr3399debGxv9JSX7amoGDhx40UUXTZs27YVnnpkxa1ZLQ4NhGDabLZvN6rquqiom7RtvvCFJ0vTp0x0OhyzL2EzFwicaja5evfr1119vCYcBAN27d49Go/ix1fXFeCRx1JnjcruzzU00TdsdjlwuFw6Hn3zySadDyGalSy+9NJPJWJZlQYuiKMpmw7cwL0v+kiDrEN9c8/bO7bsoCk6dfF7v3r2/+uLLu++864svvkhKOYfdPmb82Ltuv4MxTI6gOI4TCEK3TBNZqqoiAAzL7H/yyd9s+2b2nCtr9zW63XYzm33k4YfPm3hOLp1xOhyzZs0aOHiox2EDZn748OGdzV/TtGsXXs+RjMiyOL3/hRdeWLp0KUVRqq6eNvK0G264YdiwYblcTlVVMVhCEAR2vwIAaJrmOK6+vv6DtWtfffVVmiRPHnhyjx49sMqayWT+96EHX3755XBrJCdLAIDS4uD8+fNnzpx5kBpPSZIeeOABp9N50003OZ3OSCTidDqxlOjSfTEMQ9d1zdAty9Its6ysLBwKzZw5E1rA4/FMnz4dAIAtNNxeBxdvn3vuuQAAbKrdeMsttbt3YxoEg8FMJvPII488//zzqUxGluXm+nqe5xVFwXS69957x4wZQ5Ik9rVks1lJkliWdTgcX3/99e8vuQQAUFFRMXr0aNM0sTi1LCuXy6XT6avnzqVIEgDw4vPPp1IpnDXb1VKrI46j7iEwDcM0TWzSeTyetWvXkiSZzEhz5845ceDAfD6Pw5SZTIaiKAihgSxvkS+VSdfU1FxzzTV2u6Ab6IZrr1v7/vu/Hjc2GAxed911J/buncpmV738yosvrwIAiH4/bmGhKAo2PWmWYXgu1tr6z3/+s6WlxbRAeXn5+++/P27cOIQQQRAAwpdWrUIASLI8beaMkwb0RxAAAtIMY1oWQZIESbIsy/P8W++swRV4V8+diwC4cNasl1atumHBgtNHjzYA+uzzz//wxz9GYzGO590eDyIgDoPg3wshxA/j+dddi6t0rrzySoqiNE1bsWLF4MGDA4HAAw888N133+3esfPF555vDocWLb6loaEBAEAQhN1up2ka64E4uOzz+e67775oNDp37lzTNFtaWnw+XygUEgQBdoLO6oVwlAbb8dgLfOutt4qiCAGAEDIcx3Gcz+dzOp2lpaW4/dDYsWPT6bTb6YzG43feeWcsHLbb7QRBMAyTTqe3bdv2r3/9K5XJ9OjWjaIoHPvCbhuv1ytJUiaTwf5uXdddLpfX62UYRtO0JUuWUARBkyR2D3Ach10Foij6/f4nnniCgFA3zXFnnjlp0iTsqv7ZBQ44BjIHK7LpdFq3zGAw+MQTT6RzMgTg0ksv3fnNN8W+ooaGhqDPT1FUJBIpKS8zTBQOh/0lwb/ec08ylQUAnHXmmN27d1955Zx1733Qp1c1IImzzpk48TeTmiLRm2/943VXzkmHw4JdJBnaRoqJdIoXBKfH09oa2fLVV8ueWCnaGIeNXLlyJY4qGIYRCARkWb7jz/fYeSYra1OnTrXZbPlMVtM0nuVEUcSJQgLPS3J26dKlRS5vNBWfPHnymWeeefPNN1999dUUTe+rqxNvE1/5f698vf2bpqamE088kSCIxsbGypIynOksimIqne5eXTVz+nSeYRVdKy0traqq8vv9/7NwYWtr63fffZfKZoqLixEE2Wy2R48eDpuYyed27Nhx6tCh6VQqEom4XK52j3OwW7dbFizYtm3bqlWrWEGQczkIYVNTU1VVVUNDQ1dVf5zL5/F5DcMwDKO2tnbdunWSJI0aOXL06NGGpmHHSSwW8/v9wWBw7Nixu2tqgoFAKBK56447Bg0apChKu3PMbrfffPPN6XTaxvMrV64URdHr9dbX1/fq1cuyrKKiIpvN1r1793g87vV6cUMFHMl5++2331+7FgBw0axZJ510Eg5nFRUVSZLU2tq6devWV155BeuKS5YswU+KbDbLsuzPTp6jLnOwLo59oHV1dV9/uwMBcP5vzi0rK7Msi+d53KEzmUyWl5fHYrFMJiM6HIsXL96+fTsFAQHAoEGD5l519Usrn+k/fERdbW0mk+l94ollZWUsTXhcji+//NKAiKSpRDbdHA55vF5FUZrq6/1lZY899hhLgWxee/DBB/GjMZPJSJIUTyW//GqLBYBhGP1P7D3w5JMhQZAM7fJ6WJ5rDrUIgsDzPALg4ksvyeSykVT89FGn33b70j8uue2KOVc2NDcpmlpSXnbu5EkcL/As/8n6TyFFWhAU+f3Y7ebxeAiCcDgca9566/+98Tp+iI4aNWrY6adffPHFkiQ98sgjgiD06tNHVVWe58vLy59//nlFUbwud8+ePSPhsKZpAABJkiqrqtLpdLC0dPmjj37yySf3338/63Bs/+YbXGtN07SmaV6vtzPBcpD7oigKVnsEQXjxxRf37NlrWdall15K03Q4HMZmep8+fQzDmDhxYq9evSAA8Xj85AEDzjnnHByRxA4x0zQ3bNhQX1+vmyZCKJlMtsdzstlsQ0NDMpmMRqPRaNQ0zVwux7Jsc3Ozx+9fu3btb3/3O7fTSRHEvHnzioJBVVVxDWI0Gs3n87NmzWpoapIUZcaMGSeffDLLsjjD4HiogT3qzBEEAbtQXS7X008/7bRxDAHmzp0ry3IgEGhoaDBNUxRFl8sFIMRawYYNG/bu3XvKKacYCPiLvH/5673Lly8fd955jdu3+/1+t9st53KTJk2iOTaeyjSGWxiBj6WSDqezvKKiNRZlea6oOPDw/fe/9+EnhgFOH3Hq+LHjeJaLhMI8y2HN57nnnist9sm6NW3aNI/PFwqFFEVJJBKpVKqoqKipqYkkyeuvv37955/zPA8A+Prrr0tKSn77299i7TwUCkUiEb/fj6MrWCXDD4hkMlnSp099fT1CKJVKTT5/yi03LcrkcwihhQsX/v6CCwRB+MeyZQRB7NmzJ9zcTBBEU1PT2rVr773/Ps00Jk+ePGzYMKzyeb1eQRDCjY0ul+uN11677bbbHnvssaqqqpa6utLSUgCAJEklJSU4h6Wr90WWZWyO49yRJ554gmGo7t27T5gwAWtotbW15eXlsiwvWrRo6NChpmk6HQ7NMG677bZu3bq1W/CyLNvt9k2bNuE5VFdXY23K7XZj2Y49ctXV1QzD4CQdh8PRu0+f+VddtWDBApokU+n06aef3rt371wqxTAMDspBCIcPH56TJBvPszT9P//zP42NjV6vFxeZ/+xGDjgGzMFpKTirauXKlQCAysqK6urqfD7f7qPEbs09u3d3HziwOdQye86VV82bu2nTJpfdFo7GFy1ccMavfx2q2Vvep4/T6Uwmk01NTd26daNpGpKgobHRZhdtdrF2Xx1rEywINNPYsXPnn//8ZxIACMDpI0dpslJSUQkRMDTd7/dv2/7tU8+80BSOdass5WxCIhbz+Xxl5eXl5eWCXVQN3e50LLrlZrfXc8Wll2ZlWeQEm822aNGiZDKpqmppz544luf3+4uLi7NyvqampqWlBT9QSZKs/fprv98PIZw/f/6qF1586623bBxfWVlZV1eHzYl8NhuNRgcMGOBwOJLJ5JIlSyafP6XI473y8ituv/12HN/AHluEEIQwHo9Pmznj3Xff7dWr1+7du10uF03Tqqr6fL5MJsPzPL6YXZI5uq7bbDasCzQ2NobDrYIgjB07FifF1NTU9O7dW5bla6+9lqbpGTNmrHzmGYTQyOHDhw8fjh922WwWt5RIp9ObNm2yLGtAv36PPvrohIkTsYm1ZcsW3JfnzTffPPPMM3mer6ur83q9W7ZsCfj9mqY9+eSTNE0jAJYsWZJMJlmWbWlpEQTBZrOdd955gUBA4DhJls8555zq6mosA30+Xzqd7lKpxVHCUbdzMDEIggiHw5FEygRg7rRpWMqnUqkeFZU8z2dSGUVRevXps+3TT38z5fwVK1YUFQcikUhWUmgILrroIl3XvV4vyOXC4bC7yCc4xEg6GUtkOI7csXsXYRNa62pP7N9v165dbrdbkqS5c+eOGjVq3bp1JEkOHjzY5/Pt27ETr/Xvdu6cNm3aORPHvvPOe7X1zWeeeWYoFOrRo0ckHFYUpaioyDCMGxcs9Hq9V1xxxUmnDOFpOqdIjz32GG70DiHcu307jnDjXASOYj777DNc9+p0Ok1ZLSkpSSaTd/71z2PHjh09evTUGdMRACNGjFi4cOH777w7YsSIwaeccuqpp6ai8Q2fbfry6y0IgBlTp11//fVFRUW4xy+WJARBRCIRWZYnTJjw9eYtpaWlra2t1b1776urw/a9ZVmZTKa8vLyrjjUAAHYH4wD0x5+uE0Uhm82OGDECAIBrmQAAd911l2may5cvHzp0KMcwiqLccMMNlmVFo1GHw4FzOLDU9fv9qq5jzWLlihWTJk1atmxZdXW10+nctGnTCy+8sHfv3sbGRsMwLr744vfee++pp54665xz/rR4McdxkqIoiuJ0OrPZbM+ePZuamubNm3f55ZevWLFCURQEwEUXXZRKpRwORzweP356/Rx15ui6jju4fvvttzxF5Azr7LPPJgiiqKhIUZRQKIRrE4qLi+Vc7p577rl58eLRo0ff/de/ZCXFYeP/Z+HCQJE/m0xRrJCMxYuLi1XTSKfTwWDQ6RRkWd5bX5fLpLtX9axvaqzqXZ2KJ8aPH3/77bcjhNauXZvOySNHjEgmEnZRTCaTqqJceumlr7766jPPPKOboDxYJIoiEMVEOuV1uUE6vXPnzsWLFw8+edCiRYvefvttAACCcEC//iee1Lco4N++4zuPx+PzF2FRIEmS3emAJKEaGiQJSBKGbtAUxTDMP//5z2QyOXHixFWrVgEAXHbHUytWPPfss0VFRX/84x/nX3vN+++/H/D47rnvb4MGDdIMvaqqqj0DCDOkoqKioaEhkUj86owx7615p7S01G63p9PpaGurpmnV/fop6XR9fX1xcbGiKNg86PD6d2ZJ40g8QZE4IRoAYJoIpwvh+OPSpUtbWlr+9re/bd26dcvXXzvt9pKSksGDB4uiCACw2+1Ym8BmqtPpZCiqpaUFITTjggsghNOnT+/evft55513zz33/OY3v7n11lszmczmzZtvvPHGBx980DCMxro6nHld1aMHbn+FEIrH47feemuvXr3mzJlz46JFNEkOGTRo8ODBOFWHIIhEIlFWVnYY2UZHHEddWyNoyrIskqK2b9+uGhYEADcDSMbixUX+oqKidDptAWSa5vULF/iKis6ZODHcEtrx7XYIAGGhGVOnJWIxt9udy+cdbhc2NAVBEBj2lP4DkYnWr/ssEolEo1GO4z744IPevXv/+c9/Pvvss0tLS03TDBZ5amtrU6mU1+fTZGXKlCkXXThrQL/+gSK/yFGhUDQcDgss53W5a2pqVq9ePW7cuMWLF//hD3+QZXnbtm0AAF3Tbll0U1lxQJHypQG/jefS8VisNaLLkpzPXfb738mqwhPEc888TQEk2LimlsYZM6cpmvzQQw94vK59tXsBAKoiXXbx786eMD6fy0w675zZl1xCETAUiyRirSQJOY6JtUYgROGWZpKEmiKbpp5JJbdt23rGGWM+XvvBab8areuqnM/RNKnreq9evfbt2hWJRIqLi7Hj2+fzHcq9wBzCWa2YUaqsWJZVFizJ5SSn0x4NRxqbm+obG2bOnLm7Zs+9995rs4v3338/x7HpbPYPf/ojTdPJdEpRlLws7du3j+O4RCLhcrkmT55sGEZzKLRjx46Gffumz5ixZs2asWPHXj579hlnnNGnT5+ePXtOmzbt448/HjFiBMMwuL4Ld2Otqa3FaUSpVGrmzJmiKD74yCOPP/44z7IkSZ522ml2ux1/hSRJl8uFYw9Ha70eMo6uzMExeMMyDcvc19ggirzT6RR4XpMVXdNIggAA2Gw2SZKeWrmipq727bffTsTiLqfji/XraQAW3XBDRUnJ3j17ZInPq3nT0kmaoAhCymWLi4sXXXPtpnUbLABmTJ1WXV393nvv9ezZ883Vq6urqyEApwwaNHHChFffeOvBBx8899xzV6xYsWHDhhtuuOE3v/mNoqrnTjz7f//2AAJg4fU3jBg+vLW1dcOGDZMnT/70008DgUBrPOZ0Oj/46EM7Q/XoUTVi8GDCMHVdI0xLUxS3TQQEzKTSFcFi95ljB1ZXN+yr//Mdd2zfvCXcGtm0efPK5ctPPuUUVVWCVVUfrf3AybGGYfzp5lsysbgkSUVFRTffdGMmlVz16v9bvPiWzZu/XHLH7TaOkzW1rCQYDof8Xp/H7XrqieUPP/pI7e5dTo+7pa6W5ljVsiBADEPhBFkAADbKsaO2M9liGSY4UPIQEAAAERD4to55iiSPOu30/n1P/Hb7d9ddf8PwYUPXb/rs/nvvueTyy0xN/3bHd08/9xxBEVVVPYePGsnbhEw+hyDISnmc4o1zjioqKi6//PJ/LFv2+9///sILL+zVq9fq1as9Hs8br702atQoXLyEw6mCICSTydLKyvjevSeccAKOU82bN8/n872+evWzTz/9q1/9KhYO5/N5WVU5hunXr5/gcMiynEqlcN0kx3E4qtOlpYiPdzgczc3NgiB4fL6GfftwxOnw1jZ564Ib8DvTNLEdb1kWZ7crnRlhXcwsbI1FSYYWbLavvvpq06ZN/fv3nz1vHgWhw+HI5/O6rhcFAm+/9dbNi2/5YO1aVVFYhonHYp9++mkqFr3iiivKSktxKJrnebznFE3T+XweIFReVjZowACBZQAEAwYMmDdv3jXXXNOjR49EIuF2u2Ox2MSJE3t2r1y/fv1XX301fPjwqVOnjhkzBmfOV1ZWVlaUuxwitliGDh06d+7cX/3qV1ixJAhC1/VPPvlk557aOZddeuaYMaahm7oOAIIIEQRkGVrTVFEQeI49eeAAjmM5mhZF29Chp/7rn/8IlBSLdpuqKVo+986at2v21i2++aaTBw7w+bwURabTKVG09et3kq4qn2/5+ptt277a/EW3bpU9unXTda20W7eG2r1XXHaZqirL/vmPkqqeNd9tZ1nG0DSELJ/Hp6pah83dO2QO3s8Hgu/7wcO2/4CqaQAhTddTqRQyzbFnjuV5rry8rN/AAQ888L/nnndeJpMBBHzkkUe2frPVMIzrrr/+7LPPNixT13XBZnO5XICAeUlyivZEIsHz/MCBA6t69sSxUYqiFixYMHbsWNw/LJVK4WQ83CyJZdl8NptOp0844YRTTz21vKxM13WPx/Pm6tX9+/dPp9PBsrI333hj46ZNAKHFixcbmhaLxVwuFy5DkiRJFMUu9jACiqKYpokzGBRFaWpsxOWDbQ7uturd79c2ASCyLJIkWJZTpTwJCQJgx0ebmnZ0K9sQAJzAJxIJj8dzxx13LFu2rKqqavXq1bhUMJVK9ezd+5EHH7z99ttra2tVVUUIUQSpa9rHH3+8bdu2efPm4crHTCbjcDhwqjVFUel0GkLo9/slWZYUGSHEcRy2GhmGSaVSiqKUlJTgDHzsjSBJMhQK4fRK3AsOn8fr9WYyGV9xsS7LNMc17tuHGydACLdt27Zhw4bfTJrcq0+fbDKJKQcAME0T1zkjhDKZTM++fZVUirPbE5GIw+kkaaq+vt7tduNqsE2bNr322ms333wzbsaAW5DSNO3w+XZs3frP5f/6x/KnEAAEAP369jnnnHPef//9LVu+fvbZp0tLSwcMG7bzq69KS0vtLldzQ4NpmoFAMCfJHerYnckcXLGHCNh+GK7i0g1DFEVEQMuywuFw9YknhluaRVHMK7Ldbs/n89lsNp/PjxgxAoenNm7cWFRU1NjYiK82zrgVRdHv9uIiM6yEY2ngdDrj8TjDMAzDxONxhFBxcTEAQJZlnBuRSqVwQS7LspIkURQlimIsFsO++JaWlr/85S/Lli8HAGxcv/6EE06wiWI+l8O+tVQqhftbHPo6BADgwKvH45EkKZ1OFxcXZ7NZnLINjs/Ktmw6Q9M0y7KDBg0iSXLHzt3r1q2bOHGiLMssy15y0UWhUGj79u3tGeyarHj8/rPOOmv06NEul6u1tRVX1eJqWyzxeZ5HCMVisWQqxTCM6LCbponDZIqiBINBzmbTZDkej+u67nA4cLEuzt5HCDkcDlVV8RV0u925XC6zezfHcbj9OS66RAiNHDmyb9++HM1kEgmsF5EkibOGsQwEAFiW1bx3L4TQaZrYf2gYRnFJMJVK4SS3oUOHlpaW4lKTaDSKa0tSqVS0ublbt2633nzLrFmz5lx1VV1d3dbtO3ft2vWnP/3pySefBABUVFQ019S4XC6727131y4cCZEkqSub0h8MHMdpmpbOZUtKSrxeb0NtrdvrSSQSgCQURRFFMRgMLly4UNd1wzDnz5+Pu9j5fD6cvIsTtJ2iPZNKu91uVVVxRhlOY8e+PpydYLfb8QMLN483TTOZTJqmWVJSgssN7Ha7w+NJRqPBYLCpqSmTyRAEEQgEWJpWdR1/pX7fPlzCjW9EIBDoqmNaEAR8R3Rdx65tvDYOwy2JcdRlDoTQ4XK2trZqmva73/1uy7btIkuff/759fX1mzZtrOwS0gAAIABJREFUuvDCC5cuXYqfl9lslud5EkC8dp1OJ75MOOaAfycuscKPCl3XTctiWVYzdJwchUMfbflvhuF0OkmSxNcIpwVkMhlN03BCGuYALpzCpVq40AVXqpAk6Xa7NU2jCTKZTNpsNiy7WJbFSiYuIMHdS/CsbDYbw7KKoti9nlBjI07cUlW1/Z7hkD8AAJcV4CWYk6VgSUk6lcpkMiUlJblcLhqN9uzZExcq+3y+ZDKJUypTqZTd4ZJV7YjInGwuJwiCBQHOhs7n8xU9ukcjEVEUcWJOKBQ644wzFEVRNT3U0oxDkHa7vbGxEVtruJE3RZC4CBwAgLM0cE4DFrCyLPM8z/N8NBrFHYiwt10UxfbqXXxBKIoKhULdu3fXNM3t9X75+efDR450O5033njjwkWLlFwOC41oNAoh9Hg8XQ3+YutIUZRuPXt++dln77777oIFC9pb3R+GzDm6dg4EQFFVSZYFQfAHg+PHjbML/K5du9Zt+nz40FOXL18+c+ZMCGFdXR1CKBgMSrk8LnjEKinDMBBCHPUXBAHLDewRxrmMTqdT03XBJui6HovFsJNUFEXcMiabzeL+D3gbTRwZxCoyfhziREkAAO6Sg7eFw3fI7XabpolMiyQI0zTb90jDJTSapuE8sUwmgzfxxS2pkskkAiCbSbvdboZh3B4PLnjEDlxcAq2qKtZScHacIsnpTBrzHGuhZRUV9fv24Zp+XD5Q0r17JpFQFIVnecuyUEdip1Pm7N+E5PvDIAAABIPBZDKpGwZBEDzPFwWD27ZujcfjGzduXL169fbt2//+9783Njbqun7JxRfjQFYkEsG6Fo7lYz8yz3E4qRlXm0EIOY5z+3wN9fVYrGH1GGdF4EoTHD/NZDKGYaTTaZvNJopiPB4vLS3F6lxjQ0NFRcWvf/WrzZs3b9y48axx4wzDSKVS+BnqdrsPb49HvJBsDsec2bNPPvnkAQMG4NYIbSv1uLJzAACuoqJYOCwIQkNDQ3V1dTqddpeVAZI0EolUKuULBPbu3t2zTx+g63v27CkqKtI1DT+QUqkULlLHNiVuHYrLsHD6MJYMLMfhwjIsPXBsThRF/MgnCALfs9bWVq/XCwDAneMRQnjhchyHdT+cb4aDG1iA4OcoyzBYTOHAFG68gpu8tPfBSaVSfr8fh/wpmsZtKHDTDwghrh/W9ba9GXGdPc6V5AQePwsRQg6PR85m0+m00+nUNC2Xy5WUlGCvFC5ZtdvtOUkhKKrDLladMQff3J/KHJKiKIrKK3JNTc3rr7++fv36z7/8YvTo0b86ffT/b+/bo9uozn33nhlpRo+RRi/LkmI7AeflvAhpCOQETlugnDYtcHrb0ENze+ByebWlhXNWG/6Ae28gkFBuKZDSFSC0XdxyOFxoKKRJyyL0BgIhAZwmJW/biRNZth7WWyNpRjOz7x+frTiJxrVM7BhnfstrL1kej7ak+ebb+3v8fk6nMx6PP7puHUKobdasVatWvfHGG4lE4siRIyzLtrW1LVq0yOPxLF26dMaMGalUCvo0gWAA6taA48rn80FxA0KoXC5jjIElp7+/HzK5bp8vk0yCAoXNZgMqj2r/uSRJDQ0NkiQ53O7Ow4dhLQ3dHBCEqOs6hMJFjPGmTZtefvnl119/HcjP4FueiNw3pXIZgomNjY379+9vaWmpBjRsNhtcKNCDDpk+REi1rQoSpul02uVyZbPZYrEIJQKSJLlcLriZMSYTFE0Ccwp0GYBICdRrEEL8zc1iKmUymdLpNGx7MplMIBCA61IURXC2EB+HYANIj1QqFU1VwRvD7TaVSjkcjlwu5/P5oK3abDbDvh8hZDabS+Wyy+WCLQ1cK3a7HcpeQRIURH5guyXLMmM2AVsFFOSDseVyOY/HU6lU4EPAGHs8nkgk4nJ5KqpWk3O0XstRVHXHjh0PPbKG47g777zzkksuCU4JCYJQLIhWq7W1tTWZTFIUtWnTprlz54aamwvZLEKoWCz29PTE4/EPP/zw2LFju3btmjlzZktLy4IFC+bPn9/S0gLhclA6AnIP4CuGZRvYD3zOVc4gcP6wfIV+LUjayLIM9yMQj2EYJp/PC4IARAX1dvLBd5RMJr/yla+8/fbbs2bNisfjPM/DXWkiWo4BQE0dT1JLKXX405B6eK4RQhohkiSZOBZWvNFoFFG4s7Nz1f33L1y48J57f9zQ0BBsbj557JhKNJPJxFD06tWrf/Ob33Act3LlyrVr1yKE0uk0mMTZ6O7uDofD7e3t7e3tQHyzbNmyhQsXNjY2hkIhyD3ApQX7IvDwhUKhUqkAURZEa2A9DB4AVkVVg0EIVZfo8DHCX+FuZbFYYBtMCAHfDhEOoH9xOBwcx4miKMuypmmXX375c88997VvfCMZjyOEYAuADMuZyNBTwK3TeCiMKA3XYTkVRXG73ZJSgZZ1p9N5z49/tG/fvid+8Yvp06ebLVw2m5UkKRQKJZL9gUDgD5tev3nlSoRQ85Qpe/fuhS5d2LHUPH+VAwhYBY8ePbp79+6DBw8eP36c5/mZM2cuXbq0ra0NqlSBdSSZTEJZZ39/P9CGwOIZotgQ4AFKVGA7gBJYqI+G/S2EFkAyA4wKIQQ2Y7PZbDZbV1eXw+FoamlJxGJAA4IQuvnmm6+++uo77rgjm83CaxUKBShHmIiWM3LxGUC99OH1nr9enKv51LScKo/uCEEwhVGd2goU1dfX53AJoYsu+vSTTy5bevkvn16/cuVK1mKJ9vVJSiUUCgGD2Yw5be/+5S9fueZagXdomvbqq6/Onz8f4oGpVErP51jstnw+D1s12OvD5Q7x5XA4/PHHH2/fvj2ZTC5btuz666+nKGrx4sVArQzyfsAiVPUzwE8Azgfo3SA6hzEGDj3Y5EAgByEEQSN6EH19fTNnzxbzeYhbqKrq9/sPHTp0++2333jjjdVuBWivgIoeZFjOWGBMLQfVbTx1q5LYbLZMNit43Nu2bfv2Td8OnwjnCvmpU6dGensRQv5gIBaLEUIsFks6m/nOipuOHDwkq8raNY985zvfKRQKTU1NkALWiwInM2mI+COEZFmG9RXLshBrAcInjDE0eB44cKCzs/PDDz8MBoMrVqxoa2vz+XzQkQGkfAghcE0IoVKpVCqVwBThJLCcqwbWoEfIZrOpqgobJMj4QdcQ/Alj/Nprr916222/fPrpW265RZIkCI5X0+LwLgzLOfcYB8sZOUah51MoFIKh0LET3VdcccXevXvNZnMynWpqaipLEtQQQOBbEISbV373ww92FvOFq7/85Zdeegl4bSDvLklSlZLu9PkgzNCwfIKrCIKHDMNAvQxFUZlMBqoNYIcjiqIoiocOHTp48OCePXveeecdq9V60003tba2zpo1a+7cuZBOgBIbp9udTaWAVRRkMiAxCiF+8BuQbNA0jaZpWA0mEgmv12symbZu3fr444/bbLYXXngh0NSUTiQgb1HVvYQgEDIsZywwoSxnFHo+KiJWm83V6Nv1/k5BEKxWq6+5qaery2a3i6KYymbmX3pppr//oYceevqZZxiMm4KhQwcPZrNZTyDQ39sLOf7qNuPM6SAkCEJFG8iPqYOAlRs8gBRwlUMUigwcDoemaVChk06nd+3alUwmt2zZ8vY775ho+utf//r111/f0tKiquqiRYugeArav8FaoAMcog7Qk2+x27VKBfKwsixv37591apVgUBg48aN8+fPL5fLHR0dgiC0TJ3a19sLuzLY6kzcCAH194RlTvsm8Giu1LGTrziH86kdW6v3/KRuVRLKxPzwnnv++Vv/5ZprrgE6ZhNrRgiVJcnpdILPefnllx9ZuxZjRCH8t7/ubW5qikQisixffPHF2Ww2Ho/PmTcvXYuwlyCUy+VMHAsJN1hNwZbdYrEA3RQsvSAOBn04sixDKysoLImiKAgCBKnBKR0/fvz9999/++239+3bpyjKtGnTFixYMH369GAwCHQibrdblmUwIeCA7+npOXz4cCQS2bRpUyqVuv322++6666GhgZZliFw5w+F+sJhSN9lMpm+vr6Fixdn+vthiThBLQeBogYe0Ti6e/zIz1/veK7mQ2PqHJwfLGfkhyN0uLPrR/fd+4c//KHKa55MpxRFsfN8uVx2u90/+/n/XrNmjc1mE0Vx69atV1y2RKlUoNbp5MmTQEfc39/vcrlqnt9qtUpKRZUrGkYMpgiFtYpS0VQzzWgYIVVTEaERxgxNEVTRVKRqlInhTGaFaERRWavFRNFiuQTH0AjD84imLGaWYc3JZDKZTEYikVgsFo/Ho9FoOBzu7++Hbu1MNjt3zpy2tja32z1t2rQ5c+a4XK4FCxbAKhGcFdRVSZIE9VyqqgI9XTqdDgQCsCidiJYDAOWjkYyjw8jPX+845vOpxxIQQnoOB1YgUEpXqVQgBWmysP962213/fCexYsX5/P5Uqnk8/lyuRzspEul0vr163+x/mmMkN1q27Rp05w5c/SqWoafJ+jzjGSkhuj5jGREdO3X1dMyGB3l9ESslQZoeKTjWJ+/3nGs51M3cO07l0YIhRBBqlwpK4piZhmC1Ei4J5FIQBA2l8uFQiGKoqAXvbu7e82aNf/xyn9OaQxEon1vvvHGjBkzzCaTpJO30bWoU50/535ESPf+dd6FH8fJcgyMA2CPAQV40NfQ09MTCATmf2FxJhp1Cy5FriiK0jZr9p///Oef/OQnXd3HZky7OJVKHT/aGWhuTsfjoigyE4DKbCQYJjM7PhMYD/0cA+MAKJdECEGHBQJJEkIaGhoOtLdD4KtcLudyuQcffHDFihWd3cdoRC1atKijowNj3HnoEMdxfl/Duen+OXfQY8PSw7hNzPA5kwTQ+4AQAv4aaDry+/3btm378X33URRKJGLbt2//9a9/fbizEyEU8Pk2bNgwffp0hDSOM9M0bzYzhw4d8AeCeqWjtV/4PLHUjptv0YNhOZMEQ6shIftB07Tf77v11lu++MUvxpJJCiHObEYINbjdv/rVr2bNmuXz+UqlUl9fH1TvE0IuuuiiYrFcs45uPG/nZ7xuzRfWs5xxo/80LGeSAHrFIQ8IRZOQ6/juv9y8bNmycDhcKBREUbz22mubm5sPHz4cbPTLstzg9WRNDE3TfKO/WCyeOHHC5/PXzo9dwJrvNWFYziQBNHWD+BnkMYBkg+UsLS0tU6dOhWg1NDYD7UsgEIhEIhhju90OgthNoWBZro9T5nzhvFNLG5ZznlHvFTBMXgVsBh5DFYzJZCKaZqIZhFBFkhFCJbFo5SwIIcbMppMpeKxWFIwQQ9HlcllDtVdBunxuOvPXW03prfrOu6pHvTBiawZOARNEIaP/akQwfM6kh1bz7ohr0YBoiEI6Ras1PcIwydzzFVEYNxg+Z5KjrnJYqt7jx7LcdoLD8DmTHTrVOvqMh3TNP9R8chirmTT7GT0YPmcyY5JcpBMShs+Z/DgnPqReGD7HwAUE0D5ASBvpj+5S8BwDghZjN+IhjwGnWqfwqWeGwvA5nzPo5U/08jxYr4G0lksgiBCs1dz014zFEQLbolrtrjo+R8+tDROLw6TGiDEGgZNzMiKENGihrdXUAFaEESJDPgXDcgycBkw0Hf63ms/WvWapdxWHT38wRiM5/cGp2eIq5TRC5LS/GpZj4DOBQkgbcZ1bnYSmExqG5Rj4TCCEkBFHFjCpcV//nMKwHAPjikkTczMsx8Bngp7P0bUEjUyONZthOQY+K+qtc6sdu9NZw01YMzPyOQZGj1HUuU0aGJYzAIqiQBcJDSpbVMWo9Y4vlUocx5XLZdCrYFnWarUCFx4cAOz6IB1V/ccqDzIAZLNAIg5aoIFaFihsJEkC3SuQCgTFReA7L5fLIFMHPW0Dqp0Mk8vlQNoJOPhAsLZQKACjLEyMEFIul0VR1DTN4Xan02nQoqtUKqByB1ToIP8kNDRAnylIdMHbAfECUNQqiiLHsjRFyZJUKhZ5u51oGiLk7J+qDM7Z0HSg9/mfd2YPw3IGoGkakOqDDjboNOlRE6FByn0yKOUHBHnFYhGuLYRQ1TyG/+bMZjPop1utVp7n4ZoG4WWz2QyCZ0DxSggBLiiQ+IXHYLSgoOr3+0VRtNlsuVyOpmlQp7Pb7VarNRgKgRQcxrhcLoPWoiAINputPxptamoCpXUQS3O5XE6nMxaLNTY1sSx7dP9+QRBA7s7ucGSz2XQ6PaWlBVQlRVF0u90gocMwDBDSwr3jbOD63c5557jRwwW3zxlGFRBjDNK8CCFwF9DKX/P4crlMCAEhCtDKBm0w4J4c+gXDKwJpcvVB9VeQGRuqJQoOpCoIAy4C7r6EEI7jQAAQHA6oI8JfwQeC3iPLsoQQcCDRaBSIYUEYvarFCQKdoihC93U+n+csFlAmjMfjLMsimgbJwUQiAZTQmVQKY9zY2KhIUj6fp2kTjbBUHNCiEXiHXJaKomi1WGoaD+xzRm48n4Uscqxh+JwBYIwTiUSV5o+iqOFXayCBhAbV9hiGwTQNqykwlep9cagJVa2o+it4D7guJUkCGU1Y6amqCqTjHMfBk7B8AqsAUjVFUQqFAkKIZdkTJ06A5jNCSNO0TCYD60DQugBG3Hg8DhqsoEevqmpzc3MymdQ0zev1gjJpqVQC1vNwR0c2m6VpGsS0EUKFQoFhGNZmC4fD4KAYhikUCiaTCRQFQbZWzydQRNeJ6B0/Yft/LjjLGWadLctyY2MjLDwQQrCk0TseNhvVtRlFUVKpBFsR8ABgQkOt5WyzQQiZTCawBFBKQoOqfXhQ1g8YBaqKgrCZgV0W0I3DloOiKEEQisVisVjMZrMgd6NpWrFYBIF4eC+KogiC4PV6JUkCYSZVVe12ezabZRhG0zRQC7S4XOCLWmfPjsViVUUnr9fLMEzkxAme511eL8/zZrOZ53lY4IGMIe9wgLSG7lcw4h80gVdrF5zl6IEQAtdBVWgaKP/0jgdLA2k+NLhd4XlekiRQewVRPhAbq55nqPHAA47jTCZTPp8vl8vANlgeVPOGwAAhRBRFUIahadrn88HLwRKRoii/32+1WjOZTGNLi6ZpDocDFJocDkexWITtB0Ion89bLJZgMAjuFPZIHMclk8mGQAAhBJc7eJVUb6/VarVarWIm0zp7tqIooMtdLpcdDgdFUR6P51hHByzSZFlOJpP2QAD01TLpNNwC9D7nuizBsJyJAj0fwnGcpmnbt2+HyxEhBBsYveNVVYWdAxqMxXV1dYEBgOWAwib4B3S6tQz9tb29HTYtVaFzhmHgpeHM4CtkWc7n8xAE+/TTTyuVSlVb0+rxHDt2LBKJfPLBBxjjI0eO2BwOURT7+vqAIDeRSNhsNnBf6XR68+bNBw4c4Hl+3759kiS53e4jBw+CiHw4HD5y5Eg4HAYN+qNHj7755pupWEzwePbu3RuJRPbu3Qs6mzt27AAOt86OjmOdXV0dncf+utcluKRSuVwsmRkTJujsn8mEC85yiM6P1WbrTyb/76uvEoQsVivCmAxbYWW32202Gy8IoNKaz+c//fTTI0eOyJWKoqoEIUxRFE1TNI0pCs5WPefAmTEmCL362mvFUskfDLIcB9PgLJZSuYwwVjVN1TST2Wyz280sWxDFcE9Pe3v7W2+9BZEu2PlUcrktW7akUqn169dns9mXX345l04fOXKkvb3d6XS+8eabf9yyRZJlM8tKsnwyHG7fsycQDCZTqeeef37X7t2MyfTzJ55IpdPdJ05s3ry5MRj429/+RtP0U089lc/n3W73ww8/LJdKL7zwQqVS6e7ufuedd1Kp1G9/+9tgMGi327dt2xaN9YrF/PMbn5WkIqZIg98bT0QR1s7+wSPv/Bnf/p+hQb+hapLVi2Cgu2HIv0za2BohBJj7QHKIpuldu3Zt2bq1UBSnTZu2e/fujRs3/ulPf9q/f39zc/NXv/rVdT97TNM03ulAFF772DpBEK677rrXX39dzBduvOGGxx9/vLW19dJLL13xve/lE4n+/v7HHnts+fLlc+fO3bBhQ7lc/uY3v4kQstntT61/et26dc8++2wqlSqVSrfddtsDDzxwww03uFyunTt3ptPp1atX33vvvUuXLqUo6oYbbnjn//3F5XG3trYeP378xhtv3Lhx4wMPPGDm2Jdeemn58uW///3vV6xYsWHDhtbW1mnTpr311ltTgiGn0/nKK690dHQ8+uijsMBzu93hcJgQUiwWW1paTCZTsVi0WCxlSUok+wkhUkUulkssyza1NGdy2b/u2ztv3jwzx774u//jEJw+f4OJNT+y9tHNW7eWSkVecH7U/snCLyyaPXeOw+HYsfODYye6WaslMCW0+PIl999//5fLJdZqeff9HVf9wzKTiZna3HzJpZfuePfd8IkTLpcrmUgIDkdtdUSMEMY1ywJUUiuQTRCmaFRLxV4v1YPr0SPCaKDSm2BEEMJQGUQIQkjVVKKoiKERRTEUzWAKEYK0U0qTk9bnQC6lGqSCPbfT6bz22mvnzJ/3pWuu/nhP+3sfvP/Ik79IpJI7d+9qnTnjkXVrWavlrW1vx5P9vka/rCqFQmHVqlWCIFx55ZU/+MEPDhw4oIoiTdNbtmy58847r7vuus2bN3/rW99avnx5V1dXKBSCQNknf90jq8qatY/miyLDmr+w5LJ/veeHTz/zy3Xrnw41NyVSyVlz2n606qcf72k3cexlV1z+wP/8H6+89urXb7j+fz380Kw5bSaOZVjzzf915b3//m+7Pv7ojrvv+qflX8sW8g2BxiuvvHLmzJnpdPqOO+6YN29eV1cXy7I2p1NV1ba2thdffVVV1Y8++shit0Pw+r333ksmk6ls5o9/2ur2eUuyFE/2B6aE/mn51+xOh5W3P/rYuje3/PGpDc/JqoIZOpNJW7zeppYWnucPHTrU2Nxs9fl6e3tdLpfNZgsGg11dXZAP9fl8t9xyy5QpU2S5bLGymirTDC5LRY/X5WvwpDPJmj5n0I2M/KdujG5fBEXcaKjnqboacuqYoZi0PgcPpk1gE6JpmsfjueSSS9LZTFNT0/vvvvcvK24Kd59Y+c/fvOqqq2Zc3PrUU0/t3PE+x3FX/fdlH77/waH9B1qnXYQQKhQK0WhUURTITmqaZuX5L33pS0888cTChQuXLFnyu9/9rru7++GHH961a5fL7e7o6Jh+0cU7tr+7ZvVDyXgin8kW8wW5P/m976687447d+3adft/u+3tP7+lSLIqVxRJRqp2aP8Bt1OwmNnecM83vrZcLpVpmnZPabrisiW33nrr888//w+XX7Fj+7uJaKxSqTR4fZCK4TgukUjMmTMnnUhkMhmHw3H84MGpU6fOnz//8XXrOjo6fvrTn/7s8cd/+atnSqXS3XffveQLi51Op9Xj3b3zw+c3PHvddddJxZLDZl/35FM0wkRRf/38xrtuv2PJkiXd3d2rV6/+x2VXfu/bKxoaGq798tUMprKp9DNPr9+zZ8/dd9/t9/qOHjr85M+fWLRokcViefHFFy0Wi9vtnj59eqFQkGUZAtzn7Ksc8QZpmCI3PeMZdcZonNQOxx+wLwebAfvBGKuaJni9/fGY2WxOpVJTp08nsowZJpNMglpyPp8HHclMJlMoFJqam8Vszmq1JpNJk8lULpc9Hk8sFnM6nZCBgXqZcrmcTqctFotTECRJMrHmDz74QBCEF1988cknn6ym/KPRqM/no2n6wQcfvO+++0KzZkU7OkBQzeFwfPLJJzt37vz+978fjUYh+tzc3JzP551O58mTJ1taWvL5vKIoiiTb7Xaz2Qy1MxAnkCQpmUy2XHRRbzjMcVw6nb54+nQxnzezbC6X452Onp4ej8djs9kgxUlRlMPhAGkqp9PpaWhIRKO+xsZ0fz/P85CZ0TTN7XYTQsxWqypJhULBOWXKif37XS4XRA4JISzLsmY2l8lA0onzeFLhMAQV9bSsNbrOSjcdFXvdsCdV+/w1j8dDzJJgRLCGEBroJlc1VVWtrJl3uQv9cQZTWCMYY4oacDaT1nLA1cBbg2/aZrMxdns2HhdLRdAohhBwpVLxer29vb35fL6trS2ZTNI07XQ6VVVNpVJYI3ARl0olCB8zDAM7KEizQBkLQoiiqGgs5nQ6o/EYx3F79+5dsGCBJEmBQKBYLAIDeqVSyWQyvb29s2fPLhQKUDIDks6dnZ0cxwWDQavVqiiKxWKhzebecLiqCOvyeHp7euRSeeq8eSf27/d4PKqq9vX1URQVCoVsPl/P0aM8z0OcUBTFTCajqCpFURfPm9t77Fg+n29oaOB5vr+/H+rNIEIIZROSJLEsa7fbS6WSIAi9vb1OpxMi7GazuVAo8DxfLBZDodDx48eDwSBMXhRFiqBAIACmLooiwzAOhyMejzscjrO/FIIQovDIKwNI/Zaj53b0jqcGvY5hOacAqzXITiqKwjAMx3FypWJ38KlUCpKJoVAol8tBup3n+UKh4PP5uru7S6WS1+sVHE4Tx0V7eqAiJpvNgslpmqYoCiRVBEGIxWJgSx6Ppy8a9Tb4EELgE7xeb7lcTiaTLVOndh8/zvM8y7KlUglu2CaTKZVKBQIB2EuwLAtaHWhwtQl5UohWVyoVJ++gKQpqfDDG1bh5NpsFYyOEeHy+k93dZrPZ5/NJkoQpqqOrc/4VV2QikVKplEwmZ8yYEYlE/H4/x3HhcNjpdILntNvtkUiEpmko4UEIpdNpr9ebSqWCwWAsFrPb7RjjWCwmCAK82f54IhAIJOLxSqXi9/uh5A8SUHCGM78RVJ/lIEIRjLValqPHWEJI7f6fmsdjgmg0MJ96LYd+4N//DR5BTS5CSNM0jufL+bzOm/l8hOUxxuBz4GajaRqUh2mEmBgTQzMmhjGbzOlU2sHzFo4rl8qu5uZ0X1+5VHY6nKFQSFPUQqGQ7u+32+3FYtFutzscDqhxxIMyT5VKJZ/Pa5rm9/sr7ho+AAAFf0lEQVQhk+j1+WLRmNViMZtMHMtGeiIcyxXFoqaorNns8frSyZTH7aEwpjAFJV5SWTIxjFSWiKZRmJIl2elweD3eUrHkbwzE+qIOnpcl2W6zQXlLJpNpbGxUFCWRSIAFMgxjt9sJIRaLpa+3NxgMxuNx75Qp4ePHrVar1WKNnQw7eJ5juVBTcyQcDgYCqqLmslm7za6pWj6Xc/COnnDP1KnTrJylIssWziJLMtEIhalSsUg0TVUUB++IRaPNTU2IEFmSxYLIcVwiHieEOJ1OURTT6bQsy9Xtpe4XM+IaAoIwwhiTGv9C1ToP2IxuRcLZuQjQyq4SeeCBOBtCA6EGE0OzFotcFCmMgXAHDwb6Jq3lwFK7usmBfCJCiAx6A4qi8vm81+uNRqNQKZPo6WlqagIJmlKpJEmSy+WCimDwWlD2D9sMSMBDxrNhypTIyZMul4thmL6+PrCiUqlUTbDCyofnebFQMJlMvb29drs9kUiYTKaqq+d5Hio+BUHI5/PFYtFsNsuS5Pf7ISRgs9kqlYrX4/F6vV1dXTzPW61WQRAg2AV2W50ey7KxSCQQCMiybLfbOY6D8jZNUardCrBUs1gsGGPY9uSyWWiaSKfTGGOfzxePx2G7D3V6giBAxZqqqrAGbmxszOfz8AEKggDqVxDSrPm94Nr8U7WBTyvEOf1POvsWvatTd7U2WsuZzKs1A+OAYfR8zgZc1vW0eeruc3TPT+uu4mo+r7dawxqB1ZrD7YHVGjVgOQN3hEmbzzEwATGKEHBd/Tyj6P8ZNSZtPkcP9X6y9baIjPU3N9HmMwrUm5+pt5+n5vG6m4zRJnQuOMsx8DkCJvVd2RTR1bI+5zAsx8C4oq5b/OhsYHwaSQ3LMTBxAT6nLvvRrbI510yIF6LlnJM6qHNy/noxOeZTL8b6+xodLkTLIRhhMqJxrM9f7zhJ5jOYePn7I+R+6unSqSnjgRDSW8RhhCmEtFP2OaiaclYrHugaVM9ywVnOQPgFIQ2PaBzr89c7Trj51KnnQ6qKGiMaa+skDI+R6/9o1Zgbrg5aNRGKVRWpDNTzaBSFNUJhqhqzuOAsB6DhkY5jff56x8/1fKqXNMEjHUfXpVMLNaZbvRnVfCtnFC/AzWLo/xowYKBu1K+5NRazMHDBYMIyrNeL0azWDOMx8Hcx6S8SY7VmwMBoULfPmTTe1sCYYtJfJ4bPMWBgNND1OUD4jQbLGapFDXrc/gYMDMUw0jc1UVefzzCo9/rUtNqCJdAKyTAMommgfSWE4CG1QLovAzM4w2ygDbCumRkwMBKcq7qyei1W73VBRYKmaYuiQAcxxhgjXG1X0LWcoTYz1HJkValrZgYMDIVes815sxxGp+t7CI8+gBCChjxTn89BCFV0vJsBAyPBWFtO3efRWUMBNSys1vCgIJJGtCrLlK7lAAPDUG8z8ECHCc6Agb+LYbqdz1VD2jBiYTWhkNo+CthUGIZBilKVVAIefThA13KAS+UMn6Migi6AJJeBsQM9xldPvRECvTVUVfAYKUpVig+PfLWGTjceCiOaHuv3bmAyQ+/qqXd/ood6I1gUrm0CIGDMsixiWRBBGmB2r/ocTBCpyoMMeSwEggiRgT4JjZwazabP8sYMXOggg+MZvTiqNuKunWFHuEpHfrze6k5VkaIghkEUbWU5VVUVVVGJRjODfGtypGfwFUl1rHqZs1/LgIHPjnNiI+dk1J2hjsYedcrn4IEQNYUxIQTG6qlRrdGAgc8Ovatr/MfhpneWrmv1AOqM31GtSLYBAxcazraCM35lqs9WycshGGAYjwEDNb0NgKlay9kPxneSBgxMIJxtM2fYBXPGs+B8kOFzDBg4a58zFGfmd/SOM2DgQsPw+///D9HIyZkkMrK/AAAAAElFTkSuQmCC)"
      ],
      "metadata": {
        "id": "dZCPLnQgKUZA"
      }
    },
    {
      "cell_type": "code",
      "source": [
        ""
      ],
      "metadata": {
        "id": "D3Mk1qDVIgUA"
      },
      "execution_count": null,
      "outputs": []
    }
  ]
}